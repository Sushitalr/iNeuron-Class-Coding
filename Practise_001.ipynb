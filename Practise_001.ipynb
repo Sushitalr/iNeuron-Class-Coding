{
  "cells": [
    {
      "cell_type": "markdown",
      "metadata": {
        "id": "BPK0HGokJYFC"
      },
      "source": [
        "# New Section"
      ]
    },
    {
      "cell_type": "code",
      "execution_count": null,
      "metadata": {
        "colab": {
          "base_uri": "https://localhost:8080/"
        },
        "id": "JI8e1h9r0bKX",
        "outputId": "c4695b69-5f62-49b9-9782-1aec33e46a45"
      },
      "outputs": [
        {
          "name": "stdout",
          "output_type": "stream",
          "text": [
            "hello sushital\n"
          ]
        }
      ],
      "source": [
        "print(\"hello sushital\")"
      ]
    },
    {
      "cell_type": "code",
      "execution_count": null,
      "metadata": {
        "colab": {
          "base_uri": "https://localhost:8080/"
        },
        "id": "wceUKq2B06qY",
        "outputId": "a4d18b54-662e-4040-cdf7-3ca935f87ba9"
      },
      "outputs": [
        {
          "name": "stdout",
          "output_type": "stream",
          "text": [
            "greetings from sushital\n",
            "Good Afternoon\n"
          ]
        }
      ],
      "source": [
        "print(\"greetings from sushital\")\n",
        "print(\"Good Afternoon\")\n"
      ]
    },
    {
      "cell_type": "code",
      "execution_count": null,
      "metadata": {
        "colab": {
          "base_uri": "https://localhost:8080/",
          "height": 166
        },
        "id": "I1QECDP81FrS",
        "outputId": "0fc320b3-6777-43b3-9464-111d78d8ec94"
      },
      "outputs": [
        {
          "ename": "NameError",
          "evalue": "ignored",
          "output_type": "error",
          "traceback": [
            "\u001b[0;31m---------------------------------------------------------------------------\u001b[0m",
            "\u001b[0;31mNameError\u001b[0m                                 Traceback (most recent call last)",
            "\u001b[0;32m<ipython-input-4-35ceb22ef007>\u001b[0m in \u001b[0;36m<module>\u001b[0;34m\u001b[0m\n\u001b[0;32m----> 1\u001b[0;31m \u001b[0mPrint\u001b[0m\u001b[0;34m(\u001b[0m\u001b[0;34m\"Good Evening\"\u001b[0m\u001b[0;34m)\u001b[0m\u001b[0;34m\u001b[0m\u001b[0;34m\u001b[0m\u001b[0m\n\u001b[0m",
            "\u001b[0;31mNameError\u001b[0m: name 'Print' is not defined"
          ]
        }
      ],
      "source": [
        "Print(\"Good Evening\")"
      ]
    },
    {
      "cell_type": "code",
      "execution_count": null,
      "metadata": {
        "colab": {
          "base_uri": "https://localhost:8080/",
          "height": 35
        },
        "id": "pwRM_kkW1J5r",
        "outputId": "acc70e8d-71c2-4b9d-8ce4-e557a9295f61"
      },
      "outputs": [
        {
          "data": {
            "application/vnd.google.colaboratory.intrinsic+json": {
              "type": "string"
            },
            "text/plain": [
              "'good afternoon sushital'"
            ]
          },
          "execution_count": 5,
          "metadata": {},
          "output_type": "execute_result"
        }
      ],
      "source": [
        "\"good afternoon sushital\""
      ]
    },
    {
      "cell_type": "code",
      "execution_count": null,
      "metadata": {
        "colab": {
          "base_uri": "https://localhost:8080/"
        },
        "id": "yzPuLmOv1Q7_",
        "outputId": "01cd56a7-e526-4ac2-de72-2620a713c0ac"
      },
      "outputs": [
        {
          "name": "stdout",
          "output_type": "stream",
          "text": [
            "good afternoon sushital\n"
          ]
        }
      ],
      "source": [
        "print(\"\"\"good afternoon sushital\"\"\")"
      ]
    },
    {
      "cell_type": "code",
      "execution_count": null,
      "metadata": {
        "colab": {
          "base_uri": "https://localhost:8080/"
        },
        "id": "ltEOiCIr1Xk1",
        "outputId": "7177dee6-ff2e-406c-d60d-20f307d255f5"
      },
      "outputs": [
        {
          "name": "stdout",
          "output_type": "stream",
          "text": [
            "good afternoon \n",
            "sushital\n"
          ]
        }
      ],
      "source": [
        "print(\"\"\"good afternoon \n",
        "sushital\"\"\")"
      ]
    },
    {
      "cell_type": "code",
      "execution_count": null,
      "metadata": {
        "colab": {
          "base_uri": "https://localhost:8080/"
        },
        "id": "xhgFyWSF1f5I",
        "outputId": "6e19eeb6-a6c4-4319-e82f-9df9a6282359"
      },
      "outputs": [
        {
          "name": "stdout",
          "output_type": "stream",
          "text": [
            "hello,\n",
            "this is Sushital\n",
            "from\n",
            "India\n"
          ]
        }
      ],
      "source": [
        "print(\"\"\"hello,\n",
        "this is Sushital\n",
        "from\n",
        "India\"\"\")"
      ]
    },
    {
      "cell_type": "markdown",
      "metadata": {
        "id": "PXFlRg0O1xsI"
      },
      "source": [
        "Comments"
      ]
    },
    {
      "cell_type": "code",
      "execution_count": null,
      "metadata": {
        "colab": {
          "base_uri": "https://localhost:8080/"
        },
        "id": "GSYu_J7r10Fj",
        "outputId": "76169915-8f7b-4018-84cf-c255e25cb7c1"
      },
      "outputs": [
        {
          "name": "stdout",
          "output_type": "stream",
          "text": [
            "hello everyone\n"
          ]
        }
      ],
      "source": [
        "#say hello to everyone\n",
        "print(\"hello everyone\")"
      ]
    },
    {
      "cell_type": "markdown",
      "metadata": {
        "id": "4NCZOrg22E4C"
      },
      "source": [
        "Multi line comments"
      ]
    },
    {
      "cell_type": "code",
      "execution_count": null,
      "metadata": {
        "colab": {
          "base_uri": "https://localhost:8080/"
        },
        "id": "yYw17tE72HSp",
        "outputId": "1a817454-5d25-4a5d-fa08-77f51208840e"
      },
      "outputs": [
        {
          "name": "stdout",
          "output_type": "stream",
          "text": [
            "hello everyone\n"
          ]
        }
      ],
      "source": [
        "#say Hello\n",
        "#to everyone\n",
        "print(\"hello everyone\")"
      ]
    },
    {
      "cell_type": "code",
      "execution_count": null,
      "metadata": {
        "colab": {
          "base_uri": "https://localhost:8080/"
        },
        "id": "ysIz9Ayz2aF3",
        "outputId": "3290d586-0e49-47b8-e225-b2bb594dcc53"
      },
      "outputs": [
        {
          "name": "stdout",
          "output_type": "stream",
          "text": [
            "hello, my name is \"Sushital\"\n"
          ]
        }
      ],
      "source": [
        "print('hello, my name is \"Sushital\"')"
      ]
    },
    {
      "cell_type": "code",
      "execution_count": null,
      "metadata": {
        "colab": {
          "base_uri": "https://localhost:8080/"
        },
        "id": "JbhJMBcF2tTE",
        "outputId": "5ccc92e4-b754-49e0-ff16-cfc7792f70cc"
      },
      "outputs": [
        {
          "name": "stdout",
          "output_type": "stream",
          "text": [
            "my name is sushital\n"
          ]
        }
      ],
      "source": [
        "name=\"sushital\"\n",
        "print(f'my name is {name}')\n"
      ]
    },
    {
      "cell_type": "code",
      "execution_count": null,
      "metadata": {
        "colab": {
          "base_uri": "https://localhost:8080/"
        },
        "id": "GzX8mJpU3EPN",
        "outputId": "6f281692-2062-4475-f1df-68c36329ab10"
      },
      "outputs": [
        {
          "name": "stdout",
          "output_type": "stream",
          "text": [
            "my name is sushital\n"
          ]
        }
      ],
      "source": [
        "name=\"sushital\"\n",
        "print('my name is ' + name)"
      ]
    },
    {
      "cell_type": "markdown",
      "metadata": {
        "id": "i2pcoW2c3ty3"
      },
      "source": [
        "Maths"
      ]
    },
    {
      "cell_type": "code",
      "execution_count": null,
      "metadata": {
        "colab": {
          "base_uri": "https://localhost:8080/"
        },
        "id": "Qlx7TL-f31vd",
        "outputId": "5f3d0df3-b61e-4035-93d7-0ec0c6fd1419"
      },
      "outputs": [
        {
          "data": {
            "text/plain": [
              "481"
            ]
          },
          "execution_count": 21,
          "metadata": {},
          "output_type": "execute_result"
        }
      ],
      "source": [
        "245 + 236 # sum of nums"
      ]
    },
    {
      "cell_type": "code",
      "execution_count": null,
      "metadata": {
        "colab": {
          "base_uri": "https://localhost:8080/"
        },
        "id": "2dHUIdVW37Tq",
        "outputId": "9a22f605-d661-4192-d8c3-e37e4d856128"
      },
      "outputs": [
        {
          "data": {
            "text/plain": [
              "57820"
            ]
          },
          "execution_count": 22,
          "metadata": {},
          "output_type": "execute_result"
        }
      ],
      "source": [
        "245 * 236 # multiplication of nums"
      ]
    },
    {
      "cell_type": "code",
      "execution_count": null,
      "metadata": {
        "colab": {
          "base_uri": "https://localhost:8080/"
        },
        "id": "9BEiuGof4AS7",
        "outputId": "efc5f751-2079-4d1d-da7f-e594363235e9"
      },
      "outputs": [
        {
          "data": {
            "text/plain": [
              "10.208333333333334"
            ]
          },
          "execution_count": 23,
          "metadata": {},
          "output_type": "execute_result"
        }
      ],
      "source": [
        "245 / 24 # division of nums"
      ]
    },
    {
      "cell_type": "code",
      "execution_count": null,
      "metadata": {
        "colab": {
          "base_uri": "https://localhost:8080/"
        },
        "id": "pZyNA_E84IBW",
        "outputId": "8afc2255-37c5-4452-9adf-b33e656c925f"
      },
      "outputs": [
        {
          "data": {
            "text/plain": [
              "94818816"
            ]
          },
          "execution_count": 24,
          "metadata": {},
          "output_type": "execute_result"
        }
      ],
      "source": [
        "456**3 # power of 456 raised to 3"
      ]
    },
    {
      "cell_type": "code",
      "execution_count": null,
      "metadata": {
        "colab": {
          "base_uri": "https://localhost:8080/"
        },
        "id": "7x1Lz0tK4VGl",
        "outputId": "4aa135ad-16fa-41b8-dc79-d480c4467bef"
      },
      "outputs": [
        {
          "data": {
            "text/plain": [
              "0"
            ]
          },
          "execution_count": 25,
          "metadata": {},
          "output_type": "execute_result"
        }
      ],
      "source": [
        "456%3 #modulo operator which gives remainder"
      ]
    },
    {
      "cell_type": "code",
      "execution_count": null,
      "metadata": {
        "colab": {
          "base_uri": "https://localhost:8080/"
        },
        "id": "aualhI-_4eB4",
        "outputId": "270db1cd-b860-48a2-aac6-3f60348cfbb9"
      },
      "outputs": [
        {
          "data": {
            "text/plain": [
              "0"
            ]
          },
          "execution_count": 26,
          "metadata": {},
          "output_type": "execute_result"
        }
      ],
      "source": [
        "786 % 2"
      ]
    },
    {
      "cell_type": "code",
      "execution_count": null,
      "metadata": {
        "colab": {
          "base_uri": "https://localhost:8080/"
        },
        "id": "wnIBKDd04iHV",
        "outputId": "51e662b7-0c39-409d-e2b0-f9d633623dad"
      },
      "outputs": [
        {
          "data": {
            "text/plain": [
              "5"
            ]
          },
          "execution_count": 27,
          "metadata": {},
          "output_type": "execute_result"
        }
      ],
      "source": [
        "999 % 7"
      ]
    },
    {
      "cell_type": "code",
      "execution_count": null,
      "metadata": {
        "colab": {
          "base_uri": "https://localhost:8080/"
        },
        "id": "5MCd__474uCs",
        "outputId": "f355f718-2f92-4762-a8de-13445fce569e"
      },
      "outputs": [
        {
          "name": "stdout",
          "output_type": "stream",
          "text": [
            "Result\n"
          ]
        }
      ],
      "source": [
        "456*23\n",
        "print(\"Result\")"
      ]
    },
    {
      "cell_type": "code",
      "execution_count": null,
      "metadata": {
        "colab": {
          "base_uri": "https://localhost:8080/"
        },
        "id": "tNppgMmp405o",
        "outputId": "dbf5c784-79b4-4039-d5eb-44f4933e9354"
      },
      "outputs": [
        {
          "name": "stdout",
          "output_type": "stream",
          "text": [
            "10488\n",
            "Result\n"
          ]
        }
      ],
      "source": [
        "print(456*23)\n",
        "print(\"Result\")"
      ]
    },
    {
      "cell_type": "code",
      "execution_count": null,
      "metadata": {
        "colab": {
          "base_uri": "https://localhost:8080/"
        },
        "id": "3IBuZys345cr",
        "outputId": "cab2284d-6454-4db7-9899-5aab44437ae1"
      },
      "outputs": [
        {
          "name": "stdout",
          "output_type": "stream",
          "text": [
            "456*23\n",
            "Result\n"
          ]
        }
      ],
      "source": [
        "print(\"456*23\")\n",
        "print(\"Result\")"
      ]
    },
    {
      "cell_type": "code",
      "execution_count": null,
      "metadata": {
        "colab": {
          "base_uri": "https://localhost:8080/"
        },
        "id": "lhJEePkA4_Wj",
        "outputId": "452dfbaf-f648-4190-8f46-bbc622d35407"
      },
      "outputs": [
        {
          "name": "stdout",
          "output_type": "stream",
          "text": [
            "10488\n"
          ]
        }
      ],
      "source": [
        "result=456*23\n",
        "print(result)"
      ]
    },
    {
      "cell_type": "markdown",
      "metadata": {
        "id": "FIFs8eCz5auK"
      },
      "source": [
        "Variables"
      ]
    },
    {
      "cell_type": "code",
      "execution_count": null,
      "metadata": {
        "colab": {
          "base_uri": "https://localhost:8080/"
        },
        "id": "D4uX0CM05PcK",
        "outputId": "ede0695f-ad00-4ee1-bbaf-7bc95611da45"
      },
      "outputs": [
        {
          "name": "stdout",
          "output_type": "stream",
          "text": [
            "30\n"
          ]
        }
      ],
      "source": [
        "a=10\n",
        "b=20\n",
        "c=a+b\n",
        "print(c)"
      ]
    },
    {
      "cell_type": "code",
      "execution_count": null,
      "metadata": {
        "colab": {
          "base_uri": "https://localhost:8080/"
        },
        "id": "PNyXaDG55ez4",
        "outputId": "a21206e1-efd5-4236-fe83-30fc3cf762c2"
      },
      "outputs": [
        {
          "name": "stdout",
          "output_type": "stream",
          "text": [
            "30\n"
          ]
        }
      ],
      "source": [
        "print(a+b)"
      ]
    },
    {
      "cell_type": "code",
      "execution_count": null,
      "metadata": {
        "colab": {
          "base_uri": "https://localhost:8080/"
        },
        "id": "MNbGeX0F5j5H",
        "outputId": "5238ab5e-b8cd-4dc8-ef8b-9043e4669ffa"
      },
      "outputs": [
        {
          "name": "stdout",
          "output_type": "stream",
          "text": [
            "0.5\n"
          ]
        }
      ],
      "source": [
        "print(a/b)"
      ]
    },
    {
      "cell_type": "markdown",
      "metadata": {
        "id": "34OSVY0f5y0X"
      },
      "source": [
        "# Fundamental data types"
      ]
    },
    {
      "cell_type": "markdown",
      "metadata": {
        "id": "0EjWfY2R55dO"
      },
      "source": [
        "integers"
      ]
    },
    {
      "cell_type": "code",
      "execution_count": null,
      "metadata": {
        "colab": {
          "base_uri": "https://localhost:8080/"
        },
        "id": "dLr209r0563O",
        "outputId": "420b6144-7678-4583-bc06-1f34249f01c3"
      },
      "outputs": [
        {
          "data": {
            "text/plain": [
              "int"
            ]
          },
          "execution_count": 36,
          "metadata": {},
          "output_type": "execute_result"
        }
      ],
      "source": [
        "a=7\n",
        "type(a)"
      ]
    },
    {
      "cell_type": "code",
      "execution_count": null,
      "metadata": {
        "colab": {
          "base_uri": "https://localhost:8080/"
        },
        "id": "sZnlDtxH5_vr",
        "outputId": "625cf25e-8669-4383-866a-c694edf64068"
      },
      "outputs": [
        {
          "data": {
            "text/plain": [
              "int"
            ]
          },
          "execution_count": 37,
          "metadata": {},
          "output_type": "execute_result"
        }
      ],
      "source": [
        "b=99999\n",
        "type(b)"
      ]
    },
    {
      "cell_type": "markdown",
      "metadata": {
        "id": "QEbP3vTQ6FVP"
      },
      "source": [
        "floats - contains decimals"
      ]
    },
    {
      "cell_type": "code",
      "execution_count": null,
      "metadata": {
        "colab": {
          "base_uri": "https://localhost:8080/"
        },
        "id": "AjZCeiXS6Hv_",
        "outputId": "849bf6a3-0d4d-40f4-e208-657272d305b9"
      },
      "outputs": [
        {
          "data": {
            "text/plain": [
              "float"
            ]
          },
          "execution_count": 38,
          "metadata": {},
          "output_type": "execute_result"
        }
      ],
      "source": [
        "pi=3.14\n",
        "type(pi)"
      ]
    },
    {
      "cell_type": "code",
      "execution_count": null,
      "metadata": {
        "colab": {
          "base_uri": "https://localhost:8080/"
        },
        "id": "1qKHV6LM6Nf1",
        "outputId": "f1eb71e0-7111-4bdb-ec7d-02224ba6bb02"
      },
      "outputs": [
        {
          "data": {
            "text/plain": [
              "float"
            ]
          },
          "execution_count": 41,
          "metadata": {},
          "output_type": "execute_result"
        }
      ],
      "source": [
        "x=2\n",
        "y=2.5\n",
        "type(x)\n",
        "type(y)"
      ]
    },
    {
      "cell_type": "code",
      "execution_count": null,
      "metadata": {
        "colab": {
          "base_uri": "https://localhost:8080/"
        },
        "id": "VU-fz97l6kFt",
        "outputId": "48588b4d-285e-4bad-c2ac-7588ba6c6207"
      },
      "outputs": [
        {
          "data": {
            "text/plain": [
              "int"
            ]
          },
          "execution_count": 42,
          "metadata": {},
          "output_type": "execute_result"
        }
      ],
      "source": [
        "x=2\n",
        "type(x)\n"
      ]
    },
    {
      "cell_type": "code",
      "execution_count": null,
      "metadata": {
        "colab": {
          "base_uri": "https://localhost:8080/"
        },
        "id": "SJ4iEwh-6ott",
        "outputId": "6b1be3bd-b99a-4b58-fe3a-793381ee5af2"
      },
      "outputs": [
        {
          "data": {
            "text/plain": [
              "float"
            ]
          },
          "execution_count": 44,
          "metadata": {},
          "output_type": "execute_result"
        }
      ],
      "source": [
        "x=2\n",
        "type(x)\n",
        "\n",
        "y=2.5\n",
        "type(y)"
      ]
    },
    {
      "cell_type": "markdown",
      "metadata": {
        "id": "JqLr4uT77Mwf"
      },
      "source": [
        "complex numbers"
      ]
    },
    {
      "cell_type": "code",
      "execution_count": null,
      "metadata": {
        "colab": {
          "base_uri": "https://localhost:8080/"
        },
        "id": "h4FXrFrF7OGI",
        "outputId": "0275aae6-4c2f-4282-aa07-029afcadb124"
      },
      "outputs": [
        {
          "data": {
            "text/plain": [
              "(3+4j)"
            ]
          },
          "execution_count": 48,
          "metadata": {},
          "output_type": "execute_result"
        }
      ],
      "source": [
        "a=3+4j\n",
        "a"
      ]
    },
    {
      "cell_type": "code",
      "execution_count": null,
      "metadata": {
        "colab": {
          "base_uri": "https://localhost:8080/"
        },
        "id": "p-q2E_Ri7XyL",
        "outputId": "9399ad69-3338-443f-d1f7-b694bc396a20"
      },
      "outputs": [
        {
          "data": {
            "text/plain": [
              "complex"
            ]
          },
          "execution_count": 49,
          "metadata": {},
          "output_type": "execute_result"
        }
      ],
      "source": [
        "type(a)"
      ]
    },
    {
      "cell_type": "code",
      "execution_count": null,
      "metadata": {
        "colab": {
          "base_uri": "https://localhost:8080/"
        },
        "id": "f9qDkvAP7dFB",
        "outputId": "4ff495f6-b404-49b8-b296-5abcb4f6aa95"
      },
      "outputs": [
        {
          "data": {
            "text/plain": [
              "3.0"
            ]
          },
          "execution_count": 50,
          "metadata": {},
          "output_type": "execute_result"
        }
      ],
      "source": [
        "a.real"
      ]
    },
    {
      "cell_type": "code",
      "execution_count": null,
      "metadata": {
        "colab": {
          "base_uri": "https://localhost:8080/"
        },
        "id": "mnbG2CrH7fB5",
        "outputId": "f5e8ed97-ef27-440e-9950-2487f50f9647"
      },
      "outputs": [
        {
          "data": {
            "text/plain": [
              "4.0"
            ]
          },
          "execution_count": 51,
          "metadata": {},
          "output_type": "execute_result"
        }
      ],
      "source": [
        "a.imag"
      ]
    },
    {
      "cell_type": "markdown",
      "metadata": {
        "id": "ZDSlkWH87H_y"
      },
      "source": [
        "dynamic typing"
      ]
    },
    {
      "cell_type": "code",
      "execution_count": null,
      "metadata": {
        "colab": {
          "base_uri": "https://localhost:8080/"
        },
        "id": "UybdTJ9e69Q7",
        "outputId": "35db91d4-786c-4f61-c8e0-635f6d4547b4"
      },
      "outputs": [
        {
          "name": "stdout",
          "output_type": "stream",
          "text": [
            "<class 'int'>\n",
            "<class 'float'>\n"
          ]
        }
      ],
      "source": [
        "x=2\n",
        "print(type(x))\n",
        "\n",
        "y=2.5\n",
        "print(type(y))"
      ]
    },
    {
      "cell_type": "code",
      "execution_count": null,
      "metadata": {
        "colab": {
          "base_uri": "https://localhost:8080/"
        },
        "id": "7URgiA1w7lpj",
        "outputId": "2cac4767-88f1-4775-f87f-ae1fd813286d"
      },
      "outputs": [
        {
          "name": "stdout",
          "output_type": "stream",
          "text": [
            "sushital\n"
          ]
        }
      ],
      "source": [
        "a=50\n",
        "a=100\n",
        "a=\"sushital\"\n",
        "\n",
        "print(a)"
      ]
    },
    {
      "cell_type": "code",
      "execution_count": null,
      "metadata": {
        "colab": {
          "base_uri": "https://localhost:8080/"
        },
        "id": "TgzUzfbK73NZ",
        "outputId": "b03c9a8f-8aa8-4673-9472-01a6acdcda77"
      },
      "outputs": [
        {
          "name": "stdout",
          "output_type": "stream",
          "text": [
            "<class 'int'>\n",
            "<class 'float'>\n",
            "<class 'str'>\n"
          ]
        }
      ],
      "source": [
        "a = 50 \n",
        "print(type(a))\n",
        "b = 100.20\n",
        "print(type(b))\n",
        "c = \"sushital\"\n",
        "print(type(c))"
      ]
    },
    {
      "cell_type": "code",
      "execution_count": null,
      "metadata": {
        "colab": {
          "base_uri": "https://localhost:8080/"
        },
        "id": "b110waK68V3_",
        "outputId": "492a102d-efd2-4c5e-81fb-c7898159b964"
      },
      "outputs": [
        {
          "name": "stdout",
          "output_type": "stream",
          "text": [
            "<class 'int'>\n",
            "<class 'float'>\n",
            "<class 'str'>\n"
          ]
        }
      ],
      "source": [
        "a = 50\n",
        "print(type(a))\n",
        "a = 100.20\n",
        "print(type(a))\n",
        "a = \"sushital\"\n",
        "print(type(a))"
      ]
    },
    {
      "cell_type": "markdown",
      "metadata": {
        "id": "YnsPXP8q8_XX"
      },
      "source": [
        "Strong Typing"
      ]
    },
    {
      "cell_type": "code",
      "execution_count": null,
      "metadata": {
        "colab": {
          "base_uri": "https://localhost:8080/",
          "height": 35
        },
        "id": "LtZZN9Ws9Cdt",
        "outputId": "25b3d550-9e9f-4c5f-cd5d-3b386a173343"
      },
      "outputs": [
        {
          "data": {
            "application/vnd.google.colaboratory.intrinsic+json": {
              "type": "string"
            },
            "text/plain": [
              "'day 1'"
            ]
          },
          "execution_count": 60,
          "metadata": {},
          "output_type": "execute_result"
        }
      ],
      "source": [
        "\"day \" + \"1\""
      ]
    },
    {
      "cell_type": "code",
      "execution_count": null,
      "metadata": {
        "colab": {
          "base_uri": "https://localhost:8080/",
          "height": 166
        },
        "id": "VBNDkBkr9KZ9",
        "outputId": "5776f97b-f1da-41e8-95be-43556f78fe3c"
      },
      "outputs": [
        {
          "ename": "TypeError",
          "evalue": "ignored",
          "output_type": "error",
          "traceback": [
            "\u001b[0;31m---------------------------------------------------------------------------\u001b[0m",
            "\u001b[0;31mTypeError\u001b[0m                                 Traceback (most recent call last)",
            "\u001b[0;32m<ipython-input-61-e05d5f786e00>\u001b[0m in \u001b[0;36m<module>\u001b[0;34m\u001b[0m\n\u001b[0;32m----> 1\u001b[0;31m \u001b[0;34m\"day \"\u001b[0m \u001b[0;34m+\u001b[0m \u001b[0;36m1\u001b[0m\u001b[0;34m\u001b[0m\u001b[0;34m\u001b[0m\u001b[0m\n\u001b[0m",
            "\u001b[0;31mTypeError\u001b[0m: can only concatenate str (not \"int\") to str"
          ]
        }
      ],
      "source": [
        "\"day \" + 1"
      ]
    },
    {
      "cell_type": "code",
      "execution_count": null,
      "metadata": {
        "colab": {
          "base_uri": "https://localhost:8080/",
          "height": 35
        },
        "id": "UdKr_D-h9N5r",
        "outputId": "a4e341bb-04df-42fd-c083-cc44825588bd"
      },
      "outputs": [
        {
          "data": {
            "application/vnd.google.colaboratory.intrinsic+json": {
              "type": "string"
            },
            "text/plain": [
              "'2222'"
            ]
          },
          "execution_count": 62,
          "metadata": {},
          "output_type": "execute_result"
        }
      ],
      "source": [
        "\"22\" + \"22\""
      ]
    },
    {
      "cell_type": "code",
      "execution_count": null,
      "metadata": {
        "colab": {
          "base_uri": "https://localhost:8080/"
        },
        "id": "nuYpcisX9RDI",
        "outputId": "80c5b1f2-d39d-4088-b5ac-483b1c7db999"
      },
      "outputs": [
        {
          "data": {
            "text/plain": [
              "44"
            ]
          },
          "execution_count": 63,
          "metadata": {},
          "output_type": "execute_result"
        }
      ],
      "source": [
        "22+22"
      ]
    },
    {
      "cell_type": "code",
      "execution_count": null,
      "metadata": {
        "colab": {
          "base_uri": "https://localhost:8080/"
        },
        "id": "yl8w6OGU9WLX",
        "outputId": "16db165b-e43a-4a4e-9c56-8663f01590d5"
      },
      "outputs": [
        {
          "name": "stdout",
          "output_type": "stream",
          "text": [
            "Hi welcome to my jungle\n"
          ]
        }
      ],
      "source": [
        "print(\"Hi welcome to my jungle\")"
      ]
    },
    {
      "cell_type": "code",
      "execution_count": null,
      "metadata": {
        "colab": {
          "base_uri": "https://localhost:8080/"
        },
        "id": "CuYb0X9C9dT4",
        "outputId": "01e12e39-400c-43bd-976e-a4211e4a3f06"
      },
      "outputs": [
        {
          "name": "stdout",
          "output_type": "stream",
          "text": [
            "hi welcome to my amazon jungle\n"
          ]
        }
      ],
      "source": [
        "jungle=\"amazon\"\n",
        "print(f\"hi welcome to my {jungle} jungle\")"
      ]
    },
    {
      "cell_type": "code",
      "execution_count": null,
      "metadata": {
        "colab": {
          "base_uri": "https://localhost:8080/"
        },
        "id": "_JcSVzbL9t9m",
        "outputId": "f3c1e651-69ae-4dc8-8458-eefcd5afe574"
      },
      "outputs": [
        {
          "name": "stdout",
          "output_type": "stream",
          "text": [
            "hi welcome to my {jungle} jungle\n"
          ]
        }
      ],
      "source": [
        "jungle=\"amazon\"\n",
        "print(\"hi welcome to my {jungle} jungle\")"
      ]
    },
    {
      "cell_type": "code",
      "execution_count": null,
      "metadata": {
        "colab": {
          "base_uri": "https://localhost:8080/"
        },
        "id": "Uxvyo0Sp9zPc",
        "outputId": "6ac416aa-05d5-40d2-a212-ffbbf2785cc1"
      },
      "outputs": [
        {
          "name": "stdout",
          "output_type": "stream",
          "text": [
            "hi welcome to my second amazon jungle\n"
          ]
        }
      ],
      "source": [
        "jungle=\"amazon\"\n",
        "num=\"second\"\n",
        "print(f\"hi welcome to my {num} {jungle} jungle\")"
      ]
    },
    {
      "cell_type": "code",
      "execution_count": null,
      "metadata": {
        "colab": {
          "base_uri": "https://localhost:8080/"
        },
        "id": "l-KWyF5r-A8A",
        "outputId": "c4b87586-3602-41f4-d925-675e07a7f3ed"
      },
      "outputs": [
        {
          "name": "stdout",
          "output_type": "stream",
          "text": [
            "the result of two nums a: 50 and b: 70 is 3550\n"
          ]
        }
      ],
      "source": [
        "a=50\n",
        "b=70\n",
        "c=a+b*a\n",
        "print(f'the result of two nums a: {a} and b: {b} is {c}')"
      ]
    },
    {
      "cell_type": "markdown",
      "metadata": {
        "id": "cT2Ud6FO-er3"
      },
      "source": [
        "Boolean"
      ]
    },
    {
      "cell_type": "code",
      "execution_count": null,
      "metadata": {
        "colab": {
          "base_uri": "https://localhost:8080/",
          "height": 235
        },
        "id": "-CL-TCx9-ge7",
        "outputId": "212117d9-3eb1-496c-8961-6352025052d8"
      },
      "outputs": [
        {
          "ename": "NameError",
          "evalue": "ignored",
          "output_type": "error",
          "traceback": [
            "\u001b[0;31m---------------------------------------------------------------------------\u001b[0m",
            "\u001b[0;31mNameError\u001b[0m                                 Traceback (most recent call last)",
            "\u001b[0;32m<ipython-input-71-35de483f9ac7>\u001b[0m in \u001b[0;36m<module>\u001b[0;34m\u001b[0m\n\u001b[1;32m      1\u001b[0m \u001b[0ma\u001b[0m\u001b[0;34m=\u001b[0m\u001b[0;32mTrue\u001b[0m\u001b[0;34m\u001b[0m\u001b[0;34m\u001b[0m\u001b[0m\n\u001b[0;32m----> 2\u001b[0;31m \u001b[0mb\u001b[0m\u001b[0;34m=\u001b[0m\u001b[0mfalse\u001b[0m\u001b[0;34m\u001b[0m\u001b[0;34m\u001b[0m\u001b[0m\n\u001b[0m\u001b[1;32m      3\u001b[0m \u001b[0;34m\u001b[0m\u001b[0m\n\u001b[1;32m      4\u001b[0m \u001b[0mprint\u001b[0m\u001b[0;34m(\u001b[0m\u001b[0mtype\u001b[0m\u001b[0;34m(\u001b[0m\u001b[0ma\u001b[0m\u001b[0;34m)\u001b[0m\u001b[0;34m)\u001b[0m\u001b[0;34m\u001b[0m\u001b[0;34m\u001b[0m\u001b[0m\n\u001b[1;32m      5\u001b[0m \u001b[0mprint\u001b[0m\u001b[0;34m(\u001b[0m\u001b[0mtype\u001b[0m\u001b[0;34m(\u001b[0m\u001b[0mb\u001b[0m\u001b[0;34m)\u001b[0m\u001b[0;34m)\u001b[0m\u001b[0;34m\u001b[0m\u001b[0;34m\u001b[0m\u001b[0m\n",
            "\u001b[0;31mNameError\u001b[0m: name 'false' is not defined"
          ]
        }
      ],
      "source": [
        "a=True\n",
        "b=false #it should start with capital letter \n",
        "\n",
        "print(type(a))\n",
        "print(type(b))\n"
      ]
    },
    {
      "cell_type": "code",
      "execution_count": null,
      "metadata": {
        "colab": {
          "base_uri": "https://localhost:8080/"
        },
        "id": "h29kEEik-gk-",
        "outputId": "800f1627-d0fe-487a-a338-9e515bcd2f0b"
      },
      "outputs": [
        {
          "name": "stdout",
          "output_type": "stream",
          "text": [
            "<class 'bool'>\n",
            "<class 'bool'>\n"
          ]
        }
      ],
      "source": [
        "a=True\n",
        "b=False\n",
        "print(type(a))\n",
        "print(type(b))"
      ]
    },
    {
      "cell_type": "code",
      "execution_count": null,
      "metadata": {
        "colab": {
          "base_uri": "https://localhost:8080/",
          "height": 131
        },
        "id": "0U6ZwXuM_BdS",
        "outputId": "7b48f413-3658-4e08-9f6e-53be87f36c63"
      },
      "outputs": [
        {
          "ename": "SyntaxError",
          "evalue": "ignored",
          "output_type": "error",
          "traceback": [
            "\u001b[0;36m  File \u001b[0;32m\"<ipython-input-73-f2b2633e1f55>\"\u001b[0;36m, line \u001b[0;32m1\u001b[0m\n\u001b[0;31m    my_office_starts_at=9:00\u001b[0m\n\u001b[0m                         ^\u001b[0m\n\u001b[0;31mSyntaxError\u001b[0m\u001b[0;31m:\u001b[0m invalid syntax\n"
          ]
        }
      ],
      "source": [
        "my_office_starts_at=9:00\n",
        "i_came_at=9:15\n",
        "i_am_late=my_office_starts_at<i_came_at"
      ]
    },
    {
      "cell_type": "code",
      "execution_count": null,
      "metadata": {
        "colab": {
          "base_uri": "https://localhost:8080/"
        },
        "id": "LLIjoeSL_czT",
        "outputId": "d1152a08-8d9e-4bc4-c120-4ee5bc0e09df"
      },
      "outputs": [
        {
          "data": {
            "text/plain": [
              "False"
            ]
          },
          "execution_count": 90,
          "metadata": {},
          "output_type": "execute_result"
        }
      ],
      "source": [
        "my_office_starts_at=900\n",
        "i_came_at=800\n",
        "i_am_late=my_office_starts_at<i_came_at\n",
        "i_am_late"
      ]
    },
    {
      "cell_type": "code",
      "execution_count": null,
      "metadata": {
        "colab": {
          "base_uri": "https://localhost:8080/"
        },
        "id": "Wrfl-uoRAaHr",
        "outputId": "f98c7b72-5175-404f-f197-4f4a106cd628"
      },
      "outputs": [
        {
          "data": {
            "text/plain": [
              "False"
            ]
          },
          "execution_count": 91,
          "metadata": {},
          "output_type": "execute_result"
        }
      ],
      "source": [
        "numA=5\n",
        "numB=6\n",
        "numA==numB\n"
      ]
    },
    {
      "cell_type": "code",
      "execution_count": null,
      "metadata": {
        "colab": {
          "base_uri": "https://localhost:8080/"
        },
        "id": "Rk3VF_EUAig6",
        "outputId": "fcc62445-de7c-4a45-9132-bb3803844cbd"
      },
      "outputs": [
        {
          "data": {
            "text/plain": [
              "False"
            ]
          },
          "execution_count": 93,
          "metadata": {},
          "output_type": "execute_result"
        }
      ],
      "source": [
        "numA=10\n",
        "numB=100\n",
        "numA==numB"
      ]
    },
    {
      "cell_type": "code",
      "execution_count": null,
      "metadata": {
        "colab": {
          "base_uri": "https://localhost:8080/"
        },
        "id": "Su9S77OdAqQC",
        "outputId": "4cd2e4fb-10b4-4d58-83e3-b773486be46e"
      },
      "outputs": [
        {
          "data": {
            "text/plain": [
              "False"
            ]
          },
          "execution_count": 94,
          "metadata": {},
          "output_type": "execute_result"
        }
      ],
      "source": [
        "numA=10\n",
        "numB=100\n",
        "numA>numB"
      ]
    },
    {
      "cell_type": "code",
      "execution_count": null,
      "metadata": {
        "colab": {
          "base_uri": "https://localhost:8080/"
        },
        "id": "yzPJU1mRAtrV",
        "outputId": "9052c41f-3b77-4121-f796-92715a08e945"
      },
      "outputs": [
        {
          "data": {
            "text/plain": [
              "True"
            ]
          },
          "execution_count": 95,
          "metadata": {},
          "output_type": "execute_result"
        }
      ],
      "source": [
        "numA=10\n",
        "numB=100\n",
        "numA<numB"
      ]
    },
    {
      "cell_type": "markdown",
      "metadata": {
        "id": "aCqZmJotCmPN"
      },
      "source": [
        "if class started then let's concentrate else revise the previous class"
      ]
    },
    {
      "cell_type": "code",
      "execution_count": null,
      "metadata": {
        "colab": {
          "base_uri": "https://localhost:8080/"
        },
        "id": "adKj1jZ0CtK3",
        "outputId": "74f5675a-738b-43a0-e50b-b9fff8fb299c"
      },
      "outputs": [
        {
          "name": "stdout",
          "output_type": "stream",
          "text": [
            "let's concentrate\n"
          ]
        }
      ],
      "source": [
        "class_started = True\n",
        "if class_started:\n",
        "    print(\"let's concentrate\")\n",
        "else:\n",
        "    print(\"let's revise the previous class\")\n",
        "    "
      ]
    },
    {
      "cell_type": "markdown",
      "metadata": {
        "id": "nlTaHfGzDQ_8"
      },
      "source": [
        "if class NOT started then let's revise the previous chapters else let's concentrate"
      ]
    },
    {
      "cell_type": "code",
      "execution_count": null,
      "metadata": {
        "colab": {
          "base_uri": "https://localhost:8080/"
        },
        "id": "EONxILgqDQbr",
        "outputId": "89bc59f1-ea32-4153-ede9-78726894421c"
      },
      "outputs": [
        {
          "name": "stdout",
          "output_type": "stream",
          "text": [
            "let's revise the previous chapter\n"
          ]
        }
      ],
      "source": [
        "class_started = False\n",
        "if not class_started:\n",
        "    print(\"let's revise the previous chapter\")\n",
        "else:\n",
        "    print(\"let's concentrate\")"
      ]
    },
    {
      "cell_type": "code",
      "execution_count": null,
      "metadata": {
        "colab": {
          "base_uri": "https://localhost:8080/"
        },
        "id": "7r2fd1cwE_De",
        "outputId": "a4e41017-2738-4772-fca3-259f8aca4919"
      },
      "outputs": [
        {
          "name": "stdout",
          "output_type": "stream",
          "text": [
            "hey fazil, is class started?: [Yes/No]No\n",
            "let's concentrate\n"
          ]
        }
      ],
      "source": [
        "class_started = bool(input(\"hey fazil, is class started?: [Yes/No]\"))\n",
        "if class_started:\n",
        "    print(\"let's concentrate\")\n",
        "else:\n",
        "    print(\"let's revise the previous chapter\")"
      ]
    },
    {
      "cell_type": "markdown",
      "metadata": {
        "id": "IA_Od1RdIJVs"
      },
      "source": [
        "and - Conditional AND"
      ]
    },
    {
      "cell_type": "code",
      "execution_count": null,
      "metadata": {
        "colab": {
          "base_uri": "https://localhost:8080/"
        },
        "id": "CnezWUfcIL7N",
        "outputId": "9b0cccd4-8927-4558-f375-0ea695441ded"
      },
      "outputs": [
        {
          "name": "stdout",
          "output_type": "stream",
          "text": [
            "tea was good\n"
          ]
        }
      ],
      "source": [
        "tea_leaves = True\n",
        "milk = True\n",
        "sugar = True\n",
        "\n",
        "if tea_leaves and milk and sugar:\n",
        "    print(\"tea was good\")\n",
        "else:\n",
        "    print(\"tea was not good\")\n",
        "    print(f\"missing ingredients tea_leaves: {tea_leaves}\")\n",
        "    print(f\"missing ingredients milk: {milk}\")\n",
        "    print(f\"missing ingredients sugar: {sugar}\")"
      ]
    },
    {
      "cell_type": "code",
      "execution_count": null,
      "metadata": {
        "colab": {
          "base_uri": "https://localhost:8080/"
        },
        "id": "lGp9qHRYS98p",
        "outputId": "cf8a7399-5f6c-4824-8e03-de5078b19a66"
      },
      "outputs": [
        {
          "name": "stdout",
          "output_type": "stream",
          "text": [
            "attendance criteria met?: False\n",
            "assignment criteria met?: False\n",
            "student is not eligible for exam\n"
          ]
        }
      ],
      "source": [
        "attendance = 60 \n",
        "assignment = 45\n",
        "\n",
        "print(f\"attendance criteria met?: {attendance >=75}\")\n",
        "print(f\"assignment criteria met?: {assignment >=70}\")\n",
        "\n",
        "if attendance >= 75 and assignment >= 70:\n",
        "    print(\"Student is eligible for exam\")\n",
        "else:\n",
        "    print(\"student is not eligible for exam\")"
      ]
    },
    {
      "cell_type": "markdown",
      "metadata": {
        "id": "MyRujKvsLLDw"
      },
      "source": [
        "or_Conditional OR"
      ]
    },
    {
      "cell_type": "code",
      "execution_count": null,
      "metadata": {
        "colab": {
          "base_uri": "https://localhost:8080/"
        },
        "id": "ghrdfo8kLNi0",
        "outputId": "58be083b-dc1a-4d3e-81b0-2272c4f99b34"
      },
      "outputs": [
        {
          "name": "stdout",
          "output_type": "stream",
          "text": [
            "I cannot travel without car or bike 100kms in a day\n"
          ]
        }
      ],
      "source": [
        "car=False\n",
        "bike=False\n",
        "\n",
        "if car or bike:\n",
        "    print(\"i can travel 100kms in a day\")\n",
        "else:\n",
        "    print(\"I cannot travel without car or bike 100kms in a day\")"
      ]
    },
    {
      "cell_type": "markdown",
      "metadata": {
        "id": "BA6Oo0fdVq1s"
      },
      "source": [
        "Given two integer numbers return their product only if the product is equal to or lower than 1000, else return their sum."
      ]
    },
    {
      "cell_type": "code",
      "execution_count": null,
      "metadata": {
        "colab": {
          "base_uri": "https://localhost:8080/"
        },
        "id": "lzi0iYkNVspp",
        "outputId": "5adc8c3e-2a49-4d8c-d31b-44b14eeb738f"
      },
      "outputs": [
        {
          "name": "stdout",
          "output_type": "stream",
          "text": [
            "the product value is more than 1000 hence the result is: \n",
            "30\n"
          ]
        }
      ],
      "source": [
        "number1=10\n",
        "\n",
        "number3=number1*numnber2\n",
        "number4=number1+number2\n",
        "\n",
        "if number3 >= 1000:\n",
        "    print(\"as the product value is equal to or lower than 1000 hence the result is: \")\n",
        "    print(number3)\n",
        "else:\n",
        "    print(\"the product value is more than 1000 hence the result is: \")\n",
        "    print(number4)"
      ]
    },
    {
      "cell_type": "code",
      "execution_count": null,
      "metadata": {
        "colab": {
          "base_uri": "https://localhost:8080/"
        },
        "id": "zruCPOe1Ypi7",
        "outputId": "c15ae273-efef-49b1-9579-cf79c387503e"
      },
      "outputs": [
        {
          "name": "stdout",
          "output_type": "stream",
          "text": [
            "as the product value is equal to or lower than 1000 hence the result is: \n",
            "1600\n"
          ]
        }
      ],
      "source": [
        "number1=80\n",
        "\n",
        "number3=number1*number2\n",
        "number4=number1+number2\n",
        "\n",
        "if number3 >= 1000:\n",
        "    print(\"as the product value is equal to or lower than 1000 hence the result is: \")\n",
        "    print(number3)\n",
        "else:\n",
        "    print(\"the product value is more than 1000 hence the result is: \")\n",
        "    print(number4)"
      ]
    },
    {
      "cell_type": "markdown",
      "metadata": {
        "id": "Umb7mdVUZS8s"
      },
      "source": [
        "taking input from user"
      ]
    },
    {
      "cell_type": "code",
      "execution_count": null,
      "metadata": {
        "colab": {
          "base_uri": "https://localhost:8080/"
        },
        "id": "XobSj1ZCZW1F",
        "outputId": "43142e35-805a-4e24-c39d-907c4bcc4b57"
      },
      "outputs": [
        {
          "name": "stdout",
          "output_type": "stream",
          "text": [
            "Enter the value of a: 10\n",
            "Enter the value of b: 20\n",
            "the product value is more than 1000 hence the result is: \n",
            "200\n"
          ]
        }
      ],
      "source": [
        "a=int(input(\"Enter the value of a: \"))\n",
        "b=int(input(\"Enter the value of b: \"))\n",
        "c=a+b\n",
        "d=a*b\n",
        "\n",
        "if d >=1000:\n",
        "    print(\"as the product value is equal to or lower than 1000 hence the result is: \")\n",
        "    print(c)\n",
        "else:\n",
        "    print(\"the product value is more than 1000 hence the result is: \")\n",
        "    print(d)\n",
        "\n"
      ]
    },
    {
      "cell_type": "markdown",
      "metadata": {
        "id": "C8NaOA485kmL"
      },
      "source": [
        "Equality Operators\n",
        "\n",
        "Operator\t| uses\t| Meaning\n",
        "is\tA is B=>\treturn True if A and B points to the same object\n",
        "is not\tA is not B\treturns True if A and B do not points to the same object\n",
        "==\tA == B\tA is equal to B\n",
        "!=\tA != B\tA is not equal to B"
      ]
    },
    {
      "cell_type": "code",
      "execution_count": null,
      "metadata": {
        "colab": {
          "base_uri": "https://localhost:8080/"
        },
        "id": "TsfF5DRh5qxm",
        "outputId": "8107c6cd-33a3-4dc7-b84a-74ce4ff40edf"
      },
      "outputs": [
        {
          "name": "stdout",
          "output_type": "stream",
          "text": [
            "Sushital and Fazil is same\n"
          ]
        }
      ],
      "source": [
        "Sushital = 1\n",
        "Fazil = 1\n",
        "\n",
        "if Sushital is Fazil:\n",
        "    print(\"Sushital and Fazil is same\")\n",
        "else:\n",
        "    print(\"Sushital and Fazil not same\")\n"
      ]
    },
    {
      "cell_type": "code",
      "execution_count": null,
      "metadata": {
        "colab": {
          "base_uri": "https://localhost:8080/"
        },
        "id": "Ob8cDJjR8MPG",
        "outputId": "d39334a6-89e4-4227-a578-4c66c3c78c29"
      },
      "outputs": [
        {
          "name": "stdout",
          "output_type": "stream",
          "text": [
            "Sushital and Fazil not same\n"
          ]
        }
      ],
      "source": [
        "Sushital = 1\n",
        "Fazil = 2\n",
        "\n",
        "if Sushital is Fazil:\n",
        "    print(\"Sushital and Fazil is same\")\n",
        "else:\n",
        "    print(\"Sushital and Fazil not same\")\n"
      ]
    },
    {
      "cell_type": "code",
      "execution_count": null,
      "metadata": {
        "colab": {
          "base_uri": "https://localhost:8080/"
        },
        "id": "lSD0noBJ8Syp",
        "outputId": "fd9f6e63-5543-4ed0-fac2-9e24ef366fae"
      },
      "outputs": [
        {
          "name": "stdout",
          "output_type": "stream",
          "text": [
            "Sushital and Fazil is same\n"
          ]
        }
      ],
      "source": [
        "Sushital = 1\n",
        "Fazil = 1\n",
        "\n",
        "if Sushital == Fazil:\n",
        "    print(\"Sushital and Fazil is same\")\n",
        "else:\n",
        "    print(\"Sushital and Fazil not same\")\n"
      ]
    },
    {
      "cell_type": "code",
      "execution_count": null,
      "metadata": {
        "colab": {
          "base_uri": "https://localhost:8080/"
        },
        "id": "2eb_G7Tl8Wls",
        "outputId": "b8487caf-c7fd-4f6d-96bc-dd196877a793"
      },
      "outputs": [
        {
          "name": "stdout",
          "output_type": "stream",
          "text": [
            "Sushital and Fazil not same\n"
          ]
        }
      ],
      "source": [
        "Sushital = 1\n",
        "Fazil = 2\n",
        "\n",
        "if Sushital == Fazil:\n",
        "    print(\"Sushital and Fazil is same\")\n",
        "else:\n",
        "    print(\"Sushital and Fazil not same\")\n"
      ]
    },
    {
      "cell_type": "code",
      "execution_count": null,
      "metadata": {
        "colab": {
          "base_uri": "https://localhost:8080/"
        },
        "id": "v6hLdR9p8f1a",
        "outputId": "31c0f3da-2e8c-498f-c427-26708b6dccfc"
      },
      "outputs": [
        {
          "name": "stdout",
          "output_type": "stream",
          "text": [
            "Sushital and Fazil same\n"
          ]
        }
      ],
      "source": [
        "Sushital = 1\n",
        "Fazil = 1\n",
        "\n",
        "if Sushital != Fazil:\n",
        "    print(\"Sushital and Fazil not same\")\n",
        "else:\n",
        "    print(\"Sushital and Fazil same\")\n"
      ]
    },
    {
      "cell_type": "code",
      "execution_count": null,
      "metadata": {
        "colab": {
          "base_uri": "https://localhost:8080/"
        },
        "id": "wTmrbiPw8rEj",
        "outputId": "b6e339e9-3764-4689-ca3d-e9f27155be08"
      },
      "outputs": [
        {
          "data": {
            "text/plain": [
              "False"
            ]
          },
          "execution_count": 10,
          "metadata": {},
          "output_type": "execute_result"
        }
      ],
      "source": [
        "A = \"Sushital\"\n",
        "B = \"Fazil\"\n",
        "\n",
        "A is B\n"
      ]
    },
    {
      "cell_type": "code",
      "execution_count": null,
      "metadata": {
        "colab": {
          "base_uri": "https://localhost:8080/"
        },
        "id": "avlu_5vh86P8",
        "outputId": "12f09379-fdd4-439b-c4fd-ccf881fe7b25"
      },
      "outputs": [
        {
          "data": {
            "text/plain": [
              "True"
            ]
          },
          "execution_count": 11,
          "metadata": {},
          "output_type": "execute_result"
        }
      ],
      "source": [
        "A = \"Sushital\"\n",
        "B = \"Sushital\"\n",
        "\n",
        "A is B\n"
      ]
    },
    {
      "cell_type": "markdown",
      "metadata": {
        "id": "hjeXQkDS9APU"
      },
      "source": [
        "taking input from user"
      ]
    },
    {
      "cell_type": "code",
      "execution_count": null,
      "metadata": {
        "colab": {
          "base_uri": "https://localhost:8080/"
        },
        "id": "1aWK1GuJ9Ci-",
        "outputId": "79f520b3-a244-4751-d256-b08ac371e6b6"
      },
      "outputs": [
        {
          "name": "stdout",
          "output_type": "stream",
          "text": [
            "Enter the value of A: 1\n",
            "Enter the value of B: 1\n"
          ]
        },
        {
          "data": {
            "text/plain": [
              "True"
            ]
          },
          "execution_count": 32,
          "metadata": {},
          "output_type": "execute_result"
        }
      ],
      "source": [
        "A=int(input(\"Enter the value of A: \"))\n",
        "B=int(input(\"Enter the value of B: \"))\n",
        "\n",
        "A is B \n"
      ]
    },
    {
      "cell_type": "code",
      "execution_count": null,
      "metadata": {
        "colab": {
          "base_uri": "https://localhost:8080/"
        },
        "id": "CvFD_qW7-AQF",
        "outputId": "c1df9c3e-cd06-418d-9de7-80a8b07fdadd"
      },
      "outputs": [
        {
          "data": {
            "text/plain": [
              "11126688"
            ]
          },
          "execution_count": 33,
          "metadata": {},
          "output_type": "execute_result"
        }
      ],
      "source": [
        "id(A)"
      ]
    },
    {
      "cell_type": "code",
      "execution_count": null,
      "metadata": {
        "colab": {
          "base_uri": "https://localhost:8080/"
        },
        "id": "9LdPJhxD-C84",
        "outputId": "cdff3147-bb78-4efb-fecc-3edc187c40ab"
      },
      "outputs": [
        {
          "data": {
            "text/plain": [
              "11126688"
            ]
          },
          "execution_count": 34,
          "metadata": {},
          "output_type": "execute_result"
        }
      ],
      "source": [
        "id(B)"
      ]
    },
    {
      "cell_type": "code",
      "execution_count": null,
      "metadata": {
        "colab": {
          "base_uri": "https://localhost:8080/"
        },
        "id": "1hbOyU6f_YYC",
        "outputId": "bf29c040-63ee-4d98-d307-35aeffcf9d30"
      },
      "outputs": [
        {
          "name": "stdout",
          "output_type": "stream",
          "text": [
            "Enter the value of A: 1\n",
            "Enter the value of B: 2\n"
          ]
        },
        {
          "data": {
            "text/plain": [
              "True"
            ]
          },
          "execution_count": 40,
          "metadata": {},
          "output_type": "execute_result"
        }
      ],
      "source": [
        "A=int(input(\"Enter the value of A: \"))\n",
        "B=int(input(\"Enter the value of B: \"))\n",
        "\n",
        "A is not B \n"
      ]
    },
    {
      "cell_type": "code",
      "execution_count": null,
      "metadata": {
        "colab": {
          "base_uri": "https://localhost:8080/"
        },
        "id": "8wkunp-m_tO_",
        "outputId": "11b788b7-3055-4f77-ad8b-f4e153ab119f"
      },
      "outputs": [
        {
          "name": "stdout",
          "output_type": "stream",
          "text": [
            "Enter the value of A: 1\n",
            "Enter the value of B: 1\n"
          ]
        },
        {
          "data": {
            "text/plain": [
              "False"
            ]
          },
          "execution_count": 41,
          "metadata": {},
          "output_type": "execute_result"
        }
      ],
      "source": [
        "A=int(input(\"Enter the value of A: \"))\n",
        "B=int(input(\"Enter the value of B: \"))\n",
        "\n",
        "A is not B \n"
      ]
    },
    {
      "cell_type": "code",
      "execution_count": null,
      "metadata": {
        "colab": {
          "base_uri": "https://localhost:8080/"
        },
        "id": "IsJH6D6a-oJh",
        "outputId": "43a122cc-52e4-4563-e51b-53dcbc334d2e"
      },
      "outputs": [
        {
          "name": "stdout",
          "output_type": "stream",
          "text": [
            "Enter your name: Sushital\n",
            "he is a student\n"
          ]
        }
      ],
      "source": [
        "name=input(\"Enter your name: \")\n",
        "\n",
        "if name != \"Sushital\":\n",
        "    print(f\"He might be a mentor\")\n",
        "else:\n",
        "    print(f\"he is a student\")"
      ]
    },
    {
      "cell_type": "code",
      "execution_count": null,
      "metadata": {
        "colab": {
          "base_uri": "https://localhost:8080/"
        },
        "id": "ki6hwJxc_FUw",
        "outputId": "85bd77d9-2b65-450a-f5c4-eb04d0a1a974"
      },
      "outputs": [
        {
          "name": "stdout",
          "output_type": "stream",
          "text": [
            "Enter your name: Fazil\n",
            "He might be a mentor\n"
          ]
        }
      ],
      "source": [
        "name=input(\"Enter your name: \")\n",
        "\n",
        "if name == \"Sushital\":\n",
        "    print(f\"He is a student\")\n",
        "else:\n",
        "    print(f\"He might be a mentor\")"
      ]
    },
    {
      "cell_type": "markdown",
      "metadata": {
        "id": "MoPEgpld_2Bu"
      },
      "source": [
        "Comparision\n",
        "Operation\tMeaning\n",
        "<\tA < B\n",
        "<=\tA <= B\n",
        ">\tA > B\n",
        ">=\tA >= B"
      ]
    },
    {
      "cell_type": "code",
      "execution_count": null,
      "metadata": {
        "id": "se6qQc0W_5P0"
      },
      "outputs": [],
      "source": []
    },
    {
      "cell_type": "markdown",
      "metadata": {
        "id": "6lrAROaVEUFt"
      },
      "source": [
        "Write a program that asks the user to enter a number. You should print out a message to the user, either “That number is divisible by either 3 or 5”, or “That number is not divisible by either 3 or 5”. Be sure to consider the data type of the input you are taking in from the user. Use a single if/else block to solve this problem."
      ]
    },
    {
      "cell_type": "code",
      "execution_count": null,
      "metadata": {
        "colab": {
          "base_uri": "https://localhost:8080/"
        },
        "id": "iixM9pj_Y0XK",
        "outputId": "3107a38a-e261-443f-b8ef-f9f179e0938e"
      },
      "outputs": [
        {
          "name": "stdout",
          "output_type": "stream",
          "text": [
            "Enter your number: 4\n",
            "Number is not divisible by either 3 or 5\n"
          ]
        }
      ],
      "source": [
        "a=int(input(\"Enter your number: \"))\n",
        "if a%3==0 or a%5==0:\n",
        "  print(\"Number is divisible by either 3 or 5\")\n",
        "else:\n",
        "  print(\"Number is not divisible by either 3 or 5\")"
      ]
    },
    {
      "cell_type": "code",
      "execution_count": null,
      "metadata": {
        "colab": {
          "base_uri": "https://localhost:8080/"
        },
        "id": "yngub787XEdl",
        "outputId": "825a2a5d-4062-4c8b-b03e-4ab4210c26ce"
      },
      "outputs": [
        {
          "data": {
            "text/plain": [
              "3"
            ]
          },
          "execution_count": 127,
          "metadata": {},
          "output_type": "execute_result"
        }
      ],
      "source": [
        "3%5\n"
      ]
    },
    {
      "cell_type": "markdown",
      "metadata": {
        "id": "uSjuG2GeAlab"
      },
      "source": [
        "Write a conditional statement (if else) which checks the first element in a list (index zero) and assign answer_1 to \"Yes\" if the first element is equal to \"strawberry\" else it should assign answer_1 to \"No\"."
      ]
    },
    {
      "cell_type": "code",
      "execution_count": null,
      "metadata": {
        "colab": {
          "base_uri": "https://localhost:8080/"
        },
        "id": "fckKKtS0AmLX",
        "outputId": "e96a97f1-cf8f-4a12-88b5-92b762db1efb"
      },
      "outputs": [
        {
          "name": "stdout",
          "output_type": "stream",
          "text": [
            "no\n"
          ]
        }
      ],
      "source": [
        "First=[\"Mango\", \"Kiwi\", \"Melon\", \"Cherry\"]\n",
        "answer_1=\"Strawberry\"\n",
        "\n",
        "if answer_1==First:\n",
        "    print(\"yes\")\n",
        "else:\n",
        "    print(\"no\") "
      ]
    },
    {
      "cell_type": "code",
      "execution_count": null,
      "metadata": {
        "colab": {
          "base_uri": "https://localhost:8080/"
        },
        "id": "6PSVAXNdBgeJ",
        "outputId": "44bb1291-3f8a-4bce-ae6b-2e8493cc358c"
      },
      "outputs": [
        {
          "name": "stdout",
          "output_type": "stream",
          "text": [
            "answer_1=No\n"
          ]
        }
      ],
      "source": [
        "First=[\"Mango\", \"Kiwi\", \"Melon\", \"Cherry\"]\n",
        "\n",
        "if First[0]==\"Strawberry\":\n",
        "    print(\"answer_1=Yes\")\n",
        "else:\n",
        "    print(\"answer_1=No\")"
      ]
    },
    {
      "cell_type": "code",
      "execution_count": null,
      "metadata": {
        "colab": {
          "base_uri": "https://localhost:8080/"
        },
        "id": "_o8B8nTvVhL-",
        "outputId": "5a231bc4-4e52-4590-8ae2-6df4feefebc8"
      },
      "outputs": [
        {
          "name": "stdout",
          "output_type": "stream",
          "text": [
            "<class 'bool'>\n",
            "<class 'bool'>\n"
          ]
        }
      ],
      "source": [
        "a=True\n",
        "b=False\n",
        "print(type(a))\n",
        "print(type(b))\n"
      ]
    },
    {
      "cell_type": "code",
      "execution_count": null,
      "metadata": {
        "colab": {
          "base_uri": "https://localhost:8080/"
        },
        "id": "M2Ut6lNqVydS",
        "outputId": "a7d9e111-d7df-408e-9ea3-cbf1b02c7562"
      },
      "outputs": [
        {
          "data": {
            "text/plain": [
              "True"
            ]
          },
          "execution_count": 117,
          "metadata": {},
          "output_type": "execute_result"
        }
      ],
      "source": [
        "(not False) or (not True)\n"
      ]
    },
    {
      "cell_type": "markdown",
      "metadata": {
        "id": "lmJGhyJonTTx"
      },
      "source": [
        "Write code that prints Hello if 1 is stored in spam, prints Howdy if 2 is stored in spam, and prints Greetings! if anything else is stored in spam"
      ]
    },
    {
      "cell_type": "code",
      "execution_count": null,
      "metadata": {
        "colab": {
          "base_uri": "https://localhost:8080/"
        },
        "id": "tHcCO3g-WQAL",
        "outputId": "8a80c957-9ede-4441-96b6-b8fe39e803e5"
      },
      "outputs": [
        {
          "name": "stdout",
          "output_type": "stream",
          "text": [
            "1\n",
            "hello\n"
          ]
        }
      ],
      "source": [
        "spam=int(input())\n",
        "\n",
        "if spam==1:\n",
        "  print(\"hello\")\n",
        "elif spam==2:\n",
        "  print(\"howdy\")\n",
        "else:\n",
        "    print(\"greetings!\")"
      ]
    },
    {
      "cell_type": "markdown",
      "metadata": {
        "id": "QCJ3LjUtoC5I"
      },
      "source": [
        "Write a short program that prints the numbers 1 to 10 using a for loop. Then write an equivalent program that prints the numbers 1 to 10 using a while loop."
      ]
    },
    {
      "cell_type": "code",
      "execution_count": null,
      "metadata": {
        "colab": {
          "base_uri": "https://localhost:8080/"
        },
        "id": "axIH0dphoDky",
        "outputId": "40cc7233-b60d-48b0-fd91-f5377e00ec9a"
      },
      "outputs": [
        {
          "name": "stdout",
          "output_type": "stream",
          "text": [
            "1\n",
            "2\n",
            "3\n",
            "4\n",
            "5\n",
            "6\n",
            "7\n",
            "8\n",
            "9\n",
            "10\n"
          ]
        }
      ],
      "source": [
        "for a in range(1,11):\n",
        "  print (a)"
      ]
    },
    {
      "cell_type": "code",
      "execution_count": null,
      "metadata": {
        "colab": {
          "base_uri": "https://localhost:8080/"
        },
        "id": "lbiB9LrspbOh",
        "outputId": "28261293-fbfd-408c-99ab-a4c99f04daea"
      },
      "outputs": [
        {
          "name": "stdout",
          "output_type": "stream",
          "text": [
            "1\n",
            "2\n",
            "3\n",
            "4\n",
            "5\n",
            "6\n",
            "7\n",
            "8\n",
            "9\n",
            "10\n"
          ]
        }
      ],
      "source": [
        "a=1\n",
        "while a <=10:\n",
        "  print (a)\n",
        "  a+=1"
      ]
    },
    {
      "cell_type": "code",
      "execution_count": null,
      "metadata": {
        "colab": {
          "base_uri": "https://localhost:8080/"
        },
        "id": "zHyxts9XV39z",
        "outputId": "fcf10b45-9437-44a8-dcbe-04fc319c27ab"
      },
      "outputs": [
        {
          "name": "stdout",
          "output_type": "stream",
          "text": [
            "a: 1\n"
          ]
        }
      ],
      "source": [
        "a=int(input(\"a: \"))"
      ]
    },
    {
      "cell_type": "code",
      "execution_count": null,
      "metadata": {
        "colab": {
          "base_uri": "https://localhost:8080/"
        },
        "id": "Sjz0pomSNrSE",
        "outputId": "9462e140-8ff8-4379-8278-503f91798faf"
      },
      "outputs": [
        {
          "name": "stdout",
          "output_type": "stream",
          "text": [
            "Enter the score: 45\n",
            "better luck next time\n"
          ]
        }
      ],
      "source": [
        "result=int(input(\"Enter the score: \"))\n",
        "\n",
        "if result >=75 and result <90:\n",
        "  print(f\"Your score is {result} hence you will get Participation Certificate\")\n",
        "elif result >=90 and result <100:\n",
        "  print(f\"Your score is {result} hence you have won a Cycle\")\n",
        "elif result >=100:\n",
        "  print(f\"Your score is {result} hence you have won a Bike\")\n",
        "\n",
        "else:\n",
        "  print(\"better luck next time\")\n"
      ]
    },
    {
      "cell_type": "code",
      "execution_count": null,
      "metadata": {
        "colab": {
          "base_uri": "https://localhost:8080/"
        },
        "id": "bVmQAbBcNtc7",
        "outputId": "cd19c6cf-22d8-4863-f705-6f2a9939637b"
      },
      "outputs": [
        {
          "name": "stdout",
          "output_type": "stream",
          "text": [
            "Enter the raidus of the circle: 20\n"
          ]
        },
        {
          "data": {
            "text/plain": [
              "1256.0"
            ]
          },
          "execution_count": 2,
          "metadata": {},
          "output_type": "execute_result"
        }
      ],
      "source": [
        "raidus=int(input(\"Enter the raidus of the circle: \"))\n",
        "\n",
        "3.14*raidus*raidus"
      ]
    },
    {
      "cell_type": "code",
      "execution_count": null,
      "metadata": {
        "colab": {
          "base_uri": "https://localhost:8080/"
        },
        "id": "4otuUtw7NvSs",
        "outputId": "5129c4af-f0a0-4874-8fdb-95614720a0ae"
      },
      "outputs": [
        {
          "name": "stdout",
          "output_type": "stream",
          "text": [
            "Enter your first_name: Sushital\n",
            "Enter your last_name: Roy\n",
            "Roy Sushital\n"
          ]
        }
      ],
      "source": [
        "first_name=input(\"Enter your first_name: \")\n",
        "last_name=input(\"Enter your last_name: \")\n",
        "\n",
        "print(f\"{last_name} {first_name}\")"
      ]
    },
    {
      "cell_type": "code",
      "execution_count": null,
      "metadata": {
        "colab": {
          "base_uri": "https://localhost:8080/"
        },
        "id": "9VSz9w8mNxsz",
        "outputId": "33762ff6-9203-4b12-e5e8-2ae2269dd6a8"
      },
      "outputs": [
        {
          "name": "stdout",
          "output_type": "stream",
          "text": [
            "Red Black\n"
          ]
        }
      ],
      "source": [
        "color_list = [\"Red\",\"Green\",\"White\" ,\"Black\"]\n",
        "a=color_list[0]\n",
        "b=color_list[3]\n",
        "print(a,b)"
      ]
    },
    {
      "cell_type": "code",
      "execution_count": null,
      "metadata": {
        "colab": {
          "base_uri": "https://localhost:8080/"
        },
        "id": "YaBzEdGFNzit",
        "outputId": "70cf9515-2c6e-4a17-a04c-720d34b90595"
      },
      "outputs": [
        {
          "name": "stdout",
          "output_type": "stream",
          "text": [
            "The exam will start from : 11 / 12 / 2014 \n"
          ]
        }
      ],
      "source": [
        "exam_st_date = (11, 12, 2014)\n",
        "print(\"The exam will start from : %i / %i / %i \"%exam_st_date)"
      ]
    },
    {
      "cell_type": "code",
      "execution_count": null,
      "metadata": {
        "colab": {
          "base_uri": "https://localhost:8080/"
        },
        "id": "uwKeqvDRN0_V",
        "outputId": "5843e240-0b54-416d-b074-8a27d833508c"
      },
      "outputs": [
        {
          "name": "stdout",
          "output_type": "stream",
          "text": [
            "the exam will start from: 11/ 12/ 2014\n"
          ]
        }
      ],
      "source": [
        "exam_st_date=(\"11, 12, 2014\")\n",
        "exam_st_date=exam_st_date.replace(\", \", \"/ \")\n",
        "print(f\"the exam will start from: {exam_st_date}\")"
      ]
    },
    {
      "cell_type": "code",
      "execution_count": null,
      "metadata": {
        "colab": {
          "base_uri": "https://localhost:8080/"
        },
        "id": "Qt9ZB4LKN2f1",
        "outputId": "ee26c6eb-b5a2-4f72-cd3d-ded73b2b21ed"
      },
      "outputs": [
        {
          "name": "stdout",
          "output_type": "stream",
          "text": [
            "Enter the value of n: 5\n",
            "sum of n+nn+nnn is: 615\n"
          ]
        }
      ],
      "source": [
        "n=int(input(\"Enter the value of n: \"))\n",
        "n=n+n*11+n*111\n",
        "print(f\"sum of n+nn+nnn is: {n}\")\n"
      ]
    },
    {
      "cell_type": "markdown",
      "metadata": {
        "id": "3DHH6dvRQGQW"
      },
      "source": [
        "Write a program to accept a string from the user and display characters that are present at an even index number.\n",
        "\n",
        "For example, str = \"pynative\" so you should display ‘p’, ‘n’, ‘t’, ‘v’."
      ]
    },
    {
      "cell_type": "code",
      "execution_count": null,
      "metadata": {
        "colab": {
          "base_uri": "https://localhost:8080/",
          "height": 53
        },
        "id": "KmcsAAZ2QHcl",
        "outputId": "a589a7d2-61c3-407a-82f2-dc3a659e338f"
      },
      "outputs": [
        {
          "name": "stdout",
          "output_type": "stream",
          "text": [
            "pynative\n"
          ]
        },
        {
          "data": {
            "application/vnd.google.colaboratory.intrinsic+json": {
              "type": "string"
            },
            "text/plain": [
              "'pntv'"
            ]
          },
          "execution_count": 18,
          "metadata": {},
          "output_type": "execute_result"
        }
      ],
      "source": [
        "name=(\"pynative\")\n",
        "print(name)\n",
        "\n",
        "name[: : 2]"
      ]
    },
    {
      "cell_type": "markdown",
      "metadata": {
        "id": "uNm73VTPQnG4"
      },
      "source": [
        "Write a program to remove characters from a string starting from zero up to n and return a new string.\n",
        "\n",
        "For example:\n",
        "\n",
        "remove_chars(\"pynative\", 4) so output must be tive. Here we need to remove first four characters from a string.\n",
        "remove_chars(\"pynative\", 2) so output must be native. Here we need to remove first two characters from a string."
      ]
    },
    {
      "cell_type": "code",
      "execution_count": null,
      "metadata": {
        "colab": {
          "base_uri": "https://localhost:8080/",
          "height": 36
        },
        "id": "rcBQVjN6Qn79",
        "outputId": "05e8a071-c995-459f-e146-2506f7c45537"
      },
      "outputs": [
        {
          "data": {
            "application/vnd.google.colaboratory.intrinsic+json": {
              "type": "string"
            },
            "text/plain": [
              "'tive'"
            ]
          },
          "execution_count": 24,
          "metadata": {},
          "output_type": "execute_result"
        }
      ],
      "source": [
        "remove_chars=(\"pynative\")\n",
        "remove_chars[4::]\n",
        "             "
      ]
    },
    {
      "cell_type": "code",
      "execution_count": null,
      "metadata": {
        "colab": {
          "base_uri": "https://localhost:8080/",
          "height": 36
        },
        "id": "T5BrURAYRyv9",
        "outputId": "1d884ed1-0e1f-466c-de0b-3eebf77fb488"
      },
      "outputs": [
        {
          "data": {
            "application/vnd.google.colaboratory.intrinsic+json": {
              "type": "string"
            },
            "text/plain": [
              "'native'"
            ]
          },
          "execution_count": 25,
          "metadata": {},
          "output_type": "execute_result"
        }
      ],
      "source": [
        "remove_chars=(\"pynative\")\n",
        "remove_chars[2::]"
      ]
    },
    {
      "cell_type": "markdown",
      "metadata": {
        "id": "TkeFT5aeSb8x"
      },
      "source": [
        "Write a program to find how many times substring “Emma” appears in the given string.\n",
        "\"Emma is good developer. Emma is a writer\""
      ]
    },
    {
      "cell_type": "code",
      "execution_count": null,
      "metadata": {
        "colab": {
          "base_uri": "https://localhost:8080/"
        },
        "id": "tJtOUPF7SerE",
        "outputId": "70eee0a4-d41f-46e6-a1ad-4fdf2892e120"
      },
      "outputs": [
        {
          "name": "stdout",
          "output_type": "stream",
          "text": [
            "2\n"
          ]
        }
      ],
      "source": [
        "name=(\"Emma is good developer. Emma is a writer\")\n",
        "count=name.count(\"Emma\")\n",
        "print(count)"
      ]
    },
    {
      "cell_type": "markdown",
      "metadata": {
        "id": "R6QDuMEWTcEd"
      },
      "source": [
        "Print the following pattern"
      ]
    },
    {
      "cell_type": "code",
      "execution_count": null,
      "metadata": {
        "colab": {
          "base_uri": "https://localhost:8080/"
        },
        "id": "TSTRIJTOTdcz",
        "outputId": "4b4c8e20-aecd-42a5-940a-9008bd6995da"
      },
      "outputs": [
        {
          "name": "stdout",
          "output_type": "stream",
          "text": [
            "1\n",
            "2 2\n",
            "3 3 3\n",
            "4 4 4 4\n",
            "5 5 5 5 5\n"
          ]
        }
      ],
      "source": [
        "print(\"\"\"\n",
        "1\n",
        "2 2\n",
        "3 3 3\n",
        "4 4 4 4\n",
        "5 5 5 5 5\"\"\")"
      ]
    },
    {
      "cell_type": "markdown",
      "metadata": {
        "id": "i0Vyge8UUQNt"
      },
      "source": [
        "Write a program to check if the given number is a palindrome number.\n",
        "\n",
        "A palindrome number is a number that is same after reverse. For example 545, is the palindrome numbers"
      ]
    },
    {
      "cell_type": "code",
      "execution_count": null,
      "metadata": {
        "id": "-39VbGmngrdc"
      },
      "outputs": [],
      "source": []
    },
    {
      "cell_type": "markdown",
      "metadata": {
        "id": "ULFNvjHFufGi"
      },
      "source": [
        "The provided code stub reads two integers from STDIN,  and . Add code to print three lines where:\n",
        "\n",
        "The first line contains the sum of the two numbers.\n",
        "The second line contains the difference of the two numbers (first - second).\n",
        "The third line contains the product of the two numbers."
      ]
    },
    {
      "cell_type": "code",
      "execution_count": null,
      "metadata": {
        "colab": {
          "base_uri": "https://localhost:8080/"
        },
        "id": "ChI0ofwSuf_n",
        "outputId": "40c068e5-403e-4c91-b126-bdada945ba9a"
      },
      "outputs": [
        {
          "name": "stdout",
          "output_type": "stream",
          "text": [
            "Enter the value the a: 5\n",
            "Enter the value the a: 3\n",
            "The sum of the two numbers is: 8\n",
            "The difference of the two numbers is: 2\n",
            "The product of the two numbers is: 15\n"
          ]
        }
      ],
      "source": [
        "a=int(input(\"Enter the value the a: \"))\n",
        "b=int(input(\"Enter the value the a: \"))\n",
        "\n",
        "c=a+b\n",
        "print(f\"The sum of the two numbers is: {c}\")\n",
        "\n",
        "d=a-b\n",
        "print(f\"The difference of the two numbers is: {d}\")\n",
        "\n",
        "e=a*b\n",
        "print(f\"The product of the two numbers is: {e}\")"
      ]
    },
    {
      "cell_type": "markdown",
      "metadata": {
        "id": "gAVwR0AgvUjE"
      },
      "source": [
        "The provided code stub reads two integers,  and , from STDIN.\n",
        "\n",
        "Add logic to print two lines. The first line should contain the result of integer division,  // . The second line should contain the result of float division,  / .\n",
        "\n",
        "No rounding or formatting is necessary."
      ]
    },
    {
      "cell_type": "code",
      "execution_count": null,
      "metadata": {
        "colab": {
          "base_uri": "https://localhost:8080/"
        },
        "id": "Mkb3TlrwvXpd",
        "outputId": "ac592a5d-2003-4f12-958e-703860b3758b"
      },
      "outputs": [
        {
          "name": "stdout",
          "output_type": "stream",
          "text": [
            "Enter the value the a: 3\n",
            "Enter the value the a: 5\n",
            "The result of integer division is: 0\n",
            "The result of float division is: 0.6\n"
          ]
        }
      ],
      "source": [
        "a=int(input(\"Enter the value the a: \"))\n",
        "b=int(input(\"Enter the value the a: \"))\n",
        "\n",
        "c=a//b\n",
        "print(f\"The result of integer division is: {c}\")\n",
        "\n",
        "d=a/b\n",
        "print(f\"The result of float division is: {d}\")"
      ]
    },
    {
      "cell_type": "markdown",
      "metadata": {
        "id": "Aw_-UzmA2fPu"
      },
      "source": [
        "How to print even numbers from 1 to 20?\n",
        "\n",
        "\n"
      ]
    },
    {
      "cell_type": "code",
      "execution_count": null,
      "metadata": {
        "colab": {
          "base_uri": "https://localhost:8080/"
        },
        "id": "WL-5_YNz-9UI",
        "outputId": "08910719-a5a7-40f1-deb4-a1e8abb58237"
      },
      "outputs": [
        {
          "name": "stdout",
          "output_type": "stream",
          "text": [
            "0\n",
            "2\n",
            "4\n",
            "6\n",
            "8\n",
            "10\n",
            "12\n",
            "14\n",
            "16\n",
            "18\n"
          ]
        }
      ],
      "source": [
        "for i in range(0,20,2):\n",
        "  print(i)"
      ]
    },
    {
      "cell_type": "markdown",
      "metadata": {
        "id": "qRSlMOtB_JvJ"
      },
      "source": [
        "How to print odd numbers from 1 to 20?\n"
      ]
    },
    {
      "cell_type": "code",
      "execution_count": null,
      "metadata": {
        "colab": {
          "base_uri": "https://localhost:8080/"
        },
        "id": "yP-3mYxX4gvs",
        "outputId": "f8a49dc6-442f-4c5f-c8c4-4bead4f348f3"
      },
      "outputs": [
        {
          "name": "stdout",
          "output_type": "stream",
          "text": [
            "1\n",
            "3\n",
            "5\n",
            "7\n",
            "9\n",
            "11\n",
            "13\n",
            "15\n",
            "17\n",
            "19\n"
          ]
        }
      ],
      "source": [
        "for i in range(0,20):\n",
        "  if i %2:\n",
        "    print(i)\n",
        "  "
      ]
    },
    {
      "cell_type": "markdown",
      "metadata": {
        "id": "oZvlenRbet4O"
      },
      "source": [
        "Lists: \n",
        "\n",
        "Earlier, while discussing introduction to strings we have introduced the concept of a sequence in Python. In Python, Lists can be considered as the most general version of a \"sequence\". Unlike strings, they are mutable which means the elements inside a list can be changed!\n",
        "\n",
        "Lists are constructed with brackets [ ] and commas separating every element in the list.\n",
        "\n",
        "Let's go ahead and see how we can construct lists!"
      ]
    },
    {
      "cell_type": "code",
      "execution_count": null,
      "metadata": {
        "colab": {
          "base_uri": "https://localhost:8080/"
        },
        "id": "BM4GUlqsgdaV",
        "outputId": "fac12419-b9d0-4c87-b728-115290a2ea90"
      },
      "outputs": [
        {
          "data": {
            "text/plain": [
              "list"
            ]
          },
          "execution_count": 2,
          "metadata": {},
          "output_type": "execute_result"
        }
      ],
      "source": [
        "A=[1,2,3,4,5.0, \"Sushital\", 1+2j, True, False] # A is acting like a container which stores all different data types\n",
        "type(A)"
      ]
    },
    {
      "cell_type": "code",
      "execution_count": null,
      "metadata": {
        "colab": {
          "base_uri": "https://localhost:8080/"
        },
        "id": "UUO5AnwZgza2",
        "outputId": "2bb7215f-ddd2-41c2-a368-d594891f089b"
      },
      "outputs": [
        {
          "name": "stdout",
          "output_type": "stream",
          "text": [
            "1\n",
            "2\n",
            "3\n",
            "4\n",
            "5.0\n",
            "Sushital\n",
            "(1+2j)\n",
            "True\n",
            "False\n"
          ]
        }
      ],
      "source": [
        "A=[1,2,3,4,5.0, \"Sushital\", 1+2j, True, False]\n",
        "for element in A: # using for loop to print the elements in A\n",
        "  print(element)"
      ]
    },
    {
      "cell_type": "code",
      "execution_count": null,
      "metadata": {
        "colab": {
          "base_uri": "https://localhost:8080/"
        },
        "id": "EdXdFdbth4cR",
        "outputId": "5ac4055f-a96e-43a5-83b3-6c1127f4b015"
      },
      "outputs": [
        {
          "name": "stdout",
          "output_type": "stream",
          "text": [
            "1\n",
            "2\n",
            "3\n",
            "4\n",
            "5.0\n",
            "Sushital\n",
            "(1+2j)\n",
            "True\n",
            "False\n"
          ]
        }
      ],
      "source": [
        "for i in range(len(A)): # used range option to print the element\n",
        "  print(A[i])"
      ]
    },
    {
      "cell_type": "code",
      "execution_count": null,
      "metadata": {
        "colab": {
          "base_uri": "https://localhost:8080/"
        },
        "id": "oHP_qnzsiM2i",
        "outputId": "ceb73313-5c47-438d-ecd4-3b5ad52ed134"
      },
      "outputs": [
        {
          "name": "stdout",
          "output_type": "stream",
          "text": [
            "i=0, value=1, datatype=<class 'int'>\n",
            "i=1, value=2, datatype=<class 'int'>\n",
            "i=2, value=3, datatype=<class 'int'>\n",
            "i=3, value=4, datatype=<class 'int'>\n",
            "i=4, value=5.0, datatype=<class 'float'>\n",
            "i=5, value=Sushital, datatype=<class 'str'>\n",
            "i=6, value=(1+2j), datatype=<class 'complex'>\n",
            "i=7, value=True, datatype=<class 'bool'>\n",
            "i=8, value=False, datatype=<class 'bool'>\n"
          ]
        }
      ],
      "source": [
        "for i in range(len(A)): # how to print value & datatype from a list \n",
        "  print(f\"i={i}, value={A[i]}, datatype={type(A[i])}\")"
      ]
    },
    {
      "cell_type": "markdown",
      "metadata": {
        "id": "Ji-IqflBjFNp"
      },
      "source": [
        "Indexing and Slicing\n",
        "\n",
        "Indexing and slicing of lists works just like in Strings. Similar to string, list index starts at 0 and it can be sliced and concatenated and all operations. Let's make a new list to remind ourselves of how this works:"
      ]
    },
    {
      "cell_type": "code",
      "execution_count": null,
      "metadata": {
        "colab": {
          "base_uri": "https://localhost:8080/"
        },
        "id": "Q7JM1U_BjGsm",
        "outputId": "e50981a7-0745-4cfd-ee82-a36b1619ef57"
      },
      "outputs": [
        {
          "data": {
            "text/plain": [
              "[1, 2, 3, 4]"
            ]
          },
          "execution_count": 12,
          "metadata": {},
          "output_type": "execute_result"
        }
      ],
      "source": [
        "A=[1,2,3,4,5.0, \"Sushital\", 1+2j, True, False] #here i am calling 1st 4 elements from the list \n",
        "\n",
        "A[0:4]"
      ]
    },
    {
      "cell_type": "code",
      "execution_count": null,
      "metadata": {
        "colab": {
          "base_uri": "https://localhost:8080/"
        },
        "id": "Z0e49PFnk85w",
        "outputId": "cc8f8280-f21c-46d2-9896-7dbd083a66b9"
      },
      "outputs": [
        {
          "data": {
            "text/plain": [
              "[1, 2, 3, 4, 5.0, 'Sushital']"
            ]
          },
          "execution_count": 15,
          "metadata": {},
          "output_type": "execute_result"
        }
      ],
      "source": [
        "A[0:6:1] # here [0 is start : 6 is end : 1 is it will skip 1 element]"
      ]
    },
    {
      "cell_type": "code",
      "execution_count": null,
      "metadata": {
        "colab": {
          "base_uri": "https://localhost:8080/"
        },
        "id": "MMhjauRlkktm",
        "outputId": "4cdabcde-5288-4cb3-aec1-16850081c1a5"
      },
      "outputs": [
        {
          "data": {
            "text/plain": [
              "[1, 3, 5.0, (1+2j), False]"
            ]
          },
          "execution_count": 13,
          "metadata": {},
          "output_type": "execute_result"
        }
      ],
      "source": [
        "A[0::2] # here i am calling elements by skipping 1 digit"
      ]
    },
    {
      "cell_type": "code",
      "execution_count": null,
      "metadata": {
        "colab": {
          "base_uri": "https://localhost:8080/"
        },
        "id": "pyQKf5GakuHt",
        "outputId": "850ca0b5-401c-43dd-da2b-09d223748326"
      },
      "outputs": [
        {
          "data": {
            "text/plain": [
              "[1, 4, (1+2j)]"
            ]
          },
          "execution_count": 14,
          "metadata": {},
          "output_type": "execute_result"
        }
      ],
      "source": [
        "A[::3] # this means whithout mentioning the start & end I can skip and print the elements"
      ]
    },
    {
      "cell_type": "code",
      "execution_count": null,
      "metadata": {
        "colab": {
          "base_uri": "https://localhost:8080/"
        },
        "id": "JsWs_cLLlN1P",
        "outputId": "54356317-ff0c-4921-b7b0-1f7540bde64c"
      },
      "outputs": [
        {
          "name": "stdout",
          "output_type": "stream",
          "text": [
            "0 1\n",
            "2 3\n",
            "4 5.0\n"
          ]
        }
      ],
      "source": [
        "for i in range(0,6,2): # used range function to call any elements from the list \n",
        "  print(i, A[i])\n"
      ]
    },
    {
      "cell_type": "code",
      "execution_count": null,
      "metadata": {
        "colab": {
          "base_uri": "https://localhost:8080/"
        },
        "id": "DKPNI9eZlp78",
        "outputId": "56b5fd7e-644c-4252-b04b-12d54c5a3a97"
      },
      "outputs": [
        {
          "data": {
            "text/plain": [
              "[False, True, (1+2j), 'Sushital', 5.0, 4, 3, 2, 1]"
            ]
          },
          "execution_count": 21,
          "metadata": {},
          "output_type": "execute_result"
        }
      ],
      "source": [
        "A=[1,2,3,4,5.0, \"Sushital\", 1+2j, True, False] # print this list in reverse order\n",
        "A[::-1] # reverse of the list by using - in the last portion"
      ]
    },
    {
      "cell_type": "code",
      "execution_count": null,
      "metadata": {
        "colab": {
          "base_uri": "https://localhost:8080/",
          "height": 169
        },
        "id": "OMpI6EMemIJ7",
        "outputId": "e4b5dc80-db41-4be2-c030-14e64a92a621"
      },
      "outputs": [
        {
          "ename": "ValueError",
          "evalue": "ignored",
          "output_type": "error",
          "traceback": [
            "\u001b[0;31m---------------------------------------------------------------------------\u001b[0m",
            "\u001b[0;31mValueError\u001b[0m                                Traceback (most recent call last)",
            "\u001b[0;32m<ipython-input-22-0963cf728cf9>\u001b[0m in \u001b[0;36m<module>\u001b[0;34m\u001b[0m\n\u001b[0;32m----> 1\u001b[0;31m \u001b[0mA\u001b[0m\u001b[0;34m[\u001b[0m\u001b[0;34m:\u001b[0m\u001b[0;34m:\u001b[0m\u001b[0;36m0\u001b[0m\u001b[0;34m]\u001b[0m\u001b[0;34m\u001b[0m\u001b[0;34m\u001b[0m\u001b[0m\n\u001b[0m",
            "\u001b[0;31mValueError\u001b[0m: slice step cannot be zero"
          ]
        }
      ],
      "source": [
        "A[::0] # slice step cannot be zero. It works only from -1"
      ]
    },
    {
      "cell_type": "code",
      "execution_count": null,
      "metadata": {
        "colab": {
          "base_uri": "https://localhost:8080/"
        },
        "id": "EoUtZ9Hoqtia",
        "outputId": "75fc55be-4676-4d09-b749-a5f85e0327c2"
      },
      "outputs": [
        {
          "data": {
            "text/plain": [
              "[True, 'Sushital', 4, 2]"
            ]
          },
          "execution_count": 35,
          "metadata": {},
          "output_type": "execute_result"
        }
      ],
      "source": [
        "A=[1,2,3,4,5.0, \"Sushital\", 1+2j, True, False] #reverse order print by using start, end & steps\n",
        "A[-2:0:-2]"
      ]
    },
    {
      "cell_type": "code",
      "execution_count": null,
      "metadata": {
        "colab": {
          "base_uri": "https://localhost:8080/"
        },
        "id": "ifFDXDTRpMSI",
        "outputId": "6ed3c3fc-e973-4358-e83f-af86e94668bf"
      },
      "outputs": [
        {
          "name": "stdout",
          "output_type": "stream",
          "text": [
            "0 1\n",
            "1 2\n",
            "2 3\n",
            "3 4\n",
            "4 5.0\n",
            "5 Sushital\n",
            "6 (1+2j)\n",
            "7 True\n",
            "8 False\n"
          ]
        }
      ],
      "source": [
        "for i in range(0,len(A)): # to print list of element by using length function\n",
        "  print(i,A[i])"
      ]
    },
    {
      "cell_type": "markdown",
      "metadata": {
        "id": "K9NX7JMpt7IE"
      },
      "source": [
        "Updating list element at specific index"
      ]
    },
    {
      "cell_type": "code",
      "execution_count": null,
      "metadata": {
        "colab": {
          "base_uri": "https://localhost:8080/"
        },
        "id": "kXvRzmi2t8AI",
        "outputId": "f98f6a2e-43ae-41ed-bbec-dd82c8807eef"
      },
      "outputs": [
        {
          "name": "stdout",
          "output_type": "stream",
          "text": [
            "[1, 2, 3, 4, 5.0, 'Fazil', (1+2j), True, False]\n"
          ]
        }
      ],
      "source": [
        "A=[1,2,3,4,5.0, \"Sushital\", 1+2j, True, False] #here we can change the elements in the list. String to String\n",
        "\n",
        "A[5]=\"Fazil\" # mutable operation is allowed in python\n",
        "print(A)"
      ]
    },
    {
      "cell_type": "code",
      "execution_count": null,
      "metadata": {
        "colab": {
          "base_uri": "https://localhost:8080/"
        },
        "id": "QojCetB3ubqM",
        "outputId": "04375ec9-6326-4e43-8506-ea7f04ca4efe"
      },
      "outputs": [
        {
          "name": "stdout",
          "output_type": "stream",
          "text": [
            "[1, 2, 3, 4, 5.0, 999, (1+2j), True, False]\n"
          ]
        }
      ],
      "source": [
        "A[5]=999 # String to integer\n",
        "print(A)"
      ]
    },
    {
      "cell_type": "code",
      "execution_count": null,
      "metadata": {
        "colab": {
          "base_uri": "https://localhost:8080/"
        },
        "id": "uJ-t7S51ul8k",
        "outputId": "eed4c3d9-1940-4400-f1f0-2db0154942bd"
      },
      "outputs": [
        {
          "name": "stdout",
          "output_type": "stream",
          "text": [
            "[1, 2, 3, 4, 'Fazil', 999, (1+2j), True, False]\n"
          ]
        }
      ],
      "source": [
        "A[4]=\"Fazil\" # integer to String\n",
        "print(A)"
      ]
    },
    {
      "cell_type": "code",
      "execution_count": null,
      "metadata": {
        "colab": {
          "base_uri": "https://localhost:8080/"
        },
        "id": "XATYEtVruwtK",
        "outputId": "bae90654-30a4-4f1a-b90c-2ba185b4ac87"
      },
      "outputs": [
        {
          "name": "stdout",
          "output_type": "stream",
          "text": [
            "[1, 2, 3, 4, 4.0, 999, (1+2j), True, False]\n"
          ]
        }
      ],
      "source": [
        "A[4]=4.0 # string to float\n",
        "print(A)"
      ]
    },
    {
      "cell_type": "markdown",
      "metadata": {
        "id": "RGk4RRuYvlEs"
      },
      "source": [
        "Addition of two lists"
      ]
    },
    {
      "cell_type": "code",
      "execution_count": null,
      "metadata": {
        "colab": {
          "base_uri": "https://localhost:8080/"
        },
        "id": "l9rmxO_9vnpi",
        "outputId": "c2140555-48cc-43d5-885e-aaae3e03f332"
      },
      "outputs": [
        {
          "name": "stdout",
          "output_type": "stream",
          "text": [
            "[1, 2, 3, 4, 5.0, 'Sushital', (1+2j), True, False, 98, 45]\n"
          ]
        }
      ],
      "source": [
        "A=[1,2,3,4,5.0, \"Sushital\", 1+2j, True, False] # here we are adding two lists A+B\n",
        "B=[98,45]\n",
        "\n",
        "print(A+B)"
      ]
    },
    {
      "cell_type": "code",
      "execution_count": null,
      "metadata": {
        "colab": {
          "base_uri": "https://localhost:8080/"
        },
        "id": "ZJEzKnGDv6C_",
        "outputId": "31dac67b-085b-462c-a3b5-37b88132feb5"
      },
      "outputs": [
        {
          "name": "stdout",
          "output_type": "stream",
          "text": [
            "[1, 2, 3, 4, 5.0, 'Sushital', (1+2j), True, False] [98, 45]\n"
          ]
        }
      ],
      "source": [
        "A # when we add two lists it will not change the value of the elements. Element of A & B will remain same\n",
        "B\n",
        "print(A,\n",
        "B)"
      ]
    },
    {
      "cell_type": "code",
      "execution_count": null,
      "metadata": {
        "colab": {
          "base_uri": "https://localhost:8080/"
        },
        "id": "TeWpNxUtwP6n",
        "outputId": "19d7e1bc-7176-40e3-c873-74a7666950de"
      },
      "outputs": [
        {
          "name": "stdout",
          "output_type": "stream",
          "text": [
            "[1, 2, 3, 4, 5.0, 'Sushital', (1+2j), True, False, 98, 45]\n"
          ]
        }
      ],
      "source": [
        "A=A+B #here we are changing the elements of A by adding B into it. Now if we print it will change the value of A\n",
        "print(A)"
      ]
    },
    {
      "cell_type": "markdown",
      "metadata": {
        "id": "nSQWJOnSpPq5"
      },
      "source": [
        "Repition of List"
      ]
    },
    {
      "cell_type": "code",
      "execution_count": null,
      "metadata": {
        "colab": {
          "base_uri": "https://localhost:8080/"
        },
        "id": "nK5rCps0pQ5V",
        "outputId": "95781fef-6766-4367-96cf-801bc116e4cf"
      },
      "outputs": [
        {
          "data": {
            "text/plain": [
              "[1,\n",
              " 2,\n",
              " 3,\n",
              " 4,\n",
              " 5.0,\n",
              " 'Sushital',\n",
              " (1+2j),\n",
              " True,\n",
              " False,\n",
              " 1,\n",
              " 2,\n",
              " 3,\n",
              " 4,\n",
              " 5.0,\n",
              " 'Sushital',\n",
              " (1+2j),\n",
              " True,\n",
              " False]"
            ]
          },
          "execution_count": 2,
          "metadata": {},
          "output_type": "execute_result"
        }
      ],
      "source": [
        "A=[1,2,3,4,5.0, \"Sushital\", 1+2j, True, False] # we can use multiplication method to double list but division & substraction is not possible\n",
        "A*2"
      ]
    },
    {
      "cell_type": "code",
      "execution_count": null,
      "metadata": {
        "colab": {
          "base_uri": "https://localhost:8080/"
        },
        "id": "B57JPkWGpqvk",
        "outputId": "2ee58025-b96e-4122-bf27-472477f5e98f"
      },
      "outputs": [
        {
          "data": {
            "text/plain": [
              "[1,\n",
              " 2,\n",
              " 3,\n",
              " 4,\n",
              " 5.0,\n",
              " 'Sushital',\n",
              " (1+2j),\n",
              " True,\n",
              " False,\n",
              " 1,\n",
              " 2,\n",
              " 3,\n",
              " 4,\n",
              " 5.0,\n",
              " 'Sushital',\n",
              " (1+2j),\n",
              " True,\n",
              " False]"
            ]
          },
          "execution_count": 3,
          "metadata": {},
          "output_type": "execute_result"
        }
      ],
      "source": [
        "A+A # even with addition we will double the list "
      ]
    },
    {
      "cell_type": "markdown",
      "metadata": {
        "id": "tkDoLfZXMEt0"
      },
      "source": [
        "Basic List Methods: \n",
        "\n",
        "If you are familiar with another programming language, start to draw parallels between lists in Python and arrays in other language. There are two reasons which tells why the lists in Python are more flexible than arrays in other programming language:\n",
        "\n",
        "a. They have no fixed size (which means we need not to specify how big the list will be)\n",
        "\n",
        "b. They have no fixed type constraint\n",
        "\n",
        "Let's go ahead and explore some more special methods for lists:"
      ]
    },
    {
      "cell_type": "markdown",
      "metadata": {
        "id": "NcwF4lIEp4jm"
      },
      "source": [
        "len()\n",
        "\n",
        "length of a list can be calculated using in built len()"
      ]
    },
    {
      "cell_type": "code",
      "execution_count": null,
      "metadata": {
        "colab": {
          "base_uri": "https://localhost:8080/"
        },
        "id": "uZ6Vh1ohMHEP",
        "outputId": "b3145bde-80fc-442d-c385-98abe7a7b793"
      },
      "outputs": [
        {
          "data": {
            "text/plain": [
              "9"
            ]
          },
          "execution_count": 4,
          "metadata": {},
          "output_type": "execute_result"
        }
      ],
      "source": [
        "A=[1,2,3,4,5.0, \"Sushital\", 1+2j, True, False]\n",
        "len(A) # with this funciton we can get the count or length of a list"
      ]
    },
    {
      "cell_type": "markdown",
      "metadata": {
        "id": "_x7Y24eBqf47"
      },
      "source": [
        "How to take input from a user and print the list of items"
      ]
    },
    {
      "cell_type": "code",
      "execution_count": null,
      "metadata": {
        "colab": {
          "base_uri": "https://localhost:8080/"
        },
        "id": "nXHmfwq9qkAk",
        "outputId": "8f8f91a9-36c4-41ec-c6f7-176fe1b40e23"
      },
      "outputs": [
        {
          "name": "stdout",
          "output_type": "stream",
          "text": [
            "Number of items to be purchased: 2\n",
            "Enter the items you want to purchase: kite\n",
            "Enter the items you want to purchase: thread\n",
            "['kite', 'thread']\n",
            "2\n"
          ]
        }
      ],
      "source": [
        "list_of_items=list() # using list() to take input from the user about the length of their list\n",
        "\n",
        "N=int(input(\"Number of items to be purchased: \"))\n",
        "for i in range(N):\n",
        "  user_input=input(\"Enter the items you want to purchase: \")\n",
        "  list_of_items=list_of_items+[user_input]\n",
        "\n",
        "print(list_of_items)\n",
        "print(N)"
      ]
    },
    {
      "cell_type": "code",
      "execution_count": null,
      "metadata": {
        "colab": {
          "base_uri": "https://localhost:8080/"
        },
        "id": "lbEG-PYysdaU",
        "outputId": "5e208e15-bce0-4a68-fce2-62aed66c997a"
      },
      "outputs": [
        {
          "name": "stdout",
          "output_type": "stream",
          "text": [
            "No of items to be purchased: 2\n",
            "Enter the items you want to purchase: kite\n",
            "Enter the items you want to purchase: thread\n",
            "['kite', 'thread']\n"
          ]
        }
      ],
      "source": [
        "list_of_items=list() # used while loop to take input & print list from user\n",
        "\n",
        "N=int(input(\"No of items to be purchased: \"))\n",
        "i=0\n",
        "while i<N: \n",
        "  user_input=input(\"Enter the items you want to purchase: \")\n",
        "  list_of_items=list_of_items+[user_input]\n",
        "  i=i+1\n",
        "\n",
        "print(list_of_items)"
      ]
    },
    {
      "cell_type": "markdown",
      "metadata": {
        "id": "76XolyAOuK7o"
      },
      "source": [
        "Check membership in a list"
      ]
    },
    {
      "cell_type": "code",
      "execution_count": null,
      "metadata": {
        "colab": {
          "base_uri": "https://localhost:8080/"
        },
        "id": "tRdEtKWYuMoL",
        "outputId": "9d5b9efb-d726-489a-d043-51c91b9a6a0d"
      },
      "outputs": [
        {
          "data": {
            "text/plain": [
              "True"
            ]
          },
          "execution_count": 20,
          "metadata": {},
          "output_type": "execute_result"
        }
      ],
      "source": [
        "A=[1,2,3,4,5.0, \"Sushital\", 1+2j, True, False] # this is to call particular name or number from the list \n",
        "\"Sushital\" in A"
      ]
    },
    {
      "cell_type": "code",
      "execution_count": null,
      "metadata": {
        "colab": {
          "base_uri": "https://localhost:8080/"
        },
        "id": "tT2pN0kXukiH",
        "outputId": "c8131503-4830-490e-ebeb-f53ce2c50b97"
      },
      "outputs": [
        {
          "data": {
            "text/plain": [
              "True"
            ]
          },
          "execution_count": 21,
          "metadata": {},
          "output_type": "execute_result"
        }
      ],
      "source": [
        "1+2j in A # even we can check for complex numbers "
      ]
    },
    {
      "cell_type": "code",
      "execution_count": null,
      "metadata": {
        "colab": {
          "base_uri": "https://localhost:8080/"
        },
        "id": "NDK31dvJusu4",
        "outputId": "71c72215-f712-4281-9c58-530872cde20a"
      },
      "outputs": [
        {
          "data": {
            "text/plain": [
              "False"
            ]
          },
          "execution_count": 22,
          "metadata": {},
          "output_type": "execute_result"
        }
      ],
      "source": [
        "\"Fazil\" in A"
      ]
    },
    {
      "cell_type": "code",
      "execution_count": null,
      "metadata": {
        "colab": {
          "base_uri": "https://localhost:8080/"
        },
        "id": "FspeqbWVuxl-",
        "outputId": "17041c0b-a389-452d-8026-8654a5fcc0c9"
      },
      "outputs": [
        {
          "name": "stdout",
          "output_type": "stream",
          "text": [
            "No its not available\n"
          ]
        }
      ],
      "source": [
        "A=[1,2,3,4,5.0, \"Sushital\", 1+2j, True, False] # using if else condition to check\n",
        "if \"Fazil\" in A: \n",
        "  print(\"Yes it is available in the list\")\n",
        "else: \n",
        "  print(\"No its not available\")\n"
      ]
    },
    {
      "cell_type": "code",
      "execution_count": null,
      "metadata": {
        "colab": {
          "base_uri": "https://localhost:8080/"
        },
        "id": "agXs99j9vRLu",
        "outputId": "f4f77640-94cd-4df3-b0bf-e204bd038ac8"
      },
      "outputs": [
        {
          "name": "stdout",
          "output_type": "stream",
          "text": [
            "No its not available hence adding to the list\n",
            "[1, 2, 3, 4, 5.0, 'Sushital', (1+2j), True, False, 'Fazil']\n"
          ]
        }
      ],
      "source": [
        "A=[1,2,3,4,5.0, \"Sushital\", 1+2j, True, False] # using if else condition to check\n",
        "if \"Fazil\" in A: \n",
        "  print(\"Yes it is available in the list\")\n",
        "else: \n",
        "  print(\"No its not available hence adding to the list\")\n",
        "  A=A+[\"Fazil\"] # using concatination condition to add Fazil in the list\n",
        "  print(A)"
      ]
    },
    {
      "cell_type": "code",
      "execution_count": null,
      "metadata": {
        "colab": {
          "base_uri": "https://localhost:8080/"
        },
        "id": "42JJsXCMvqS7",
        "outputId": "91f7b536-0111-4714-d2d3-b6f7f32476f1"
      },
      "outputs": [
        {
          "name": "stdout",
          "output_type": "stream",
          "text": [
            "Items to add in the list: Fazil\n",
            "Not in the list, will add now\n"
          ]
        }
      ],
      "source": [
        "new_item=input(\"Items to add in the list: \")\n",
        "\n",
        "if new_item not in A: \n",
        "  print(\"Not in the list, will add now\")\n",
        "else:\n",
        "  print(\"Yes, its available\")\n",
        "  A=A+[new_item]"
      ]
    },
    {
      "cell_type": "code",
      "execution_count": null,
      "metadata": {
        "colab": {
          "base_uri": "https://localhost:8080/"
        },
        "id": "NqN0MwrJMUzn",
        "outputId": "8e62e833-454a-4368-bcec-6c6a8d4bc019"
      },
      "outputs": [
        {
          "name": "stdout",
          "output_type": "stream",
          "text": [
            "Enter your number: 3\n",
            "123"
          ]
        }
      ],
      "source": [
        "n=int(input(\"Enter your number: \"))\n",
        "for n in range(1,n+1):\n",
        "  print(n,end=\"\")"
      ]
    },
    {
      "cell_type": "markdown",
      "metadata": {
        "id": "-r47hVMjWyPe"
      },
      "source": [
        "Given an integer, , perform the following conditional actions:\n",
        "\n",
        "If n  is odd, print Weird\n",
        "If n is even and in the inclusive range of  to , print Not Weird\n",
        "If n is even and in the inclusive range of  to , print Weird\n",
        "If n is even and greater than , print Not Weird"
      ]
    },
    {
      "cell_type": "code",
      "execution_count": null,
      "metadata": {
        "colab": {
          "base_uri": "https://localhost:8080/"
        },
        "id": "MvCH-Fd2ZsqI",
        "outputId": "9b915425-db83-451e-fec4-62784e3dd557"
      },
      "outputs": [
        {
          "name": "stdout",
          "output_type": "stream",
          "text": [
            "1994\n",
            "False\n"
          ]
        }
      ],
      "source": [
        "def is_leap(year):\n",
        "  leap = False\n",
        "\n",
        "  if year%400==0: \n",
        "      leap=True\n",
        "  elif year%100==0:\n",
        "      leap=False  \n",
        "  elif year%4==0:\n",
        "      leap=True\n",
        "\n",
        "  return leap\n",
        "    \n",
        "year = int(input())\n",
        "print(is_leap(year))"
      ]
    },
    {
      "cell_type": "code",
      "execution_count": null,
      "metadata": {
        "colab": {
          "base_uri": "https://localhost:8080/"
        },
        "id": "ZDZuCaw04eBg",
        "outputId": "7e4ef77a-87a0-4435-98a6-1d6b437ba17a"
      },
      "outputs": [
        {
          "name": "stdout",
          "output_type": "stream",
          "text": [
            "1\n",
            "weird\n"
          ]
        }
      ],
      "source": [
        "n = int(input())\n",
        "#print(n)\n",
        "\n",
        "if n in range(2,5) and n%2==0:\n",
        "  print(\"not weird\")\n",
        "else:\n",
        "  print(\"weird\")"
      ]
    },
    {
      "cell_type": "markdown",
      "metadata": {
        "id": "rcL-rce2JFaI"
      },
      "source": [
        "# nesting of the list"
      ]
    },
    {
      "cell_type": "code",
      "execution_count": null,
      "metadata": {
        "colab": {
          "base_uri": "https://localhost:8080/",
          "height": 36
        },
        "id": "-v-vsZcRJbDy",
        "outputId": "30faa744-055f-43f4-b58f-ca524b59f3e1"
      },
      "outputs": [
        {
          "data": {
            "application/vnd.google.colaboratory.intrinsic+json": {
              "type": "string"
            },
            "text/plain": [
              "'Hiii'"
            ]
          },
          "execution_count": 3,
          "metadata": {},
          "output_type": "execute_result"
        }
      ],
      "source": [
        "A = [[1,2,3], [11, 22, 33, [500, 502]], [45, [239, \"Hiii\"], 56, 77]]\n",
        "A[2][1][1]"
      ]
    },
    {
      "cell_type": "code",
      "execution_count": null,
      "metadata": {
        "colab": {
          "base_uri": "https://localhost:8080/"
        },
        "id": "qhCoZaDAP8-E",
        "outputId": "196d1263-c9dc-4e7d-db5e-42572aa62f6b"
      },
      "outputs": [
        {
          "name": "stdout",
          "output_type": "stream",
          "text": [
            "65000\n"
          ]
        }
      ],
      "source": [
        "amazon_cart = [[\"watch\", 5000], [\"phone\", 10000], [\"laptop\", 50000]] # print the total cost\n",
        "amazon_cart=amazon_cart[0][1]+amazon_cart[1][1]+amazon_cart[2][1] # without using for loop\n",
        "print(amazon_cart)"
      ]
    },
    {
      "cell_type": "code",
      "execution_count": null,
      "metadata": {
        "colab": {
          "base_uri": "https://localhost:8080/"
        },
        "id": "KteYgt4rRYJy",
        "outputId": "c2bfdb0d-969a-45be-a973-3669e58f7229"
      },
      "outputs": [
        {
          "name": "stdout",
          "output_type": "stream",
          "text": [
            "5000\n",
            "10000\n",
            "50000\n",
            "65000\n"
          ]
        }
      ],
      "source": [
        "total_cost=0\n",
        "amazon_cart = [[\"watch\", 5000], [\"phone\", 10000], [\"laptop\", 50000]] # print the total cost\n",
        "for items in range(len(amazon_cart)): # by using for loop\n",
        "  print(amazon_cart[items][1])\n",
        "  total_cost=total_cost+amazon_cart[items][1]\n",
        "print(total_cost)"
      ]
    },
    {
      "cell_type": "code",
      "execution_count": null,
      "metadata": {
        "colab": {
          "base_uri": "https://localhost:8080/"
        },
        "id": "mGfmwarMSvnL",
        "outputId": "c1c1fb12-71ed-4da1-ba41-696166c9d51b"
      },
      "outputs": [
        {
          "name": "stdout",
          "output_type": "stream",
          "text": [
            "5000\n",
            "10000\n",
            "50000\n",
            "65000\n"
          ]
        }
      ],
      "source": [
        "total_cost=0\n",
        "\n",
        "amazon_cart = [[\"watch\", 5000], [\"phone\", 10000], [\"laptop\", 50000]] # print the total cost\n",
        "for items in amazon_cart: # without using range function\n",
        "  print(items[1])\n",
        "  total_cost=total_cost+items[1]\n",
        "print(total_cost)"
      ]
    },
    {
      "cell_type": "markdown",
      "metadata": {
        "id": "bEO341T9WK79"
      },
      "source": [
        "## List Comprehension"
      ]
    },
    {
      "cell_type": "code",
      "execution_count": null,
      "metadata": {
        "id": "eArrnTrjWNgg"
      },
      "outputs": [],
      "source": [
        "# list which contains list of square of nos between 1 to 10\n",
        "\n",
        "\n",
        "A = [1,2,3,4,5,6,7,8,9,10]"
      ]
    },
    {
      "cell_type": "code",
      "execution_count": null,
      "metadata": {
        "colab": {
          "base_uri": "https://localhost:8080/"
        },
        "id": "x0QuvpWvWQXr",
        "outputId": "0a1ac9f4-dc9e-4e5c-b94a-7be6b6339d57"
      },
      "outputs": [
        {
          "name": "stdout",
          "output_type": "stream",
          "text": [
            "[1, 4, 9, 16, 25, 36, 49, 64, 81, 100]\n"
          ]
        }
      ],
      "source": [
        "A = [1,2,3,4,5,6,7,8,9,10] # to print power of numbers in list using append function\n",
        "answer=list()\n",
        "\n",
        "for element in A: \n",
        "  #print(element**2)\n",
        "  answer.append(element**2)\n",
        "print(answer)"
      ]
    },
    {
      "cell_type": "code",
      "execution_count": null,
      "metadata": {
        "colab": {
          "base_uri": "https://localhost:8080/"
        },
        "id": "2UIEhMDHXLBs",
        "outputId": "3974a4be-86be-42ee-fc5b-93b27e90344e"
      },
      "outputs": [
        {
          "name": "stdout",
          "output_type": "stream",
          "text": [
            "[1, 9, 25, 49, 81]\n"
          ]
        }
      ],
      "source": [
        "A = [1,2,3,4,5,6,7,8,9,10] # to print odd numbers from the list \n",
        "answer=list()\n",
        "\n",
        "for element in A:\n",
        "  if element%2 !=0:\n",
        "    #print(element**2)\n",
        "    answer.append(element**2)\n",
        "print(answer)"
      ]
    },
    {
      "cell_type": "code",
      "execution_count": null,
      "metadata": {
        "colab": {
          "base_uri": "https://localhost:8080/"
        },
        "id": "k6FKgrWTa0Bq",
        "outputId": "3e8601cd-176c-4167-df60-a7e76f325d98"
      },
      "outputs": [
        {
          "name": "stdout",
          "output_type": "stream",
          "text": [
            "[1, 9, 25, 49, 81]\n"
          ]
        }
      ],
      "source": [
        "answer=[element**2 for element in A if element%2 !=0] #list comprehension.. by using all functions in single line\n",
        "print(answer)"
      ]
    },
    {
      "cell_type": "markdown",
      "metadata": {
        "id": "SNuL8miFPvVs"
      },
      "source": [
        "## Count\n",
        "\n",
        "this helps to count the numbers & alphabets in a list."
      ]
    },
    {
      "cell_type": "code",
      "execution_count": null,
      "metadata": {
        "colab": {
          "base_uri": "https://localhost:8080/"
        },
        "id": "x0N9tuPTRucb",
        "outputId": "ddf19828-b3ae-4111-c93d-da3f0cda99f9"
      },
      "outputs": [
        {
          "data": {
            "text/plain": [
              "3"
            ]
          },
          "execution_count": 4,
          "metadata": {},
          "output_type": "execute_result"
        }
      ],
      "source": [
        "A=[1,1,2,2,3,3,3,4,4,5,6] # here we are counting number of 3 from the list\n",
        "\n",
        "A.count(3)"
      ]
    },
    {
      "cell_type": "code",
      "execution_count": null,
      "metadata": {
        "colab": {
          "base_uri": "https://localhost:8080/"
        },
        "id": "GKrx-sANSFSZ",
        "outputId": "753e1198-bb72-4e77-e13b-9354d7cd8198"
      },
      "outputs": [
        {
          "data": {
            "text/plain": [
              "1"
            ]
          },
          "execution_count": 16,
          "metadata": {},
          "output_type": "execute_result"
        }
      ],
      "source": [
        "A=[1,1,[2,2],3,3,3,[4,4],5,6]\n",
        "\n",
        "A.count([2,2])"
      ]
    },
    {
      "cell_type": "code",
      "execution_count": null,
      "metadata": {
        "colab": {
          "base_uri": "https://localhost:8080/"
        },
        "id": "roldXEe4S5XW",
        "outputId": "f94c9c56-4154-4ae7-dd75-88c60191d4bd"
      },
      "outputs": [
        {
          "name": "stdout",
          "output_type": "stream",
          "text": [
            "1 2\n",
            "1 2\n",
            "2 2\n",
            "2 2\n",
            "3 3\n",
            "3 3\n",
            "3 3\n",
            "4 2\n",
            "4 2\n",
            "5 1\n",
            "6 1\n"
          ]
        }
      ],
      "source": [
        "A=[1,1,2,2,3,3,3,4,4,5,6] # using for function to count numbers from a list\n",
        "for i in A: \n",
        "   print(i, A.count(i))"
      ]
    },
    {
      "cell_type": "code",
      "execution_count": null,
      "metadata": {
        "colab": {
          "base_uri": "https://localhost:8080/"
        },
        "id": "JEazCqyoTcZC",
        "outputId": "1989d9d0-505d-44e3-ae93-316a4330ebfa"
      },
      "outputs": [
        {
          "name": "stdout",
          "output_type": "stream",
          "text": [
            "s 2\n",
            "u 1\n",
            "s 2\n",
            "h 1\n",
            "i 1\n",
            "t 1\n",
            "a 1\n",
            "l 1\n"
          ]
        }
      ],
      "source": [
        "A=\"sushital\"\n",
        "for i in A:\n",
        "  print(i, A.count(i))"
      ]
    },
    {
      "cell_type": "markdown",
      "metadata": {
        "id": "UOurCGRFToAe"
      },
      "source": [
        "## Extend\n",
        "\n",
        "this function is used to add two list"
      ]
    },
    {
      "cell_type": "code",
      "execution_count": null,
      "metadata": {
        "colab": {
          "base_uri": "https://localhost:8080/"
        },
        "id": "V7JHVJXrTrVw",
        "outputId": "83d10c8e-4a62-41c9-f2c4-897bad127d92"
      },
      "outputs": [
        {
          "name": "stdout",
          "output_type": "stream",
          "text": [
            "[1, 2, 3, 4, 11, 22, 33, 44]\n"
          ]
        }
      ],
      "source": [
        "A=[1,2,3,4] # this function is to add two list together one after the another. \n",
        "B=[11,22,33,44]\n",
        "\n",
        "A.extend (B) #permanent operation whereas adding list by + is not a permanent solution\n",
        "print(A)"
      ]
    },
    {
      "cell_type": "code",
      "execution_count": null,
      "metadata": {
        "colab": {
          "base_uri": "https://localhost:8080/"
        },
        "id": "WyUrovh0UGBX",
        "outputId": "0b4e5064-11f6-4fcf-db07-402c5f4ea601"
      },
      "outputs": [
        {
          "name": "stdout",
          "output_type": "stream",
          "text": [
            "[1, 2, 3, 4, [11, 22, 33, 44]]\n"
          ]
        }
      ],
      "source": [
        "A=[1,2,3,4] # append function will create nested list after adding the 2nd list. \n",
        "B=[11,22,33,44]\n",
        "   \n",
        "A.append(B)\n",
        "print(A)"
      ]
    },
    {
      "cell_type": "markdown",
      "metadata": {
        "id": "CAUpeDgCVMP4"
      },
      "source": [
        "## Index Method"
      ]
    },
    {
      "cell_type": "code",
      "execution_count": null,
      "metadata": {
        "colab": {
          "base_uri": "https://localhost:8080/"
        },
        "id": "DwuM3ZvcVRJn",
        "outputId": "a149df9a-783e-4886-cfd9-8978ae5709aa"
      },
      "outputs": [
        {
          "name": "stdout",
          "output_type": "stream",
          "text": [
            "i: (56+2j), index: 3\n",
            "i: (1+2j), index: 5\n"
          ]
        }
      ],
      "source": [
        "A = [11, 3, 4, 56+2j, \"Sunny\", 1+2j,75.1,80.10] # how to find index of numbers from a list\n",
        "\n",
        "for i in A:\n",
        "  if type(i)==complex:\n",
        "    print(f\"i: {i}, index: {A.index(i)}\")"
      ]
    },
    {
      "cell_type": "code",
      "execution_count": null,
      "metadata": {
        "colab": {
          "base_uri": "https://localhost:8080/"
        },
        "id": "9YH04kVFnq8s",
        "outputId": "8d384135-6e2e-4824-d923-c5a61da85df2"
      },
      "outputs": [
        {
          "name": "stdout",
          "output_type": "stream",
          "text": [
            "i: (56+2j), index: 3\n",
            "i: (1+2j), index: 5\n"
          ]
        }
      ],
      "source": [
        "A = [11, 3, 4, 56+2j, \"Sunny\", 1+2j,75.1,80.10] # using isinstance to find out the index \n",
        "for i in A:\n",
        "  if isinstance(i,complex):\n",
        "    print(f\"i: {i}, index: {A.index(i)}\")"
      ]
    },
    {
      "cell_type": "code",
      "execution_count": null,
      "metadata": {
        "colab": {
          "base_uri": "https://localhost:8080/"
        },
        "id": "fSGmtOuRn_E5",
        "outputId": "b9d96c85-25f0-4635-a846-ae2545072a58"
      },
      "outputs": [
        {
          "name": "stdout",
          "output_type": "stream",
          "text": [
            "i: 11, index: 0\n",
            "i: 3, index: 1\n",
            "i: 4, index: 2\n",
            "i: (56+2j), index: 3\n",
            "i: Sunny, index: 4\n",
            "i: (1+2j), index: 5\n"
          ]
        }
      ],
      "source": [
        "A = [11, 3, 4, 56+2j, \"Sunny\", 1+2j,75.1,80.10] # using or function we can find index of any two data types\n",
        "for i in A: \n",
        "  if isinstance(i, complex) or isinstance(i, int):\n",
        "    print(f\"i: {i}, index: {A.index(i)}\")"
      ]
    },
    {
      "cell_type": "code",
      "execution_count": null,
      "metadata": {
        "colab": {
          "base_uri": "https://localhost:8080/"
        },
        "id": "Jl0DXkcJo1wg",
        "outputId": "56e594cd-c07d-4cbc-d579-55e9af43a9e5"
      },
      "outputs": [
        {
          "name": "stdout",
          "output_type": "stream",
          "text": [
            "i: 11, index: 0\n",
            "i: 3, index: 1\n",
            "i: 4, index: 2\n",
            "i: (56+2j), index: 3\n",
            "i: (1+2j), index: 5\n"
          ]
        }
      ],
      "source": [
        "A = [11, 3, 4, 56+2j, \"Sunny\", 1+2j,75.1,80.10] # printing index of two data types in single line \n",
        "for i in A: \n",
        "  if isinstance(i, (complex, int)):\n",
        "    print(f\"i: {i}, index: {A.index(i)}\")"
      ]
    },
    {
      "cell_type": "markdown",
      "metadata": {
        "id": "B4Ww2d7srnqe"
      },
      "source": [
        "## Insert\n",
        "\n",
        "to insert anything inside"
      ]
    },
    {
      "cell_type": "code",
      "execution_count": null,
      "metadata": {
        "colab": {
          "base_uri": "https://localhost:8080/"
        },
        "id": "BNaIQWI8rr78",
        "outputId": "5a0224ec-d0d5-46e2-d11b-70858713d277"
      },
      "outputs": [
        {
          "data": {
            "text/plain": [
              "[11, 3, 'sushital', 4, (56+2j), 'Sunny', (1+2j), 75.1, 80.1]"
            ]
          },
          "execution_count": 14,
          "metadata": {},
          "output_type": "execute_result"
        }
      ],
      "source": [
        "A = [11, 3, 4, 56+2j, \"Sunny\", 1+2j,75.1,80.10] # by using insert function we can insert any data type in the list\n",
        "\n",
        "A.insert(2,\"sushital\")\n",
        "A"
      ]
    },
    {
      "cell_type": "code",
      "execution_count": null,
      "metadata": {
        "colab": {
          "base_uri": "https://localhost:8080/"
        },
        "id": "HxfH427btiWI",
        "outputId": "aaff6a0b-8694-48f3-cfe5-a6a27a451e26"
      },
      "outputs": [
        {
          "data": {
            "text/plain": [
              "[11, 3, 20, 4, (56+2j), 'Sunny', (1+2j), 75.1, 80.1]"
            ]
          },
          "execution_count": 15,
          "metadata": {},
          "output_type": "execute_result"
        }
      ],
      "source": [
        "A = [11, 3, 4, 56+2j, \"Sunny\", 1+2j,75.1,80.10] # insert number\n",
        "A.insert(2,20) # A.insert(2- is the index, 20 is the insert element)\n",
        "A"
      ]
    },
    {
      "cell_type": "code",
      "execution_count": null,
      "metadata": {
        "colab": {
          "base_uri": "https://localhost:8080/"
        },
        "id": "aVLSWNWvt-yr",
        "outputId": "882f4316-13cf-4dd7-e287-813da7c63295"
      },
      "outputs": [
        {
          "data": {
            "text/plain": [
              "[11, 3, [1, 2, 3, 4], 4, (56+2j), 'Sunny', (1+2j), 75.1, 80.1]"
            ]
          },
          "execution_count": 16,
          "metadata": {},
          "output_type": "execute_result"
        }
      ],
      "source": [
        "A = [11, 3, 4, 56+2j, \"Sunny\", 1+2j,75.1,80.10] # insert list inside the list\n",
        "\n",
        "A.insert(2, [1,2,3,4]) # A.insert(2- is the index, [1,2,3,4] is the insert list)\n",
        "A"
      ]
    },
    {
      "cell_type": "markdown",
      "metadata": {
        "id": "1JwYU6kKuL7A"
      },
      "source": [
        "## Remove\n",
        "\n",
        "to remove anything from the list "
      ]
    },
    {
      "cell_type": "code",
      "execution_count": null,
      "metadata": {
        "colab": {
          "base_uri": "https://localhost:8080/"
        },
        "id": "wWKOWgp7uPCD",
        "outputId": "9cc86ee1-1423-45f7-eb57-0409a2e7c540"
      },
      "outputs": [
        {
          "data": {
            "text/plain": [
              "[11, 3, 4, 'Sunny', (1+2j), 75.1, 80.1]"
            ]
          },
          "execution_count": 18,
          "metadata": {},
          "output_type": "execute_result"
        }
      ],
      "source": [
        "A = [11, 3, 4, 56+2j, \"Sunny\", 1+2j,75.1,80.10] # this function can remove any data type from the list \n",
        "\n",
        "A.remove(56+2j) # this removes the items and not by index like pop function\n",
        "A"
      ]
    },
    {
      "cell_type": "code",
      "execution_count": null,
      "metadata": {
        "colab": {
          "base_uri": "https://localhost:8080/"
        },
        "id": "y56OKWbLu6fZ",
        "outputId": "45410fbb-1be7-4ae0-a706-a49380b43984"
      },
      "outputs": [
        {
          "data": {
            "text/plain": [
              "[11, 3, 4, 'Sunny', (1+2j), 75.1, 80.1]"
            ]
          },
          "execution_count": 21,
          "metadata": {},
          "output_type": "execute_result"
        }
      ],
      "source": [
        "A = [11, 3, 4, 56+2j, \"Sunny\", 1+2j,75.1,80.10]\n",
        "A.pop(3) # here we are removing items from the list by using index \n",
        "A"
      ]
    },
    {
      "cell_type": "markdown",
      "metadata": {
        "id": "BT2WKEq1wHCX"
      },
      "source": [
        "## Tuples - () \n",
        "lists are used in [] brackets... \n",
        "tuples are inmuteable whereas lists are muteable "
      ]
    },
    {
      "cell_type": "code",
      "execution_count": null,
      "metadata": {
        "colab": {
          "base_uri": "https://localhost:8080/"
        },
        "id": "uYmT0J28zUhj",
        "outputId": "2da1c65e-966a-4aba-d966-5cf425de815c"
      },
      "outputs": [
        {
          "data": {
            "text/plain": [
              "tuple"
            ]
          },
          "execution_count": 22,
          "metadata": {},
          "output_type": "execute_result"
        }
      ],
      "source": [
        "A=(1,2,3,4) # numbers inside () is tuple in nature\n",
        "type(A)"
      ]
    },
    {
      "cell_type": "code",
      "execution_count": null,
      "metadata": {
        "colab": {
          "base_uri": "https://localhost:8080/"
        },
        "id": "EYD7kfEpzbXA",
        "outputId": "b24d1992-34cb-4e72-e66d-3b46aa837cb9"
      },
      "outputs": [
        {
          "data": {
            "text/plain": [
              "tuple"
            ]
          },
          "execution_count": 23,
          "metadata": {},
          "output_type": "execute_result"
        }
      ],
      "source": [
        "A=(\"Sushital\",\"Fazil\", \"Shaik\") # string inside () is tuple in nature\n",
        "type(A)"
      ]
    },
    {
      "cell_type": "code",
      "execution_count": null,
      "metadata": {
        "colab": {
          "base_uri": "https://localhost:8080/"
        },
        "id": "t_9iv2r200Ys",
        "outputId": "957be875-4392-467d-a649-e97c94511152"
      },
      "outputs": [
        {
          "data": {
            "text/plain": [
              "tuple"
            ]
          },
          "execution_count": 24,
          "metadata": {},
          "output_type": "execute_result"
        }
      ],
      "source": [
        "A=(70.5,85.20,95.20) # float inside () is tuple in nature\n",
        "type(A)"
      ]
    },
    {
      "cell_type": "markdown",
      "metadata": {
        "id": "B9VIvOdU4rJc"
      },
      "source": [
        "## Sets\n",
        "\n",
        "unordered collection of unique elements"
      ]
    },
    {
      "cell_type": "code",
      "execution_count": null,
      "metadata": {
        "colab": {
          "base_uri": "https://localhost:8080/"
        },
        "id": "fUDDvrfV47ET",
        "outputId": "73b37af2-4374-47d5-dba8-c54f01998836"
      },
      "outputs": [
        {
          "data": {
            "text/plain": [
              "set"
            ]
          },
          "execution_count": 27,
          "metadata": {},
          "output_type": "execute_result"
        }
      ],
      "source": [
        "A={11,26,3,3,32,4,48,5,60} # elements in {} are called as set\n",
        "type(A)\n"
      ]
    },
    {
      "cell_type": "code",
      "execution_count": null,
      "metadata": {
        "colab": {
          "base_uri": "https://localhost:8080/"
        },
        "id": "TwWNnjw55mGT",
        "outputId": "d27f6b9e-2217-434e-b455-a17a97444a96"
      },
      "outputs": [
        {
          "output_type": "execute_result",
          "data": {
            "text/plain": [
              "{3, 4, 5, 11, 26, 32, 48, 60}"
            ]
          },
          "metadata": {},
          "execution_count": 1
        }
      ],
      "source": [
        "A={11,26,3,3,32,4,48,5,60} # this will print only the unique elements and that also in order\n",
        "A"
      ]
    },
    {
      "cell_type": "code",
      "execution_count": null,
      "metadata": {
        "id": "jByVHC0n5unD"
      },
      "outputs": [],
      "source": []
    },
    {
      "cell_type": "markdown",
      "source": [
        "# Function basic 1 - by Sudhanshu\n",
        "\n",
        "to use same code again and again we have to create a function just like print or input"
      ],
      "metadata": {
        "id": "_WrhVE2tODlF"
      }
    },
    {
      "cell_type": "code",
      "source": [
        "# def is to be used to create a function \n",
        "\n",
        "def test(): \n",
        "  pass # pass is used when we dont want to continue a definition\n"
      ],
      "metadata": {
        "id": "sIJcDlV8OHo1"
      },
      "execution_count": null,
      "outputs": []
    },
    {
      "cell_type": "code",
      "source": [
        "def test1():\n",
        "  print(\"this is my first function in python\")\n",
        "test1() #call of function... by this way we call our function"
      ],
      "metadata": {
        "colab": {
          "base_uri": "https://localhost:8080/"
        },
        "id": "pfM4GrI-Q1oi",
        "outputId": "14918ee0-750e-4a89-86a4-8e955abfd7f3"
      },
      "execution_count": null,
      "outputs": [
        {
          "output_type": "stream",
          "name": "stdout",
          "text": [
            "this is my first function in python\n"
          ]
        }
      ]
    },
    {
      "cell_type": "code",
      "source": [
        "# how to store outcome of this function in variable\n",
        "\n",
        "b=test1()"
      ],
      "metadata": {
        "colab": {
          "base_uri": "https://localhost:8080/"
        },
        "id": "VHqybYyvRULG",
        "outputId": "59e9f1ef-fd58-4ad0-d3ee-4324d4939ed7"
      },
      "execution_count": null,
      "outputs": [
        {
          "output_type": "stream",
          "name": "stdout",
          "text": [
            "this is my first function in python\n"
          ]
        }
      ]
    },
    {
      "cell_type": "code",
      "source": [
        "type(b) # NoneType is a kind of datatype that will not be able to hold any variable as outcome"
      ],
      "metadata": {
        "colab": {
          "base_uri": "https://localhost:8080/"
        },
        "id": "W3ErluxnRkmG",
        "outputId": "c2158abd-e0f3-4181-c9f6-d21468edb958"
      },
      "execution_count": null,
      "outputs": [
        {
          "output_type": "execute_result",
          "data": {
            "text/plain": [
              "NoneType"
            ]
          },
          "metadata": {},
          "execution_count": 11
        }
      ]
    },
    {
      "cell_type": "code",
      "source": [
        "type(test1())"
      ],
      "metadata": {
        "colab": {
          "base_uri": "https://localhost:8080/"
        },
        "id": "60999NMuSg1P",
        "outputId": "6c7959c7-3d82-4323-fb1c-8f4902c9e89e"
      },
      "execution_count": null,
      "outputs": [
        {
          "output_type": "stream",
          "name": "stdout",
          "text": [
            "this is my first function in python\n"
          ]
        },
        {
          "output_type": "execute_result",
          "data": {
            "text/plain": [
              "NoneType"
            ]
          },
          "metadata": {},
          "execution_count": 12
        }
      ]
    },
    {
      "cell_type": "code",
      "source": [
        "def test2():\n",
        "  return 5\n",
        "\n",
        "test2()"
      ],
      "metadata": {
        "colab": {
          "base_uri": "https://localhost:8080/"
        },
        "id": "L-PaX1_ASyXX",
        "outputId": "38bffd8d-2e85-4e0c-ede9-a782e2e43edc"
      },
      "execution_count": null,
      "outputs": [
        {
          "output_type": "execute_result",
          "data": {
            "text/plain": [
              "5"
            ]
          },
          "metadata": {},
          "execution_count": 13
        }
      ]
    },
    {
      "cell_type": "code",
      "source": [
        "d=test2()\n",
        "d"
      ],
      "metadata": {
        "colab": {
          "base_uri": "https://localhost:8080/"
        },
        "id": "H-c1qLERS4BJ",
        "outputId": "31c7ae95-18a4-40ad-fcec-1c76bed3bf09"
      },
      "execution_count": null,
      "outputs": [
        {
          "output_type": "execute_result",
          "data": {
            "text/plain": [
              "5"
            ]
          },
          "metadata": {},
          "execution_count": 14
        }
      ]
    },
    {
      "cell_type": "code",
      "source": [
        "def test3():\n",
        "  return 5\n",
        "  "
      ],
      "metadata": {
        "id": "AxqsixtrUmOM"
      },
      "execution_count": null,
      "outputs": []
    },
    {
      "cell_type": "code",
      "source": [
        "def test4():\n",
        "  print(\"this is my print return\")"
      ],
      "metadata": {
        "id": "HMQR_HF7WNJh"
      },
      "execution_count": null,
      "outputs": []
    },
    {
      "cell_type": "code",
      "source": [
        "test3()"
      ],
      "metadata": {
        "colab": {
          "base_uri": "https://localhost:8080/"
        },
        "id": "S-zzcDTOUzeX",
        "outputId": "e67a17e5-c13e-4336-b215-057647d50234"
      },
      "execution_count": null,
      "outputs": [
        {
          "output_type": "execute_result",
          "data": {
            "text/plain": [
              "5"
            ]
          },
          "metadata": {},
          "execution_count": 19
        }
      ]
    },
    {
      "cell_type": "code",
      "source": [
        "test4()"
      ],
      "metadata": {
        "colab": {
          "base_uri": "https://localhost:8080/"
        },
        "id": "lMy2fBNRWagO",
        "outputId": "18e2e697-d919-4548-eeb2-044b4d9a62b4"
      },
      "execution_count": null,
      "outputs": [
        {
          "output_type": "stream",
          "name": "stdout",
          "text": [
            "this is my print return\n"
          ]
        }
      ]
    },
    {
      "cell_type": "code",
      "source": [
        "e=test4()"
      ],
      "metadata": {
        "colab": {
          "base_uri": "https://localhost:8080/"
        },
        "id": "pNOa_XSNWvLm",
        "outputId": "9b216ccb-1c80-41b6-e9cf-8b201b7b150b"
      },
      "execution_count": null,
      "outputs": [
        {
          "output_type": "stream",
          "name": "stdout",
          "text": [
            "this is my print return\n"
          ]
        }
      ]
    },
    {
      "cell_type": "code",
      "source": [
        "e+\"sushi\" #NoneType + String is not possible"
      ],
      "metadata": {
        "colab": {
          "base_uri": "https://localhost:8080/",
          "height": 169
        },
        "id": "Gq7LlvICWzaK",
        "outputId": "988c2be7-6d42-4535-9bfb-3631906088ee"
      },
      "execution_count": null,
      "outputs": [
        {
          "output_type": "error",
          "ename": "TypeError",
          "evalue": "ignored",
          "traceback": [
            "\u001b[0;31m---------------------------------------------------------------------------\u001b[0m",
            "\u001b[0;31mTypeError\u001b[0m                                 Traceback (most recent call last)",
            "\u001b[0;32m<ipython-input-25-0ae53700b5e3>\u001b[0m in \u001b[0;36m<module>\u001b[0;34m\u001b[0m\n\u001b[0;32m----> 1\u001b[0;31m \u001b[0me\u001b[0m\u001b[0;34m+\u001b[0m\u001b[0;34m\"sushi\"\u001b[0m\u001b[0;34m\u001b[0m\u001b[0;34m\u001b[0m\u001b[0m\n\u001b[0m",
            "\u001b[0;31mTypeError\u001b[0m: unsupported operand type(s) for +: 'NoneType' and 'str'"
          ]
        }
      ]
    },
    {
      "cell_type": "code",
      "source": [
        "def test5(): # by using return function we can add \n",
        "  return \"Sushital\"\n",
        "\n",
        "test5() + \"Roy\""
      ],
      "metadata": {
        "colab": {
          "base_uri": "https://localhost:8080/",
          "height": 36
        },
        "id": "UXLRfTkOXIr2",
        "outputId": "70107728-4f17-418d-8f42-aeaf5780ed64"
      },
      "execution_count": null,
      "outputs": [
        {
          "output_type": "execute_result",
          "data": {
            "text/plain": [
              "'SushitalRoy'"
            ],
            "application/vnd.google.colaboratory.intrinsic+json": {
              "type": "string"
            }
          },
          "metadata": {},
          "execution_count": 27
        }
      ]
    },
    {
      "cell_type": "code",
      "source": [
        "def test6():\n",
        "  print(\"this is my python code\")"
      ],
      "metadata": {
        "id": "EKUJW1MWXkBr"
      },
      "execution_count": null,
      "outputs": []
    },
    {
      "cell_type": "code",
      "source": [
        "def test7(): # we can define multiple elements in return\n",
        "  return 1,3,[3,4,5,\"sush\"],(3,4,5,6)\n"
      ],
      "metadata": {
        "id": "EdmNdL5jYB7t"
      },
      "execution_count": null,
      "outputs": []
    },
    {
      "cell_type": "code",
      "source": [
        "test7()"
      ],
      "metadata": {
        "colab": {
          "base_uri": "https://localhost:8080/"
        },
        "id": "5XUXxpJqYMAG",
        "outputId": "faec2fa6-b398-420b-c417-ed3da455ccb1"
      },
      "execution_count": null,
      "outputs": [
        {
          "output_type": "execute_result",
          "data": {
            "text/plain": [
              "(1, 3, [3, 4, 5, 'sush'], (3, 4, 5, 6))"
            ]
          },
          "metadata": {},
          "execution_count": 36
        }
      ]
    },
    {
      "cell_type": "code",
      "source": [
        "type(test7())"
      ],
      "metadata": {
        "colab": {
          "base_uri": "https://localhost:8080/"
        },
        "id": "5CzdED5vYV8R",
        "outputId": "d05b9e98-3053-4d48-f0ae-807e464376b4"
      },
      "execution_count": null,
      "outputs": [
        {
          "output_type": "execute_result",
          "data": {
            "text/plain": [
              "tuple"
            ]
          },
          "metadata": {},
          "execution_count": 32
        }
      ]
    },
    {
      "cell_type": "code",
      "source": [
        "test7()[1]"
      ],
      "metadata": {
        "colab": {
          "base_uri": "https://localhost:8080/"
        },
        "id": "aZMSjm2vYZSa",
        "outputId": "3757c39d-e5ad-4b8e-97a5-b9ea9204f74b"
      },
      "execution_count": null,
      "outputs": [
        {
          "output_type": "execute_result",
          "data": {
            "text/plain": [
              "3"
            ]
          },
          "metadata": {},
          "execution_count": 35
        }
      ]
    },
    {
      "cell_type": "code",
      "source": [
        "test7()[2]"
      ],
      "metadata": {
        "colab": {
          "base_uri": "https://localhost:8080/"
        },
        "id": "ZUWIVhQdZASj",
        "outputId": "ef396828-cd1e-43ee-bad3-87896fcf828c"
      },
      "execution_count": null,
      "outputs": [
        {
          "output_type": "execute_result",
          "data": {
            "text/plain": [
              "[3, 4, 5, 'sush']"
            ]
          },
          "metadata": {},
          "execution_count": 38
        }
      ]
    },
    {
      "cell_type": "code",
      "source": [
        "def test8(): \n",
        "  return 1,3,[3,4,5,\"sush\"],(3,4,5,6)"
      ],
      "metadata": {
        "id": "zOuI6bJzZIP0"
      },
      "execution_count": null,
      "outputs": []
    },
    {
      "cell_type": "code",
      "source": [
        "a,b,c,d=test7() # storing of above list in separate variable"
      ],
      "metadata": {
        "id": "bs4cGKIyZNer"
      },
      "execution_count": null,
      "outputs": []
    },
    {
      "cell_type": "code",
      "source": [
        "a"
      ],
      "metadata": {
        "colab": {
          "base_uri": "https://localhost:8080/"
        },
        "id": "N90lshsJZUq3",
        "outputId": "7ab44639-5ddf-40a7-8bc6-587dac751efd"
      },
      "execution_count": null,
      "outputs": [
        {
          "output_type": "execute_result",
          "data": {
            "text/plain": [
              "1"
            ]
          },
          "metadata": {},
          "execution_count": 41
        }
      ]
    },
    {
      "cell_type": "code",
      "source": [
        "b\n"
      ],
      "metadata": {
        "colab": {
          "base_uri": "https://localhost:8080/"
        },
        "id": "strBFciqZWXk",
        "outputId": "7e7223da-e1ec-4415-b313-1c700f8b8c8e"
      },
      "execution_count": null,
      "outputs": [
        {
          "output_type": "execute_result",
          "data": {
            "text/plain": [
              "3"
            ]
          },
          "metadata": {},
          "execution_count": 42
        }
      ]
    },
    {
      "cell_type": "code",
      "source": [
        "c"
      ],
      "metadata": {
        "colab": {
          "base_uri": "https://localhost:8080/"
        },
        "id": "ABA49-aFZZ-D",
        "outputId": "7ab178a8-fc88-4b4d-cf8b-6f5c313a7f1e"
      },
      "execution_count": null,
      "outputs": [
        {
          "output_type": "execute_result",
          "data": {
            "text/plain": [
              "[3, 4, 5, 'sush']"
            ]
          },
          "metadata": {},
          "execution_count": 43
        }
      ]
    },
    {
      "cell_type": "code",
      "source": [
        "d\n"
      ],
      "metadata": {
        "colab": {
          "base_uri": "https://localhost:8080/"
        },
        "id": "EE9kyGh3ZtJl",
        "outputId": "f4201fc4-916e-42e7-cc77-05fdda696ce4"
      },
      "execution_count": null,
      "outputs": [
        {
          "output_type": "execute_result",
          "data": {
            "text/plain": [
              "(3, 4, 5, 6)"
            ]
          },
          "metadata": {},
          "execution_count": 44
        }
      ]
    },
    {
      "cell_type": "code",
      "source": [
        "def test9():\n",
        "  a=4*5+8\n",
        "  return a\n",
        "test9()+8"
      ],
      "metadata": {
        "colab": {
          "base_uri": "https://localhost:8080/"
        },
        "id": "RwcXqvG_Z35N",
        "outputId": "64f91737-61f3-4955-be8e-e86b98c1365c"
      },
      "execution_count": null,
      "outputs": [
        {
          "output_type": "execute_result",
          "data": {
            "text/plain": [
              "36"
            ]
          },
          "metadata": {},
          "execution_count": 48
        }
      ]
    },
    {
      "cell_type": "code",
      "source": [
        "l=[2,3,4,5,6,7,8,9] # print sum of the list\n",
        "a=0\n",
        "for i in l: #conver this into a function\n",
        "  a=i+a\n",
        "print(a)"
      ],
      "metadata": {
        "colab": {
          "base_uri": "https://localhost:8080/"
        },
        "id": "wHuqmLsAaSHN",
        "outputId": "2ab6414f-122f-4840-d33c-c6c35023ae1e"
      },
      "execution_count": null,
      "outputs": [
        {
          "output_type": "stream",
          "name": "stdout",
          "text": [
            "44\n"
          ]
        }
      ]
    },
    {
      "cell_type": "code",
      "source": [
        "def test10():\n",
        "  l=[2,3,4,5,6,7,8,9] # print sum of the list\n",
        "  a=0\n",
        "  for i in l: \n",
        "    a=i+a\n",
        "  return a\n",
        "\n"
      ],
      "metadata": {
        "id": "qott_05WbAqq"
      },
      "execution_count": null,
      "outputs": []
    },
    {
      "cell_type": "code",
      "source": [
        "test10()"
      ],
      "metadata": {
        "colab": {
          "base_uri": "https://localhost:8080/"
        },
        "id": "kwz2foxvbRnG",
        "outputId": "f3af46a1-173f-4979-8cb2-a7456460a109"
      },
      "execution_count": null,
      "outputs": [
        {
          "output_type": "execute_result",
          "data": {
            "text/plain": [
              "44"
            ]
          },
          "metadata": {},
          "execution_count": 53
        }
      ]
    },
    {
      "cell_type": "code",
      "source": [
        "def test11():\n",
        "  l=[2,3,4,5,6,7,8,9, \"Sushital\"]\n",
        "  a=0\n",
        "  for i in l:\n",
        "    if type(i)==int:\n",
        "      a=i+a\n",
        "  return a\n",
        "\n",
        "test11()"
      ],
      "metadata": {
        "colab": {
          "base_uri": "https://localhost:8080/"
        },
        "id": "wuGVUCwPccRa",
        "outputId": "a64f8ed9-b415-46e4-f905-c47553f40959"
      },
      "execution_count": null,
      "outputs": [
        {
          "output_type": "execute_result",
          "data": {
            "text/plain": [
              "44"
            ]
          },
          "metadata": {},
          "execution_count": 55
        }
      ]
    },
    {
      "cell_type": "code",
      "source": [
        "l1=[4,5,6,7,7,8,\"Kumar\",4.56]\n",
        "\n",
        "def test12(l):\n",
        "  a=0\n",
        "  for i in l:\n",
        "    if type(i)==int:\n",
        "      a=i+a\n",
        "  return a\n"
      ],
      "metadata": {
        "id": "t3OS6Re-c_6w"
      },
      "execution_count": null,
      "outputs": []
    },
    {
      "cell_type": "code",
      "source": [
        "test12(l1)"
      ],
      "metadata": {
        "colab": {
          "base_uri": "https://localhost:8080/"
        },
        "id": "YsN-3MN_fuAO",
        "outputId": "c7890470-612d-4181-b0ba-67f38893305a"
      },
      "execution_count": null,
      "outputs": [
        {
          "output_type": "execute_result",
          "data": {
            "text/plain": [
              "37"
            ]
          },
          "metadata": {},
          "execution_count": 62
        }
      ]
    },
    {
      "cell_type": "code",
      "source": [
        "def test13(a,b):\n",
        "  return a+b"
      ],
      "metadata": {
        "id": "XmP1kQUQf6rj"
      },
      "execution_count": null,
      "outputs": []
    },
    {
      "cell_type": "code",
      "source": [
        "test13(2,3)"
      ],
      "metadata": {
        "colab": {
          "base_uri": "https://localhost:8080/"
        },
        "id": "CMejzt2CgEml",
        "outputId": "8590dc41-931c-4113-d587-6c9297cf764a"
      },
      "execution_count": null,
      "outputs": [
        {
          "output_type": "execute_result",
          "data": {
            "text/plain": [
              "5"
            ]
          },
          "metadata": {},
          "execution_count": 66
        }
      ]
    },
    {
      "cell_type": "code",
      "source": [
        "test13(\"Sushital\", \"Roy\")"
      ],
      "metadata": {
        "colab": {
          "base_uri": "https://localhost:8080/",
          "height": 36
        },
        "id": "Gttf3K62gS2w",
        "outputId": "9cd66ac6-9f52-4e71-93e7-b5c224a151e3"
      },
      "execution_count": null,
      "outputs": [
        {
          "output_type": "execute_result",
          "data": {
            "text/plain": [
              "'SushitalRoy'"
            ],
            "application/vnd.google.colaboratory.intrinsic+json": {
              "type": "string"
            }
          },
          "metadata": {},
          "execution_count": 67
        }
      ]
    },
    {
      "cell_type": "code",
      "source": [
        "l=[3,4,5,6,7,8,\"sush\",5,6,7,\"roy\",\"ineuron\"]\n"
      ],
      "metadata": {
        "id": "Wpf6k_IYg1Ss"
      },
      "execution_count": null,
      "outputs": []
    },
    {
      "cell_type": "code",
      "source": [
        "def test14(l): \n",
        "  \n",
        "  l1=[]\n",
        "  for i in l:\n",
        "    if type(i)==str:\n",
        "      l1.append(i)\n",
        "  return l1"
      ],
      "metadata": {
        "id": "sVPctTJxifaL"
      },
      "execution_count": null,
      "outputs": []
    },
    {
      "cell_type": "code",
      "source": [
        "l3=[\"Sushital\", 3,4,5,6,\"roy\"]\n"
      ],
      "metadata": {
        "id": "2YZSbxoEi3lY"
      },
      "execution_count": null,
      "outputs": []
    },
    {
      "cell_type": "code",
      "source": [
        "test14(l3)"
      ],
      "metadata": {
        "colab": {
          "base_uri": "https://localhost:8080/"
        },
        "id": "FWq5nwUFlzu3",
        "outputId": "9c9e24aa-7ba2-4fb3-c6c1-62e2cfc4b1f0"
      },
      "execution_count": null,
      "outputs": [
        {
          "output_type": "execute_result",
          "data": {
            "text/plain": [
              "['Sushital', 'roy']"
            ]
          },
          "metadata": {},
          "execution_count": 101
        }
      ]
    },
    {
      "cell_type": "markdown",
      "source": [
        "#### Task\n",
        "``` \n",
        "1. write a function which will try to find out len of a string using an inbuilt len function.\n",
        "\n",
        "2. Write a function which will be able to print and index of list element, without using an index function. \n",
        "\n",
        "3. Write a function which will be able to print an ip address of your system. \n",
        "\n",
        "4. Write a function which will shut down your system.\n",
        "\n",
        "5. Write a function which will take input as a list with any kind of numeric value and give out as a multiplication of all the numeric data l=[3.5,6.56,4,5,\"sush\",\"ineuron,'fsds bootcamp 2.0']\n",
        "\n",
        "6. Write a function which will be able to read all the mails\n",
        "\n",
        "7. Write a function which will be able to send a mail to anyone.\n",
        "\n",
        "8. Write a function which will be able to read a doc file from your system\n"
      ],
      "metadata": {
        "id": "-wFom5d2n6E8"
      }
    },
    {
      "cell_type": "markdown",
      "source": [
        "# Function Basic 2 - Practise Problem - Sudhanshu"
      ],
      "metadata": {
        "id": "pkqFGSpL42ZK"
      }
    },
    {
      "cell_type": "markdown",
      "source": [
        "```\n",
        "1. write a function which will try to find out len of a string using an inbuilt len function.\n"
      ],
      "metadata": {
        "id": "1dv4oXg252YX"
      }
    },
    {
      "cell_type": "code",
      "source": [
        "len(\"sushital\")"
      ],
      "metadata": {
        "id": "S49ays0vnLDJ",
        "colab": {
          "base_uri": "https://localhost:8080/"
        },
        "outputId": "c560b1be-e545-4c62-f3fa-225964ada1bc"
      },
      "execution_count": null,
      "outputs": [
        {
          "output_type": "execute_result",
          "data": {
            "text/plain": [
              "8"
            ]
          },
          "metadata": {},
          "execution_count": 1
        }
      ]
    },
    {
      "cell_type": "code",
      "source": [
        "def test(s):\n",
        "  count=0\n",
        "  for i in s: \n",
        "    if type(i)==str:\n",
        "      count=count+1\n",
        "  return count"
      ],
      "metadata": {
        "id": "Td2hhTRMnT_p"
      },
      "execution_count": null,
      "outputs": []
    },
    {
      "cell_type": "code",
      "source": [
        "test(\"sushitalroy\")"
      ],
      "metadata": {
        "colab": {
          "base_uri": "https://localhost:8080/"
        },
        "id": "UivMQHGz7T8I",
        "outputId": "1b28c717-6f03-4d1b-bf55-cdac35167dbe"
      },
      "execution_count": null,
      "outputs": [
        {
          "output_type": "execute_result",
          "data": {
            "text/plain": [
              "11"
            ]
          },
          "metadata": {},
          "execution_count": 19
        }
      ]
    },
    {
      "cell_type": "markdown",
      "source": [
        "```\n",
        "2. Write a function which will be able to print and index of list element, without using an index function. \n",
        "\n",
        "```"
      ],
      "metadata": {
        "id": "hJGFB8ji73F-"
      }
    },
    {
      "cell_type": "code",
      "source": [
        "l=[1,2,3,4,\"sushital\",\"ineuron\"]"
      ],
      "metadata": {
        "id": "D6hKFFVQ76RJ"
      },
      "execution_count": null,
      "outputs": []
    },
    {
      "cell_type": "code",
      "source": [
        "def test1(li):\n",
        "  for i in range(0,len(li)):\n",
        "    print(li[i], \": \",i)\n"
      ],
      "metadata": {
        "id": "LnHNyEa98Ov5"
      },
      "execution_count": null,
      "outputs": []
    },
    {
      "cell_type": "code",
      "source": [
        "test1(l)"
      ],
      "metadata": {
        "colab": {
          "base_uri": "https://localhost:8080/"
        },
        "id": "29KKtjXD91kd",
        "outputId": "7598a62f-82c4-4868-980f-a4cd05a723a4"
      },
      "execution_count": null,
      "outputs": [
        {
          "output_type": "stream",
          "name": "stdout",
          "text": [
            "1 :  0\n",
            "2 :  1\n",
            "3 :  2\n",
            "4 :  3\n",
            "sushital :  4\n",
            "ineuron :  5\n"
          ]
        }
      ]
    },
    {
      "cell_type": "code",
      "source": [
        "def test2(s):\n",
        "  count=0\n",
        "  for i in s: \n",
        "    #if type(i)==str:\n",
        "      count=count+1\n",
        "  return count"
      ],
      "metadata": {
        "id": "RWKINpQ1-saa"
      },
      "execution_count": null,
      "outputs": []
    },
    {
      "cell_type": "code",
      "source": [
        "def test1(li):\n",
        "  for i in range(0,test2(li)):\n",
        "    print(li[i], \": \",i)"
      ],
      "metadata": {
        "id": "Plbnk5-O-0g3"
      },
      "execution_count": null,
      "outputs": []
    },
    {
      "cell_type": "code",
      "source": [
        "test1(l)"
      ],
      "metadata": {
        "colab": {
          "base_uri": "https://localhost:8080/"
        },
        "id": "T8-aG1qp-471",
        "outputId": "fc5dc0c8-be70-43f6-c570-0073cdddcb22"
      },
      "execution_count": null,
      "outputs": [
        {
          "output_type": "stream",
          "name": "stdout",
          "text": [
            "1 :  0\n",
            "2 :  1\n",
            "3 :  2\n",
            "4 :  3\n",
            "sushital :  4\n",
            "ineuron :  5\n"
          ]
        }
      ]
    },
    {
      "cell_type": "markdown",
      "source": [
        "```\n",
        "3. Write a function which will be able to print an ip address of your system. \n",
        "\n",
        "```"
      ],
      "metadata": {
        "id": "j3fsLocB_AN3"
      }
    },
    {
      "cell_type": "code",
      "source": [
        "import socket # socket library to get IP address of any local system\n",
        "\n",
        "def test3():\n",
        "  ip=socket.gethostbyname(socket.gethostname())\n",
        "  return ip"
      ],
      "metadata": {
        "id": "EfCc3Sja-4yV"
      },
      "execution_count": null,
      "outputs": []
    },
    {
      "cell_type": "code",
      "source": [
        "test3()"
      ],
      "metadata": {
        "colab": {
          "base_uri": "https://localhost:8080/",
          "height": 36
        },
        "id": "lGYYHLTd_2u9",
        "outputId": "6a812fce-633a-4b30-b0ab-3a603a8295c7"
      },
      "execution_count": null,
      "outputs": [
        {
          "output_type": "execute_result",
          "data": {
            "text/plain": [
              "'172.28.0.12'"
            ],
            "application/vnd.google.colaboratory.intrinsic+json": {
              "type": "string"
            }
          },
          "metadata": {},
          "execution_count": 29
        }
      ]
    },
    {
      "cell_type": "markdown",
      "source": [
        "```\n",
        "4. Write a function which will shut down your system.\n",
        "```"
      ],
      "metadata": {
        "id": "kxLstYCcA4iF"
      }
    },
    {
      "cell_type": "code",
      "source": [
        "import os\n",
        "os.system(\"shutdown /r/t 5\")\n",
        "\n",
        "# /s - shutdown\n",
        "# /r - restart\n",
        "# /t 1 - timer"
      ],
      "metadata": {
        "id": "otsbTF9YA7xG",
        "colab": {
          "base_uri": "https://localhost:8080/"
        },
        "outputId": "5c7844b1-e2c8-4cc9-c890-98d233b33d68"
      },
      "execution_count": null,
      "outputs": [
        {
          "output_type": "execute_result",
          "data": {
            "text/plain": [
              "256"
            ]
          },
          "metadata": {},
          "execution_count": 30
        }
      ]
    },
    {
      "cell_type": "markdown",
      "source": [
        "```\n",
        "\n",
        "5. Write a function which will take input as a list with any kind of numeric value and give out as a multiplication of all the numeric data l=[3.5,6.56,4,5,\"sush\",\"ineuron,'fsds bootcamp 2.0']\n",
        "\n",
        "```"
      ],
      "metadata": {
        "id": "Bz0rMQrLEAD2"
      }
    },
    {
      "cell_type": "code",
      "source": [
        "l=[3.5,6.56,4,5,\"sush\",\"ineuron\",'fsds bootcamp 2.0']\n",
        "\n",
        "def test4(l):\n",
        "  mul=1\n",
        "  for i in l:\n",
        "    if type(i)==int or type(i)==float:\n",
        "      mul=mul*i\n",
        "  return mul"
      ],
      "metadata": {
        "id": "NsEytv8BEIB_"
      },
      "execution_count": null,
      "outputs": []
    },
    {
      "cell_type": "code",
      "source": [
        "test4(l)"
      ],
      "metadata": {
        "colab": {
          "base_uri": "https://localhost:8080/"
        },
        "id": "iTE5J9ZPE3FG",
        "outputId": "df8a99ca-fa72-41cf-dddb-d6daeb97e903"
      },
      "execution_count": null,
      "outputs": [
        {
          "output_type": "execute_result",
          "data": {
            "text/plain": [
              "459.19999999999993"
            ]
          },
          "metadata": {},
          "execution_count": 36
        }
      ]
    },
    {
      "cell_type": "markdown",
      "source": [
        "```\n",
        "6. Write a function which will be able to read all the mails\n",
        "```"
      ],
      "metadata": {
        "id": "ySAM7ttYFLpi"
      }
    },
    {
      "cell_type": "code",
      "source": [
        "import smtplib\n",
        "import time\n",
        "import imaplib\n",
        "import email\n",
        "import traceback\n",
        "\n",
        "ORG_EMAIL = \"@gmail.com\" \n",
        "FROM_EMAIL = \"sshtl.roy@gmail.com\" + ORG_EMAIL \n",
        "FROM_PWD = \"qixrijubkamflnuy\" \n",
        "SMTP_SERVER = \"imap.gmail.com\" \n",
        "SMTP_PORT = 993\n",
        "imaplib._MAXLINE=400000000\n",
        "\n",
        "def read_email_from_gmail():\n",
        "    try:\n",
        "        mail = imaplib.IMAP4_SSL(SMTP_SERVER)\n",
        "        mail.login(FROM_EMAIL,FROM_PWD)\n",
        "        mail.select('inbox')\n",
        "\n",
        "        data = mail.search(None, 'ALL')\n",
        "        mail_ids = data[1]\n",
        "        id_list = mail_ids[0].split()   \n",
        "        first_email_id = int(id_list[0])\n",
        "        latest_email_id = int(id_list[-1])\n",
        "\n",
        "        for i in range(latest_email_id,first_email_id, -1):\n",
        "            data = mail.fetch(str(i), '(RFC822)' )\n",
        "            for response_part in data:\n",
        "                arr = response_part[0]\n",
        "                if isinstance(arr, tuple):\n",
        "                    msg = email.message_from_string(str(arr[1],'utf-8'))\n",
        "                    email_subject = msg['subject']\n",
        "                    email_from = msg['from']\n",
        "                    print('From : ' + email_from + '\\n')\n",
        "                    print('Subject : ' + email_subject + '\\n')\n",
        "\n",
        "    except Exception as e:\n",
        "        traceback.print_exc() \n",
        "        print(str(e))\n",
        "\n",
        "read_email_from_gmail()"
      ],
      "metadata": {
        "colab": {
          "base_uri": "https://localhost:8080/"
        },
        "id": "mXYajduxKmkt",
        "outputId": "3637a656-4bb5-4230-8ec2-292b1487ac47"
      },
      "execution_count": null,
      "outputs": [
        {
          "output_type": "stream",
          "name": "stdout",
          "text": [
            "b'Invalid username. a14mb235528895qkp'\n"
          ]
        },
        {
          "output_type": "stream",
          "name": "stderr",
          "text": [
            "Traceback (most recent call last):\n",
            "  File \"<ipython-input-43-9136711479b2>\", line 17, in read_email_from_gmail\n",
            "    mail.login(FROM_EMAIL,FROM_PWD)\n",
            "  File \"/usr/lib/python3.8/imaplib.py\", line 603, in login\n",
            "    raise self.error(dat[-1])\n",
            "imaplib.IMAP4.error: b'Invalid username. a14mb235528895qkp'\n"
          ]
        }
      ]
    },
    {
      "cell_type": "markdown",
      "source": [
        "```\n",
        "7. Write a function which will be able to send a mail to anyone.\n",
        "```"
      ],
      "metadata": {
        "id": "QKquFzbWFjU8"
      }
    },
    {
      "cell_type": "code",
      "source": [
        "import smtplib,ssl\n",
        "port =465\n",
        "smtp_server = \"smtp.gmail.com\"\n",
        "sender_email=\"sshtl.roy@gmail.com\"\n",
        "receiver_email=\"mfazil@mcelroy.com\"\n",
        "password='qixrijubkamflnuy'\n",
        "message=\"\"\"this is my message from python code in my class\"\"\"\n",
        "\n",
        "\n",
        "context=ssl.create_default_context()\n",
        "with smtplib.SMTP_SSL(smtp_server,port,context=context) as server:\n",
        "  server.login(sender_email,password)\n",
        "  server.sendmail(sender_email,receiver_email,message)"
      ],
      "metadata": {
        "id": "aZpD4rDQFNoA"
      },
      "execution_count": null,
      "outputs": []
    },
    {
      "cell_type": "markdown",
      "source": [
        "```\n",
        "8. Write a function which will be able to read a doc file from your system\n",
        "```"
      ],
      "metadata": {
        "id": "7kURSRXTMUtL"
      }
    },
    {
      "cell_type": "code",
      "source": [
        "import docx2txt\n",
        "\n"
      ],
      "metadata": {
        "colab": {
          "base_uri": "https://localhost:8080/",
          "height": 331
        },
        "id": "MY7qh6J5MT8j",
        "outputId": "8ce87dae-1169-4391-9d07-518b77a02042"
      },
      "execution_count": null,
      "outputs": [
        {
          "output_type": "error",
          "ename": "ModuleNotFoundError",
          "evalue": "ignored",
          "traceback": [
            "\u001b[0;31m---------------------------------------------------------------------------\u001b[0m",
            "\u001b[0;31mModuleNotFoundError\u001b[0m                       Traceback (most recent call last)",
            "\u001b[0;32m<ipython-input-44-94b7f3ce2b86>\u001b[0m in \u001b[0;36m<module>\u001b[0;34m\u001b[0m\n\u001b[0;32m----> 1\u001b[0;31m \u001b[0;32mimport\u001b[0m \u001b[0mdocx2txt\u001b[0m\u001b[0;34m\u001b[0m\u001b[0;34m\u001b[0m\u001b[0m\n\u001b[0m\u001b[1;32m      2\u001b[0m \u001b[0;34m\u001b[0m\u001b[0m\n",
            "\u001b[0;31mModuleNotFoundError\u001b[0m: No module named 'docx2txt'",
            "",
            "\u001b[0;31m---------------------------------------------------------------------------\u001b[0;32m\nNOTE: If your import is failing due to a missing package, you can\nmanually install dependencies using either !pip or !apt.\n\nTo view examples of installing some common dependencies, click the\n\"Open Examples\" button below.\n\u001b[0;31m---------------------------------------------------------------------------\u001b[0m\n"
          ],
          "errorDetails": {
            "actions": [
              {
                "action": "open_url",
                "actionText": "Open Examples",
                "url": "/notebooks/snippets/importing_libraries.ipynb"
              }
            ]
          }
        }
      ]
    },
    {
      "cell_type": "code",
      "source": [
        "pip install docx2txt # in this way we can install library"
      ],
      "metadata": {
        "colab": {
          "base_uri": "https://localhost:8080/"
        },
        "id": "uNHXBPPBNlL_",
        "outputId": "2bb6da33-fe11-4040-e824-e09977db351d"
      },
      "execution_count": null,
      "outputs": [
        {
          "output_type": "stream",
          "name": "stdout",
          "text": [
            "Looking in indexes: https://pypi.org/simple, https://us-python.pkg.dev/colab-wheels/public/simple/\n",
            "Collecting docx2txt\n",
            "  Downloading docx2txt-0.8.tar.gz (2.8 kB)\n",
            "Building wheels for collected packages: docx2txt\n",
            "  Building wheel for docx2txt (setup.py) ... \u001b[?25l\u001b[?25hdone\n",
            "  Created wheel for docx2txt: filename=docx2txt-0.8-py3-none-any.whl size=3980 sha256=cb312367998229e035729794351e559f90dcef035c6dd496580a164e8ffac1e3\n",
            "  Stored in directory: /root/.cache/pip/wheels/55/f0/2c/81637d42670985178b77df6d41b9b6c6dc18c94818447414b9\n",
            "Successfully built docx2txt\n",
            "Installing collected packages: docx2txt\n",
            "Successfully installed docx2txt-0.8\n"
          ]
        }
      ]
    },
    {
      "cell_type": "code",
      "source": [
        "import docx2txt\n",
        "\n",
        "docx2txt.process('testdocument.docx')\n",
        "\n",
        "\n"
      ],
      "metadata": {
        "colab": {
          "base_uri": "https://localhost:8080/",
          "height": 409
        },
        "id": "HDZex_D5NzqV",
        "outputId": "14d05db7-7a21-4524-d4ed-145f2686d56c"
      },
      "execution_count": null,
      "outputs": [
        {
          "output_type": "error",
          "ename": "FileNotFoundError",
          "evalue": "ignored",
          "traceback": [
            "\u001b[0;31m---------------------------------------------------------------------------\u001b[0m",
            "\u001b[0;31mFileNotFoundError\u001b[0m                         Traceback (most recent call last)",
            "\u001b[0;32m<ipython-input-49-b9aa18322277>\u001b[0m in \u001b[0;36m<module>\u001b[0;34m\u001b[0m\n\u001b[1;32m      1\u001b[0m \u001b[0;32mimport\u001b[0m \u001b[0mdocx2txt\u001b[0m\u001b[0;34m\u001b[0m\u001b[0;34m\u001b[0m\u001b[0m\n\u001b[1;32m      2\u001b[0m \u001b[0;34m\u001b[0m\u001b[0m\n\u001b[0;32m----> 3\u001b[0;31m \u001b[0mdocx2txt\u001b[0m\u001b[0;34m.\u001b[0m\u001b[0mprocess\u001b[0m\u001b[0;34m(\u001b[0m\u001b[0;34m'testdocument.docx'\u001b[0m\u001b[0;34m)\u001b[0m\u001b[0;34m\u001b[0m\u001b[0;34m\u001b[0m\u001b[0m\n\u001b[0m\u001b[1;32m      4\u001b[0m \u001b[0;34m\u001b[0m\u001b[0m\n\u001b[1;32m      5\u001b[0m \u001b[0;34m\u001b[0m\u001b[0m\n",
            "\u001b[0;32m/usr/local/lib/python3.8/dist-packages/docx2txt/docx2txt.py\u001b[0m in \u001b[0;36mprocess\u001b[0;34m(docx, img_dir)\u001b[0m\n\u001b[1;32m     74\u001b[0m \u001b[0;34m\u001b[0m\u001b[0m\n\u001b[1;32m     75\u001b[0m     \u001b[0;31m# unzip the docx in memory\u001b[0m\u001b[0;34m\u001b[0m\u001b[0;34m\u001b[0m\u001b[0;34m\u001b[0m\u001b[0m\n\u001b[0;32m---> 76\u001b[0;31m     \u001b[0mzipf\u001b[0m \u001b[0;34m=\u001b[0m \u001b[0mzipfile\u001b[0m\u001b[0;34m.\u001b[0m\u001b[0mZipFile\u001b[0m\u001b[0;34m(\u001b[0m\u001b[0mdocx\u001b[0m\u001b[0;34m)\u001b[0m\u001b[0;34m\u001b[0m\u001b[0;34m\u001b[0m\u001b[0m\n\u001b[0m\u001b[1;32m     77\u001b[0m     \u001b[0mfilelist\u001b[0m \u001b[0;34m=\u001b[0m \u001b[0mzipf\u001b[0m\u001b[0;34m.\u001b[0m\u001b[0mnamelist\u001b[0m\u001b[0;34m(\u001b[0m\u001b[0;34m)\u001b[0m\u001b[0;34m\u001b[0m\u001b[0;34m\u001b[0m\u001b[0m\n\u001b[1;32m     78\u001b[0m \u001b[0;34m\u001b[0m\u001b[0m\n",
            "\u001b[0;32m/usr/lib/python3.8/zipfile.py\u001b[0m in \u001b[0;36m__init__\u001b[0;34m(self, file, mode, compression, allowZip64, compresslevel, strict_timestamps)\u001b[0m\n\u001b[1;32m   1249\u001b[0m             \u001b[0;32mwhile\u001b[0m \u001b[0;32mTrue\u001b[0m\u001b[0;34m:\u001b[0m\u001b[0;34m\u001b[0m\u001b[0;34m\u001b[0m\u001b[0m\n\u001b[1;32m   1250\u001b[0m                 \u001b[0;32mtry\u001b[0m\u001b[0;34m:\u001b[0m\u001b[0;34m\u001b[0m\u001b[0;34m\u001b[0m\u001b[0m\n\u001b[0;32m-> 1251\u001b[0;31m                     \u001b[0mself\u001b[0m\u001b[0;34m.\u001b[0m\u001b[0mfp\u001b[0m \u001b[0;34m=\u001b[0m \u001b[0mio\u001b[0m\u001b[0;34m.\u001b[0m\u001b[0mopen\u001b[0m\u001b[0;34m(\u001b[0m\u001b[0mfile\u001b[0m\u001b[0;34m,\u001b[0m \u001b[0mfilemode\u001b[0m\u001b[0;34m)\u001b[0m\u001b[0;34m\u001b[0m\u001b[0;34m\u001b[0m\u001b[0m\n\u001b[0m\u001b[1;32m   1252\u001b[0m                 \u001b[0;32mexcept\u001b[0m \u001b[0mOSError\u001b[0m\u001b[0;34m:\u001b[0m\u001b[0;34m\u001b[0m\u001b[0;34m\u001b[0m\u001b[0m\n\u001b[1;32m   1253\u001b[0m                     \u001b[0;32mif\u001b[0m \u001b[0mfilemode\u001b[0m \u001b[0;32min\u001b[0m \u001b[0mmodeDict\u001b[0m\u001b[0;34m:\u001b[0m\u001b[0;34m\u001b[0m\u001b[0;34m\u001b[0m\u001b[0m\n",
            "\u001b[0;31mFileNotFoundError\u001b[0m: [Errno 2] No such file or directory: 'testdocument.docx'"
          ]
        }
      ]
    },
    {
      "cell_type": "markdown",
      "source": [
        "# Function Basic 3 - by Sudhanshu"
      ],
      "metadata": {
        "id": "hPZae4FGup4K"
      }
    },
    {
      "cell_type": "code",
      "source": [
        "def test1(): \n",
        "  a=5+6\n",
        "  return a"
      ],
      "metadata": {
        "id": "ZIf2JyZVuwSa"
      },
      "execution_count": null,
      "outputs": []
    },
    {
      "cell_type": "code",
      "source": [
        "test1()"
      ],
      "metadata": {
        "colab": {
          "base_uri": "https://localhost:8080/"
        },
        "id": "qSyKzVXNxTm_",
        "outputId": "e657023f-44ac-4f1c-857c-6ae871929ca5"
      },
      "execution_count": null,
      "outputs": [
        {
          "output_type": "execute_result",
          "data": {
            "text/plain": [
              "11"
            ]
          },
          "metadata": {},
          "execution_count": 3
        }
      ]
    },
    {
      "cell_type": "code",
      "source": [
        "def test2(a,b):\n",
        "  return a+b"
      ],
      "metadata": {
        "id": "FlqGGkAUxdWB"
      },
      "execution_count": null,
      "outputs": []
    },
    {
      "cell_type": "code",
      "source": [
        "test2(1,2)"
      ],
      "metadata": {
        "colab": {
          "base_uri": "https://localhost:8080/"
        },
        "id": "egAOHIs6xher",
        "outputId": "03b8ab9c-8a31-4a97-da28-11c16b1c2d1c"
      },
      "execution_count": null,
      "outputs": [
        {
          "output_type": "execute_result",
          "data": {
            "text/plain": [
              "3"
            ]
          },
          "metadata": {},
          "execution_count": 5
        }
      ]
    },
    {
      "cell_type": "code",
      "source": [
        "test2(\"sush\",\"ital\")"
      ],
      "metadata": {
        "colab": {
          "base_uri": "https://localhost:8080/",
          "height": 36
        },
        "id": "dYGfXZf9xl3e",
        "outputId": "f16ea79e-f6fe-4a75-dcbb-d989862b399d"
      },
      "execution_count": null,
      "outputs": [
        {
          "output_type": "execute_result",
          "data": {
            "text/plain": [
              "'sushital'"
            ],
            "application/vnd.google.colaboratory.intrinsic+json": {
              "type": "string"
            }
          },
          "metadata": {},
          "execution_count": 6
        }
      ]
    },
    {
      "cell_type": "code",
      "source": [
        "test2(b=\"sushital\", a=\"roy\")"
      ],
      "metadata": {
        "colab": {
          "base_uri": "https://localhost:8080/",
          "height": 36
        },
        "id": "8GNF0Xb9x2Bv",
        "outputId": "cff77043-3467-4bff-e9fa-5cdfbbe4f5ad"
      },
      "execution_count": null,
      "outputs": [
        {
          "output_type": "execute_result",
          "data": {
            "text/plain": [
              "'roysushital'"
            ],
            "application/vnd.google.colaboratory.intrinsic+json": {
              "type": "string"
            }
          },
          "metadata": {},
          "execution_count": 7
        }
      ]
    },
    {
      "cell_type": "code",
      "source": [
        "def test3(*args): #args=arguement, * means any number of inputs we can pass with this symbol\n",
        "  return args"
      ],
      "metadata": {
        "id": "6TKrzYFWyh_i"
      },
      "execution_count": null,
      "outputs": []
    },
    {
      "cell_type": "code",
      "source": [
        "test3(1,2,3,4,\"Sush\") #data type of args will be tuples"
      ],
      "metadata": {
        "colab": {
          "base_uri": "https://localhost:8080/"
        },
        "id": "Rc-bGv97y4U7",
        "outputId": "0700937f-bb75-47b8-b4fd-5d473adfe31a"
      },
      "execution_count": null,
      "outputs": [
        {
          "output_type": "execute_result",
          "data": {
            "text/plain": [
              "(1, 2, 3, 4, 'Sush')"
            ]
          },
          "metadata": {},
          "execution_count": 9
        }
      ]
    },
    {
      "cell_type": "code",
      "source": [
        "test3(1,2,3,4,5, \"sush\",\"ineuron\",1+2j, (6,7,8))"
      ],
      "metadata": {
        "colab": {
          "base_uri": "https://localhost:8080/"
        },
        "id": "TaRnlIuPzHal",
        "outputId": "0e7afabf-87ee-4bf5-84db-d28050b4ab13"
      },
      "execution_count": null,
      "outputs": [
        {
          "output_type": "execute_result",
          "data": {
            "text/plain": [
              "(1, 2, 3, 4, 5, 'sush', 'ineuron', (1+2j), (6, 7, 8))"
            ]
          },
          "metadata": {},
          "execution_count": 11
        }
      ]
    },
    {
      "cell_type": "markdown",
      "source": [
        "```\n",
        "Create a function to take input for any number of input and should give return as a list\n",
        "\n",
        "```"
      ],
      "metadata": {
        "id": "H1JqTJPAzdJK"
      }
    },
    {
      "cell_type": "code",
      "source": [
        "def test4(*args):\n",
        "  return list(args) # here we are doing type casting  "
      ],
      "metadata": {
        "id": "vlC2o4iqzivT"
      },
      "execution_count": null,
      "outputs": []
    },
    {
      "cell_type": "code",
      "source": [
        "test4(\"sush\",True, 1+2j,34,34.56)"
      ],
      "metadata": {
        "colab": {
          "base_uri": "https://localhost:8080/"
        },
        "id": "_4m--jqGzsSG",
        "outputId": "e088a086-f380-47ba-a32c-2ef7832577ea"
      },
      "execution_count": null,
      "outputs": [
        {
          "output_type": "execute_result",
          "data": {
            "text/plain": [
              "['sush', True, (1+2j), 34, 34.56]"
            ]
          },
          "metadata": {},
          "execution_count": 14
        }
      ]
    },
    {
      "cell_type": "code",
      "source": [
        "def test5(*args):\n",
        "  l=[]\n",
        "  for i in args:\n",
        "    l.append(i)\n",
        "  return l"
      ],
      "metadata": {
        "id": "Z2JEVEJsz40w"
      },
      "execution_count": null,
      "outputs": []
    },
    {
      "cell_type": "code",
      "source": [
        "test5(\"sush\",True, 1+2j,34,34.56)"
      ],
      "metadata": {
        "colab": {
          "base_uri": "https://localhost:8080/"
        },
        "id": "5t29NHoE0Hoe",
        "outputId": "36292e45-8aa6-4eab-ffef-0bf2ce02d6bf"
      },
      "execution_count": null,
      "outputs": [
        {
          "output_type": "execute_result",
          "data": {
            "text/plain": [
              "['sush', True, (1+2j), 34, 34.56]"
            ]
          },
          "metadata": {},
          "execution_count": 23
        }
      ]
    },
    {
      "cell_type": "code",
      "source": [
        "def test6(*sush): #we can use any word after *, args is not reserved keyword\n",
        "  return test6"
      ],
      "metadata": {
        "id": "zvsIRESe0USn"
      },
      "execution_count": null,
      "outputs": []
    },
    {
      "cell_type": "code",
      "source": [
        "test6(\"sush\",True, 1+2j,34,34.56)"
      ],
      "metadata": {
        "colab": {
          "base_uri": "https://localhost:8080/"
        },
        "id": "IaLMLnS-0g86",
        "outputId": "c847a175-6573-4eaa-cfe4-243756962794"
      },
      "execution_count": null,
      "outputs": [
        {
          "output_type": "execute_result",
          "data": {
            "text/plain": [
              "<function __main__.test6(*sush)>"
            ]
          },
          "metadata": {},
          "execution_count": 24
        }
      ]
    },
    {
      "cell_type": "markdown",
      "source": [
        "### Dictionary "
      ],
      "metadata": {
        "id": "Ajc7Nm6b0-Id"
      }
    },
    {
      "cell_type": "code",
      "source": [
        "l=[1,2,3,4,5,6] #list\n",
        "t=(4,5,6,8+7j) #tuples\n",
        "s={3,4,5,6,6,6,6,6,6} #sets"
      ],
      "metadata": {
        "id": "szkKTjiK1CXW"
      },
      "execution_count": null,
      "outputs": []
    },
    {
      "cell_type": "code",
      "source": [
        "l"
      ],
      "metadata": {
        "colab": {
          "base_uri": "https://localhost:8080/"
        },
        "id": "tMqfyma71VYG",
        "outputId": "376dae5d-1fa9-43f8-f5c5-c7cd816777a2"
      },
      "execution_count": null,
      "outputs": [
        {
          "output_type": "execute_result",
          "data": {
            "text/plain": [
              "[1, 2, 3, 4, 5, 6]"
            ]
          },
          "metadata": {},
          "execution_count": 26
        }
      ]
    },
    {
      "cell_type": "code",
      "source": [
        "s"
      ],
      "metadata": {
        "colab": {
          "base_uri": "https://localhost:8080/"
        },
        "id": "m4ldqUEv1b7N",
        "outputId": "480b1801-e5f5-411b-89f8-987649295f7e"
      },
      "execution_count": null,
      "outputs": [
        {
          "output_type": "execute_result",
          "data": {
            "text/plain": [
              "{3, 4, 5, 6}"
            ]
          },
          "metadata": {},
          "execution_count": 27
        }
      ]
    },
    {
      "cell_type": "code",
      "source": [
        "d={} #empty curly braces means it a dictionary\n",
        "type(d)"
      ],
      "metadata": {
        "colab": {
          "base_uri": "https://localhost:8080/"
        },
        "id": "YfjqXecY1fX1",
        "outputId": "ab0161e6-2c9a-46f7-9b05-c82607d9458c"
      },
      "execution_count": null,
      "outputs": [
        {
          "output_type": "execute_result",
          "data": {
            "text/plain": [
              "dict"
            ]
          },
          "metadata": {},
          "execution_count": 28
        }
      ]
    },
    {
      "cell_type": "code",
      "source": [
        "d1={2,3,4,5}\n",
        "type(d1)"
      ],
      "metadata": {
        "colab": {
          "base_uri": "https://localhost:8080/"
        },
        "id": "cf7Heo8A2uUG",
        "outputId": "567b8981-ee7a-4160-db6e-6a4a2309733b"
      },
      "execution_count": null,
      "outputs": [
        {
          "output_type": "execute_result",
          "data": {
            "text/plain": [
              "set"
            ]
          },
          "metadata": {},
          "execution_count": 29
        }
      ]
    },
    {
      "cell_type": "code",
      "source": [
        "d2={\"key1\": \"sush\", \"key2\": [1,2,3,4]}"
      ],
      "metadata": {
        "id": "U0vFnAYm25PL"
      },
      "execution_count": null,
      "outputs": []
    },
    {
      "cell_type": "code",
      "source": [
        "d2"
      ],
      "metadata": {
        "colab": {
          "base_uri": "https://localhost:8080/"
        },
        "id": "7xQH8-5e3OAG",
        "outputId": "e8a75d71-296a-4abe-c16f-b11d52756c38"
      },
      "execution_count": null,
      "outputs": [
        {
          "output_type": "execute_result",
          "data": {
            "text/plain": [
              "{'key1': 'sush', 'key2': [1, 2, 3, 4]}"
            ]
          },
          "metadata": {},
          "execution_count": 33
        }
      ]
    },
    {
      "cell_type": "code",
      "source": [
        "d3={1234: \"sush\"} #key can be string or integers\n",
        "d3"
      ],
      "metadata": {
        "colab": {
          "base_uri": "https://localhost:8080/"
        },
        "id": "c5Z6m-rk3ygJ",
        "outputId": "13f462c6-8909-475f-c33e-285b609f256a"
      },
      "execution_count": null,
      "outputs": [
        {
          "output_type": "execute_result",
          "data": {
            "text/plain": [
              "{1234: 'sush'}"
            ]
          },
          "metadata": {},
          "execution_count": 37
        }
      ]
    },
    {
      "cell_type": "code",
      "source": [
        "d4={$: \"sush\"} #special characters cannot be used\n",
        "d4"
      ],
      "metadata": {
        "colab": {
          "base_uri": "https://localhost:8080/",
          "height": 133
        },
        "id": "HEQyZ-ys38ew",
        "outputId": "2b8b7eb6-a01e-4618-cc03-c41a6351d7d5"
      },
      "execution_count": null,
      "outputs": [
        {
          "output_type": "error",
          "ename": "SyntaxError",
          "evalue": "ignored",
          "traceback": [
            "\u001b[0;36m  File \u001b[0;32m\"<ipython-input-38-a39c280ca304>\"\u001b[0;36m, line \u001b[0;32m1\u001b[0m\n\u001b[0;31m    d4={$: \"sush\"}\u001b[0m\n\u001b[0m        ^\u001b[0m\n\u001b[0;31mSyntaxError\u001b[0m\u001b[0;31m:\u001b[0m invalid syntax\n"
          ]
        }
      ]
    },
    {
      "cell_type": "code",
      "source": [
        "d5={[1,2,3,4]: \"sush\"} #list cannot be used as key\n",
        "d5"
      ],
      "metadata": {
        "colab": {
          "base_uri": "https://localhost:8080/",
          "height": 188
        },
        "id": "2yu1PtCi4G9B",
        "outputId": "a29bcb17-4d58-402f-c824-04982d30a795"
      },
      "execution_count": null,
      "outputs": [
        {
          "output_type": "error",
          "ename": "TypeError",
          "evalue": "ignored",
          "traceback": [
            "\u001b[0;31m---------------------------------------------------------------------------\u001b[0m",
            "\u001b[0;31mTypeError\u001b[0m                                 Traceback (most recent call last)",
            "\u001b[0;32m<ipython-input-39-dd67018ba233>\u001b[0m in \u001b[0;36m<module>\u001b[0;34m\u001b[0m\n\u001b[0;32m----> 1\u001b[0;31m \u001b[0md5\u001b[0m\u001b[0;34m=\u001b[0m\u001b[0;34m{\u001b[0m\u001b[0;34m[\u001b[0m\u001b[0;36m1\u001b[0m\u001b[0;34m,\u001b[0m\u001b[0;36m2\u001b[0m\u001b[0;34m,\u001b[0m\u001b[0;36m3\u001b[0m\u001b[0;34m,\u001b[0m\u001b[0;36m4\u001b[0m\u001b[0;34m]\u001b[0m\u001b[0;34m:\u001b[0m \u001b[0;34m\"sush\"\u001b[0m\u001b[0;34m}\u001b[0m\u001b[0;34m\u001b[0m\u001b[0;34m\u001b[0m\u001b[0m\n\u001b[0m\u001b[1;32m      2\u001b[0m \u001b[0md5\u001b[0m\u001b[0;34m\u001b[0m\u001b[0;34m\u001b[0m\u001b[0m\n",
            "\u001b[0;31mTypeError\u001b[0m: unhashable type: 'list'"
          ]
        }
      ]
    },
    {
      "cell_type": "code",
      "source": [
        "d6={(1,2,3,4): \"sush\"} #tuples can be used as key as tuples is immutable\n",
        "d6"
      ],
      "metadata": {
        "colab": {
          "base_uri": "https://localhost:8080/"
        },
        "id": "lRyc-tF94Sr-",
        "outputId": "9ed23afd-899b-40b7-d15e-d48fe4942f52"
      },
      "execution_count": null,
      "outputs": [
        {
          "output_type": "execute_result",
          "data": {
            "text/plain": [
              "{(1, 2, 3, 4): 'sush'}"
            ]
          },
          "metadata": {},
          "execution_count": 40
        }
      ]
    },
    {
      "cell_type": "code",
      "source": [
        "d7={\"name\": \"sushital\", \"org\": \"mcelroy\",\"mail id\": \"sroy@mcelroy.com\",\"name\": \"sush\"} \n",
        "d7 #in case same key name, it will take the latest key name so key name cannot be duplicate"
      ],
      "metadata": {
        "colab": {
          "base_uri": "https://localhost:8080/"
        },
        "id": "09P2squP4kdq",
        "outputId": "9a291426-ac1a-44e1-ee08-fa1c567ea49b"
      },
      "execution_count": null,
      "outputs": [
        {
          "output_type": "execute_result",
          "data": {
            "text/plain": [
              "{'name': 'sush', 'org': 'mcelroy', 'mail id': 'sroy@mcelroy.com'}"
            ]
          },
          "metadata": {},
          "execution_count": 43
        }
      ]
    },
    {
      "cell_type": "code",
      "source": [
        "d8={\"name\":\"sush\",\"student\": {\"fsds\": \"sushital\",\"fsda\":\"fazil\",\"bigdata\":\"shaik\"}}\n",
        "d8"
      ],
      "metadata": {
        "colab": {
          "base_uri": "https://localhost:8080/"
        },
        "id": "bje3LThb8Xzi",
        "outputId": "b71aec07-c3ba-4857-b9d3-48a6e7e61df2"
      },
      "execution_count": null,
      "outputs": [
        {
          "output_type": "execute_result",
          "data": {
            "text/plain": [
              "{'name': 'sush',\n",
              " 'student': {'fsds': 'sushital', 'fsda': 'fazil', 'bigdata': 'shaik'}}"
            ]
          },
          "metadata": {},
          "execution_count": 45
        }
      ]
    },
    {
      "cell_type": "code",
      "source": [
        "d7"
      ],
      "metadata": {
        "colab": {
          "base_uri": "https://localhost:8080/"
        },
        "id": "XcQODTVM83qn",
        "outputId": "db6408fe-754d-4465-d981-ce9cbbd2bfea"
      },
      "execution_count": null,
      "outputs": [
        {
          "output_type": "execute_result",
          "data": {
            "text/plain": [
              "{'name': 'sush', 'org': 'mcelroy', 'mail id': 'sroy@mcelroy.com'}"
            ]
          },
          "metadata": {},
          "execution_count": 46
        }
      ]
    },
    {
      "cell_type": "code",
      "source": [
        "d7['mail id'] #this way we can call the key from the dictioinary"
      ],
      "metadata": {
        "colab": {
          "base_uri": "https://localhost:8080/",
          "height": 36
        },
        "id": "bfK60Jmn86k9",
        "outputId": "766b03a4-7f94-4331-b888-193961bce0f0"
      },
      "execution_count": null,
      "outputs": [
        {
          "output_type": "execute_result",
          "data": {
            "text/plain": [
              "'sroy@mcelroy.com'"
            ],
            "application/vnd.google.colaboratory.intrinsic+json": {
              "type": "string"
            }
          },
          "metadata": {},
          "execution_count": 49
        }
      ]
    },
    {
      "cell_type": "code",
      "source": [
        "d8['student']['bigdata'] #this way we can call dictionary from inside a dictionary"
      ],
      "metadata": {
        "colab": {
          "base_uri": "https://localhost:8080/",
          "height": 36
        },
        "id": "TIRFBK8r9QB0",
        "outputId": "9dc47b16-7a0a-4cf5-f6ad-c50e628e2b1e"
      },
      "execution_count": null,
      "outputs": [
        {
          "output_type": "execute_result",
          "data": {
            "text/plain": [
              "'shaik'"
            ],
            "application/vnd.google.colaboratory.intrinsic+json": {
              "type": "string"
            }
          },
          "metadata": {},
          "execution_count": 53
        }
      ]
    },
    {
      "cell_type": "code",
      "source": [
        "d7"
      ],
      "metadata": {
        "colab": {
          "base_uri": "https://localhost:8080/"
        },
        "id": "Uum2eMKy-Na8",
        "outputId": "162a6c41-f452-487e-fdec-638d38668519"
      },
      "execution_count": null,
      "outputs": [
        {
          "output_type": "execute_result",
          "data": {
            "text/plain": [
              "{'name': 'sush', 'org': 'mcelroy', 'mail id': 'sroy@mcelroy.com'}"
            ]
          },
          "metadata": {},
          "execution_count": 54
        }
      ]
    },
    {
      "cell_type": "code",
      "source": [
        "d7.keys() # this way we can call the keys from the dictionary"
      ],
      "metadata": {
        "colab": {
          "base_uri": "https://localhost:8080/"
        },
        "id": "Ozvyqti4-Qvo",
        "outputId": "7b0bbb8a-3898-4a6b-d4a7-db657c91486e"
      },
      "execution_count": null,
      "outputs": [
        {
          "output_type": "execute_result",
          "data": {
            "text/plain": [
              "dict_keys(['name', 'org', 'mail id'])"
            ]
          },
          "metadata": {},
          "execution_count": 56
        }
      ]
    },
    {
      "cell_type": "code",
      "source": [
        "list(d7.keys()) #this way we can change the keys to list"
      ],
      "metadata": {
        "colab": {
          "base_uri": "https://localhost:8080/"
        },
        "id": "Ub-8eAFJ-dgy",
        "outputId": "b70731fa-d125-4199-b1ab-0494589df9f0"
      },
      "execution_count": null,
      "outputs": [
        {
          "output_type": "execute_result",
          "data": {
            "text/plain": [
              "['name', 'org', 'mail id']"
            ]
          },
          "metadata": {},
          "execution_count": 57
        }
      ]
    },
    {
      "cell_type": "code",
      "source": [
        "d7.values() #this way we can get the values of the keys"
      ],
      "metadata": {
        "colab": {
          "base_uri": "https://localhost:8080/"
        },
        "id": "vk72KnIU-rrV",
        "outputId": "2c3ac6ae-1db5-4f8c-9b68-eb5c2007d469"
      },
      "execution_count": null,
      "outputs": [
        {
          "output_type": "execute_result",
          "data": {
            "text/plain": [
              "dict_values(['sush', 'mcelroy', 'sroy@mcelroy.com'])"
            ]
          },
          "metadata": {},
          "execution_count": 58
        }
      ]
    },
    {
      "cell_type": "code",
      "source": [
        "d7.items() # key value pair"
      ],
      "metadata": {
        "colab": {
          "base_uri": "https://localhost:8080/"
        },
        "id": "6py2Et3i-yIE",
        "outputId": "3c01ff4b-5704-45b7-e622-51d2196593e3"
      },
      "execution_count": null,
      "outputs": [
        {
          "output_type": "execute_result",
          "data": {
            "text/plain": [
              "dict_items([('name', 'sush'), ('org', 'mcelroy'), ('mail id', 'sroy@mcelroy.com')])"
            ]
          },
          "metadata": {},
          "execution_count": 59
        }
      ]
    },
    {
      "cell_type": "code",
      "source": [
        "d8"
      ],
      "metadata": {
        "colab": {
          "base_uri": "https://localhost:8080/"
        },
        "id": "zmOlJtzf-_F-",
        "outputId": "3ce20b28-ebe3-4842-8dc1-939e7b3ea3dd"
      },
      "execution_count": null,
      "outputs": [
        {
          "output_type": "execute_result",
          "data": {
            "text/plain": [
              "{'name': 'sush',\n",
              " 'student': {'fsds': 'sushital', 'fsda': 'fazil', 'bigdata': 'shaik'}}"
            ]
          },
          "metadata": {},
          "execution_count": 60
        }
      ]
    },
    {
      "cell_type": "code",
      "source": [
        "list(d8['student'].values())"
      ],
      "metadata": {
        "colab": {
          "base_uri": "https://localhost:8080/"
        },
        "id": "kUOJ9u-H_Czw",
        "outputId": "0cbc7b8a-5dc0-4b4f-d621-8909ddc7f169"
      },
      "execution_count": null,
      "outputs": [
        {
          "output_type": "execute_result",
          "data": {
            "text/plain": [
              "['sushital', 'fazil', 'shaik']"
            ]
          },
          "metadata": {},
          "execution_count": 62
        }
      ]
    },
    {
      "cell_type": "code",
      "source": [
        "l=[]\n",
        "for i in d8.keys():\n",
        "  if type(d8[i])==dict:\n",
        "    l.append (list(d8[i].values()))\n",
        "\n",
        "l"
      ],
      "metadata": {
        "colab": {
          "base_uri": "https://localhost:8080/"
        },
        "id": "5e00xHcH_hnR",
        "outputId": "2bfcec19-0b85-42e3-ccd3-62cc33282445"
      },
      "execution_count": null,
      "outputs": [
        {
          "output_type": "execute_result",
          "data": {
            "text/plain": [
              "[['sushital', 'fazil', 'shaik']]"
            ]
          },
          "metadata": {},
          "execution_count": 66
        }
      ]
    },
    {
      "cell_type": "code",
      "source": [
        "d9={\"name\":\"sush\",\"student\": {\"fsds\": \"sushital\",\"fsda\":\"fazil\",\"bigdata\":\"shaik\"},\"mail id\": {\"sushital\": \"sroy@mcelroy.com\", \"fazil\": \"mfazil@mcelroy.com\",\"shaik\": \"mshaik@mcelroy.com\"}}"
      ],
      "metadata": {
        "id": "Y35PrGVcAIGB"
      },
      "execution_count": null,
      "outputs": []
    },
    {
      "cell_type": "code",
      "source": [
        "d9"
      ],
      "metadata": {
        "colab": {
          "base_uri": "https://localhost:8080/"
        },
        "id": "Tx7t7JvKA9Nz",
        "outputId": "990109f1-94f9-449f-ac5d-e4af9fff4e9c"
      },
      "execution_count": null,
      "outputs": [
        {
          "output_type": "execute_result",
          "data": {
            "text/plain": [
              "{'name': 'sush',\n",
              " 'student': {'fsds': 'sushital', 'fsda': 'fazil', 'bigdata': 'shaik'},\n",
              " 'mail id': {'sushital': 'sroy@mcelroy.com',\n",
              "  'fazil': 'mfazil@mcelroy.com',\n",
              "  'shaik': 'mshaik@mcelroy.com'}}"
            ]
          },
          "metadata": {},
          "execution_count": 69
        }
      ]
    },
    {
      "cell_type": "code",
      "source": [
        "l=[]\n",
        "for i in d9.keys():\n",
        "  if type(d9[i])==dict:\n",
        "    l.append (list(d9[i].values()))"
      ],
      "metadata": {
        "id": "rGWGs8W8BAdX"
      },
      "execution_count": null,
      "outputs": []
    },
    {
      "cell_type": "code",
      "source": [
        "l"
      ],
      "metadata": {
        "colab": {
          "base_uri": "https://localhost:8080/"
        },
        "id": "IZsZ709kBMrx",
        "outputId": "c9aae444-b79d-402f-e53e-df341b2133bd"
      },
      "execution_count": null,
      "outputs": [
        {
          "output_type": "execute_result",
          "data": {
            "text/plain": [
              "[['sushital', 'fazil', 'shaik'],\n",
              " ['sroy@mcelroy.com', 'mfazil@mcelroy.com', 'mshaik@mcelroy.com']]"
            ]
          },
          "metadata": {},
          "execution_count": 71
        }
      ]
    },
    {
      "cell_type": "code",
      "source": [
        "def test9(d):\n",
        "  l=[]\n",
        "  for i in d9.keys():\n",
        "     if type(d9[i])==dict:\n",
        "       l.append (list(d9[i].values()))\n",
        "  return l"
      ],
      "metadata": {
        "id": "Z9ldloamBSFt"
      },
      "execution_count": null,
      "outputs": []
    },
    {
      "cell_type": "code",
      "source": [
        "test9(d8)"
      ],
      "metadata": {
        "colab": {
          "base_uri": "https://localhost:8080/"
        },
        "id": "JJ9r53MvBjTx",
        "outputId": "858a8623-a0ac-4fe1-f395-4b1685d3fc38"
      },
      "execution_count": null,
      "outputs": [
        {
          "output_type": "execute_result",
          "data": {
            "text/plain": [
              "[['sushital', 'fazil', 'shaik'],\n",
              " ['sroy@mcelroy.com', 'mfazil@mcelroy.com', 'mshaik@mcelroy.com']]"
            ]
          },
          "metadata": {},
          "execution_count": 73
        }
      ]
    },
    {
      "cell_type": "code",
      "source": [
        "test9(d9)"
      ],
      "metadata": {
        "colab": {
          "base_uri": "https://localhost:8080/"
        },
        "id": "iEEMrl1IBmgn",
        "outputId": "cd684963-d754-4dbd-a294-6253564efdb1"
      },
      "execution_count": null,
      "outputs": [
        {
          "output_type": "execute_result",
          "data": {
            "text/plain": [
              "[['sushital', 'fazil', 'shaik'],\n",
              " ['sroy@mcelroy.com', 'mfazil@mcelroy.com', 'mshaik@mcelroy.com']]"
            ]
          },
          "metadata": {},
          "execution_count": 74
        }
      ]
    },
    {
      "cell_type": "code",
      "source": [
        "d8[\"mobilenumber\"]=(7259111861)\n",
        "d8"
      ],
      "metadata": {
        "colab": {
          "base_uri": "https://localhost:8080/"
        },
        "id": "Pdh-bh4eBzoz",
        "outputId": "93905ec3-04e0-4651-9ba7-a0f878eeeaf0"
      },
      "execution_count": null,
      "outputs": [
        {
          "output_type": "execute_result",
          "data": {
            "text/plain": [
              "{'name': 'sush',\n",
              " 'student': {'fsds': 'sushital', 'fsda': 'fazil', 'bigdata': 'shaik'},\n",
              " 'mobilenumber': 7259111861}"
            ]
          },
          "metadata": {},
          "execution_count": 75
        }
      ]
    },
    {
      "cell_type": "code",
      "source": [
        "d8[\"name\"]=\"sushital roy\"\n",
        "d8"
      ],
      "metadata": {
        "colab": {
          "base_uri": "https://localhost:8080/"
        },
        "id": "LDfCwwyQB9C4",
        "outputId": "7fc9ebb8-fa9a-4720-e4ba-f6468cc9727e"
      },
      "execution_count": null,
      "outputs": [
        {
          "output_type": "execute_result",
          "data": {
            "text/plain": [
              "{'name': 'sushital roy',\n",
              " 'student': {'fsds': 'sushital', 'fsda': 'fazil', 'bigdata': 'shaik'},\n",
              " 'mobilenumber': 7259111861}"
            ]
          },
          "metadata": {},
          "execution_count": 77
        }
      ]
    },
    {
      "cell_type": "code",
      "source": [
        "d7"
      ],
      "metadata": {
        "colab": {
          "base_uri": "https://localhost:8080/"
        },
        "id": "AQIgf_yJCSf6",
        "outputId": "16afc874-825f-43f1-8486-b804439da4a0"
      },
      "execution_count": null,
      "outputs": [
        {
          "output_type": "execute_result",
          "data": {
            "text/plain": [
              "{'name': 'sush', 'org': 'mcelroy', 'mail id': 'sroy@mcelroy.com'}"
            ]
          },
          "metadata": {},
          "execution_count": 78
        }
      ]
    },
    {
      "cell_type": "code",
      "source": [
        "del d7"
      ],
      "metadata": {
        "id": "vuMyI8TJCViC"
      },
      "execution_count": null,
      "outputs": []
    },
    {
      "cell_type": "code",
      "source": [
        "d7"
      ],
      "metadata": {
        "colab": {
          "base_uri": "https://localhost:8080/",
          "height": 169
        },
        "id": "s9dLS_PHCX2B",
        "outputId": "1947e785-a021-4abe-d532-df54e4700ce8"
      },
      "execution_count": null,
      "outputs": [
        {
          "output_type": "error",
          "ename": "NameError",
          "evalue": "ignored",
          "traceback": [
            "\u001b[0;31m---------------------------------------------------------------------------\u001b[0m",
            "\u001b[0;31mNameError\u001b[0m                                 Traceback (most recent call last)",
            "\u001b[0;32m<ipython-input-80-b6bc3d73789f>\u001b[0m in \u001b[0;36m<module>\u001b[0;34m\u001b[0m\n\u001b[0;32m----> 1\u001b[0;31m \u001b[0md7\u001b[0m\u001b[0;34m\u001b[0m\u001b[0;34m\u001b[0m\u001b[0m\n\u001b[0m",
            "\u001b[0;31mNameError\u001b[0m: name 'd7' is not defined"
          ]
        }
      ]
    },
    {
      "cell_type": "code",
      "source": [
        "d8"
      ],
      "metadata": {
        "colab": {
          "base_uri": "https://localhost:8080/"
        },
        "id": "z2cGSqcvCaNK",
        "outputId": "67bbaf0c-ca6c-41e8-9182-c15d3aa2f7a5"
      },
      "execution_count": null,
      "outputs": [
        {
          "output_type": "execute_result",
          "data": {
            "text/plain": [
              "{'name': 'sushital roy',\n",
              " 'student': {'fsds': 'sushital', 'fsda': 'fazil', 'bigdata': 'shaik'},\n",
              " 'mobilenumber': 7259111861}"
            ]
          },
          "metadata": {},
          "execution_count": 81
        }
      ]
    },
    {
      "cell_type": "code",
      "source": [
        "d8"
      ],
      "metadata": {
        "colab": {
          "base_uri": "https://localhost:8080/"
        },
        "id": "T5VZsiISCcOC",
        "outputId": "57fbf955-2714-448a-dd59-8ed555df09f6"
      },
      "execution_count": null,
      "outputs": [
        {
          "output_type": "execute_result",
          "data": {
            "text/plain": [
              "{'mobilenumber': 7259111861}"
            ]
          },
          "metadata": {},
          "execution_count": 90
        }
      ]
    },
    {
      "cell_type": "code",
      "source": [
        "d8[\"name\"]=\"sushital\"\n",
        "d8"
      ],
      "metadata": {
        "colab": {
          "base_uri": "https://localhost:8080/"
        },
        "id": "MmsEBYF-C8Ul",
        "outputId": "b7979fab-a57c-4e0b-f728-4b90f4d03ef0"
      },
      "execution_count": null,
      "outputs": [
        {
          "output_type": "execute_result",
          "data": {
            "text/plain": [
              "{'mobilenumber': 7259111861,\n",
              " 'name': 'sushital',\n",
              " ('name', 'email id'): ('sushital', 'sroy@mcelroy.com')}"
            ]
          },
          "metadata": {},
          "execution_count": 97
        }
      ]
    },
    {
      "cell_type": "markdown",
      "source": [
        "## Function - example"
      ],
      "metadata": {
        "id": "RN4xzXj7EMJS"
      }
    },
    {
      "cell_type": "markdown",
      "source": [
        "``` \n",
        "input as a variable name \n",
        "\n",
        "```"
      ],
      "metadata": {
        "id": "aX6yjvhhEdO1"
      }
    },
    {
      "cell_type": "code",
      "source": [
        "def test10(**kwargs): #kwargs will be variable with value, Key value pair\n",
        "  return kwargs"
      ],
      "metadata": {
        "id": "esUOd8PgD4T-"
      },
      "execution_count": null,
      "outputs": []
    },
    {
      "cell_type": "code",
      "source": [
        "test10(a=4, b=5,c=6,sush=[1,2,3,4]) #result will be dictionary"
      ],
      "metadata": {
        "colab": {
          "base_uri": "https://localhost:8080/"
        },
        "id": "kay-dNv0EtEX",
        "outputId": "ead591af-4385-4916-e707-fd1b037ed2e3"
      },
      "execution_count": null,
      "outputs": [
        {
          "output_type": "execute_result",
          "data": {
            "text/plain": [
              "{'a': 4, 'b': 5, 'c': 6, 'sush': [1, 2, 3, 4]}"
            ]
          },
          "metadata": {},
          "execution_count": 102
        }
      ]
    },
    {
      "cell_type": "code",
      "source": [
        "def test11(**sush):\n",
        "  return sush"
      ],
      "metadata": {
        "id": "2fyUoefzFmIi"
      },
      "execution_count": null,
      "outputs": []
    },
    {
      "cell_type": "code",
      "source": [
        "test11(b=234, m=123)"
      ],
      "metadata": {
        "colab": {
          "base_uri": "https://localhost:8080/"
        },
        "id": "SC0-3F_jF8pE",
        "outputId": "68945380-8d02-43d8-f038-1e6fadfccf78"
      },
      "execution_count": null,
      "outputs": [
        {
          "output_type": "execute_result",
          "data": {
            "text/plain": [
              "{'b': 234, 'm': 123}"
            ]
          },
          "metadata": {},
          "execution_count": 105
        }
      ]
    },
    {
      "cell_type": "markdown",
      "source": [
        "## Function inside a Function"
      ],
      "metadata": {
        "id": "kGLCpor5Gf0x"
      }
    },
    {
      "cell_type": "code",
      "source": [
        "def test12(a):\n",
        "  return a\n",
        "\n",
        "def test13(b):\n",
        "  return b\n",
        "  \n",
        "def test14(func):\n",
        "  return func(\"sush\")"
      ],
      "metadata": {
        "id": "snEtgKYvGYPU"
      },
      "execution_count": null,
      "outputs": []
    },
    {
      "cell_type": "code",
      "source": [
        "test14(test12)"
      ],
      "metadata": {
        "colab": {
          "base_uri": "https://localhost:8080/",
          "height": 36
        },
        "id": "th94UTc9HARK",
        "outputId": "5c25fc6e-c683-4ae0-e54f-bc569e840231"
      },
      "execution_count": null,
      "outputs": [
        {
          "output_type": "execute_result",
          "data": {
            "text/plain": [
              "'sush'"
            ],
            "application/vnd.google.colaboratory.intrinsic+json": {
              "type": "string"
            }
          },
          "metadata": {},
          "execution_count": 115
        }
      ]
    },
    {
      "cell_type": "code",
      "source": [
        "test14(test13)"
      ],
      "metadata": {
        "colab": {
          "base_uri": "https://localhost:8080/",
          "height": 36
        },
        "id": "9_jvfp2VHh11",
        "outputId": "03bdea5f-9edd-47f0-ef58-619a325f894c"
      },
      "execution_count": null,
      "outputs": [
        {
          "output_type": "execute_result",
          "data": {
            "text/plain": [
              "'sush'"
            ],
            "application/vnd.google.colaboratory.intrinsic+json": {
              "type": "string"
            }
          },
          "metadata": {},
          "execution_count": 116
        }
      ]
    },
    {
      "cell_type": "code",
      "source": [
        "def test12(a):\n",
        "  return a\n",
        "\n",
        "def test13(*args): #with *args we can call any input\n",
        "  return \"sush\"\n",
        "  \n",
        "def test14(func):\n",
        "  return func(\"sush\")"
      ],
      "metadata": {
        "id": "V-L8fiCXHwQj"
      },
      "execution_count": null,
      "outputs": []
    },
    {
      "cell_type": "code",
      "source": [
        "test14(test12)"
      ],
      "metadata": {
        "colab": {
          "base_uri": "https://localhost:8080/",
          "height": 36
        },
        "id": "vecGzTbzH0l8",
        "outputId": "defb11fe-197e-4260-d095-898f03e3caf3"
      },
      "execution_count": null,
      "outputs": [
        {
          "output_type": "execute_result",
          "data": {
            "text/plain": [
              "'sush'"
            ],
            "application/vnd.google.colaboratory.intrinsic+json": {
              "type": "string"
            }
          },
          "metadata": {},
          "execution_count": 122
        }
      ]
    },
    {
      "cell_type": "code",
      "source": [
        "test14(test13)"
      ],
      "metadata": {
        "colab": {
          "base_uri": "https://localhost:8080/",
          "height": 36
        },
        "id": "ErkRObg0IBYG",
        "outputId": "e9ebdbab-70e8-4a25-f722-913e7dc0f3c5"
      },
      "execution_count": null,
      "outputs": [
        {
          "output_type": "execute_result",
          "data": {
            "text/plain": [
              "'sush'"
            ],
            "application/vnd.google.colaboratory.intrinsic+json": {
              "type": "string"
            }
          },
          "metadata": {},
          "execution_count": 127
        }
      ]
    },
    {
      "cell_type": "code",
      "source": [
        "def test15(a): \n",
        "  print(\"this is my test15\")\n",
        "\n",
        "  def test16():\n",
        "    print(\"this is my test16\")\n",
        "  \n",
        "  def test17():\n",
        "    print(\"this is my test17\")\n",
        "\n",
        "  if a==\"sush\":\n",
        "    return test16()\n",
        "  elif a==\"roy\":\n",
        "    return test17()"
      ],
      "metadata": {
        "id": "JwCOFgiRI2y2"
      },
      "execution_count": null,
      "outputs": []
    },
    {
      "cell_type": "code",
      "source": [
        "test15(\"roy\") "
      ],
      "metadata": {
        "colab": {
          "base_uri": "https://localhost:8080/"
        },
        "id": "qenF6e9EJLlU",
        "outputId": "8b6a7bfb-c14a-4ffb-eabf-c800bbb214f1"
      },
      "execution_count": null,
      "outputs": [
        {
          "output_type": "stream",
          "name": "stdout",
          "text": [
            "this is my test15\n",
            "this is my test17\n"
          ]
        }
      ]
    },
    {
      "cell_type": "code",
      "source": [
        "test15(\"sush\")"
      ],
      "metadata": {
        "colab": {
          "base_uri": "https://localhost:8080/"
        },
        "id": "NiZGjgI2JfY0",
        "outputId": "07b53e82-33e9-445e-9285-a295d91044a6"
      },
      "execution_count": null,
      "outputs": [
        {
          "output_type": "stream",
          "name": "stdout",
          "text": [
            "this is my test15\n",
            "this is my test16\n"
          ]
        }
      ]
    },
    {
      "cell_type": "code",
      "source": [
        "def test13(*args):\n",
        "  print(\"this is a return of test13\")"
      ],
      "metadata": {
        "id": "lZythwoOLEKF"
      },
      "execution_count": null,
      "outputs": []
    },
    {
      "cell_type": "code",
      "source": [
        "def test18(func): \n",
        "  def test19():\n",
        "    print(\"i am inside test19\")\n",
        "    func()\n",
        "  return test19()"
      ],
      "metadata": {
        "id": "nyqhmH_2KcDU"
      },
      "execution_count": null,
      "outputs": []
    },
    {
      "cell_type": "code",
      "source": [
        "test18(test13)"
      ],
      "metadata": {
        "colab": {
          "base_uri": "https://localhost:8080/"
        },
        "id": "Nrs6CXNJKy1a",
        "outputId": "77f5f61b-8b53-49f8-c65a-cc1e4b3782f6"
      },
      "execution_count": null,
      "outputs": [
        {
          "output_type": "stream",
          "name": "stdout",
          "text": [
            "i am inside test19\n",
            "this is a return of test13\n"
          ]
        }
      ]
    },
    {
      "cell_type": "markdown",
      "source": [
        "## Decorator"
      ],
      "metadata": {
        "id": "NBjo8XpgNhX2"
      }
    },
    {
      "cell_type": "code",
      "source": [
        "import os\n",
        "def test18(func): \n",
        "  def test19():\n",
        "    print(\"i am inside test19 and this will behave a decorator to any function that i am going to call\")\n",
        "    print(os.getcwd())\n",
        "    func()\n",
        "  return test19"
      ],
      "metadata": {
        "id": "x4ifAzYiLqar"
      },
      "execution_count": null,
      "outputs": []
    },
    {
      "cell_type": "code",
      "source": [
        "@test18\n",
        "def test20():\n",
        "  print(\"this is my test20\")\n",
        "test20()"
      ],
      "metadata": {
        "colab": {
          "base_uri": "https://localhost:8080/"
        },
        "id": "_SMBJCeb8MvC",
        "outputId": "9a58028c-b39e-496f-bfc0-0fe0732ffbab"
      },
      "execution_count": null,
      "outputs": [
        {
          "output_type": "stream",
          "name": "stdout",
          "text": [
            "i am inside test19 and this will behave a decorator to any function that i am going to call\n",
            "/content\n",
            "this is my test20\n"
          ]
        }
      ]
    },
    {
      "cell_type": "code",
      "source": [
        "test18(test20)"
      ],
      "metadata": {
        "colab": {
          "base_uri": "https://localhost:8080/"
        },
        "id": "-1oiHMn78hY0",
        "outputId": "a9cf644b-bdb1-455c-e6aa-7572bec0c20e"
      },
      "execution_count": null,
      "outputs": [
        {
          "output_type": "stream",
          "name": "stdout",
          "text": [
            "i am inside test19 and this will behave a decorator to any function that i am going to call\n",
            "this is my test20\n"
          ]
        }
      ]
    },
    {
      "cell_type": "code",
      "source": [
        "def test20(func):\n",
        "  def test21():\n",
        "    func()\n",
        "    print(os.getcwd())\n",
        "  return test21"
      ],
      "metadata": {
        "id": "YN1lvX_R9x1l"
      },
      "execution_count": null,
      "outputs": []
    },
    {
      "cell_type": "code",
      "source": [
        "@test20 #this way we have to use decorator\n",
        "@test18\n",
        "def test22():\n",
        "  print(\"this will print inside test22\")"
      ],
      "metadata": {
        "id": "9knXeJyi-BOS"
      },
      "execution_count": null,
      "outputs": []
    },
    {
      "cell_type": "code",
      "source": [
        "test22()"
      ],
      "metadata": {
        "colab": {
          "base_uri": "https://localhost:8080/"
        },
        "id": "VVPhy4KF-Gy6",
        "outputId": "c50bc4b4-02e8-43ad-8936-b8692106330e"
      },
      "execution_count": null,
      "outputs": [
        {
          "output_type": "stream",
          "name": "stdout",
          "text": [
            "i am inside test19 and this will behave a decorator to any function that i am going to call\n",
            "/content\n",
            "this will print inside test22\n",
            "/content\n"
          ]
        }
      ]
    },
    {
      "cell_type": "code",
      "source": [
        "import time\n",
        "\n",
        "start=time.time()\n",
        "print(\"hello\")\n",
        "end=time.time()\n",
        "print(end - start)"
      ],
      "metadata": {
        "colab": {
          "base_uri": "https://localhost:8080/"
        },
        "id": "_cPid4Ia-6D6",
        "outputId": "0e5a196d-f4e2-4955-ad09-7f0f82c8c994"
      },
      "execution_count": null,
      "outputs": [
        {
          "output_type": "stream",
          "name": "stdout",
          "text": [
            "hello\n",
            "0.002326488494873047\n"
          ]
        }
      ]
    },
    {
      "cell_type": "code",
      "source": [
        "def test25(func):\n",
        "  def test26():\n",
        "    print(\"this will give you execution time of a function\")\n",
        "    start=time.time()\n",
        "    func()\n",
        "    end=time.time()\n",
        "    print(end-start)\n",
        "  return test26"
      ],
      "metadata": {
        "id": "7FNSMgf3_kO6"
      },
      "execution_count": null,
      "outputs": []
    },
    {
      "cell_type": "code",
      "source": [
        "@test25\n",
        "def test27():\n",
        "  \"\"\"\n",
        "  this is function which will take a decorator for calculation a execution timing of a function\n",
        "  \"\"\"\n",
        "  l=[4,5,6,7,8,8]\n",
        "  l1=[]\n",
        "  for i in l: \n",
        "    if type(i)==int:\n",
        "      l1.append(i)\n",
        "  return l1\n",
        "  \n"
      ],
      "metadata": {
        "id": "eR80FYYJAH0g"
      },
      "execution_count": null,
      "outputs": []
    },
    {
      "cell_type": "code",
      "source": [
        "test27()"
      ],
      "metadata": {
        "colab": {
          "base_uri": "https://localhost:8080/"
        },
        "id": "IH-xub_6AhTZ",
        "outputId": "11a9f1ca-197b-433b-a919-8e004060c34e"
      },
      "execution_count": null,
      "outputs": [
        {
          "output_type": "stream",
          "name": "stdout",
          "text": [
            "this will give you execution time of a function\n",
            "5.245208740234375e-06\n"
          ]
        }
      ]
    },
    {
      "cell_type": "code",
      "source": [],
      "metadata": {
        "id": "cda9o_IpB1lo"
      },
      "execution_count": null,
      "outputs": []
    }
  ],
  "metadata": {
    "colab": {
      "provenance": [],
      "collapsed_sections": [
        "34OSVY0f5y0X",
        "rcL-rce2JFaI",
        "bEO341T9WK79",
        "SNuL8miFPvVs",
        "UOurCGRFToAe",
        "CAUpeDgCVMP4",
        "B4Ww2d7srnqe",
        "1JwYU6kKuL7A",
        "BT2WKEq1wHCX",
        "B9VIvOdU4rJc"
      ]
    },
    "kernelspec": {
      "display_name": "Python 3",
      "name": "python3"
    },
    "language_info": {
      "name": "python"
    }
  },
  "nbformat": 4,
  "nbformat_minor": 0
}